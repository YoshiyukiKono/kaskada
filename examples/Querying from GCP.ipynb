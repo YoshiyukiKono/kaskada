{
 "cells": [
  {
   "cell_type": "markdown",
   "id": "85734aa3",
   "metadata": {},
   "source": [
    "# Reading from GCP\n",
    "\n",
    "Kaskada is built to read from GCP using the [object store crate](https://crates.io/crates/object_store). The crate allows us to read from S3, Azure, and GCP without duplicating code. The goal of this notebook is to demonstrate reading data from GCP using a service account.\n",
    "\n",
    "\n",
    "## Details\n",
    "* Kaskada will initialize the reader (AWS + GCP) from the local environment. **Authorized access must be accessible from the environment variables**. See: [GCP](https://docs.rs/object_store/0.5.6/object_store/gcp/struct.GoogleCloudStorageBuilder.html#method.from_env) and [AWS](https://docs.rs/object_store/0.5.6/object_store/aws/struct.AmazonS3Builder.html#method.from_env) for more info.\n",
    "* Using the Python library to spin up Kaskada using the `LocalBuilder` will require the environment variables set prior to initialization. The `os.environ` API should work.\n",
    "* Kaskada will support CSV and Parquet.\n",
    "\n",
    "\n",
    "## Example\n",
    "The included example will attempt to read from Google Cloud Platform from Google Storage. To use this notebook, you will need to update the following variables:\n",
    "* `path_to_service_account_json` - The absolute path to the service account JSON file with access to the target file.\n",
    "* `file_key` - The key to the object in the form of `gs://<bucket>/<path_to_file>`."
   ]
  },
  {
   "cell_type": "code",
   "execution_count": null,
   "id": "dd4a8f3b",
   "metadata": {},
   "outputs": [],
   "source": [
    "path_to_service_account_json = '/Users/test_account/Desktop/service_account.json'\n",
    "file_key = 'gs://my-bucket/test.parquet'"
   ]
  },
  {
   "cell_type": "code",
   "execution_count": null,
   "id": "f46b5432",
   "metadata": {},
   "outputs": [],
   "source": [
    "import os\n",
    "os.environ['GOOGLE_SERVICE_ACCOUNT_PATH'] = path_to_service_account_json"
   ]
  },
  {
   "cell_type": "code",
   "execution_count": null,
   "id": "8b2014ad",
   "metadata": {},
   "outputs": [],
   "source": [
    "from kaskada.api.session import LocalBuilder\n",
    "session = LocalBuilder().download(False).build()"
   ]
  },
  {
   "cell_type": "code",
   "execution_count": null,
   "id": "918c78d8",
   "metadata": {},
   "outputs": [],
   "source": [
    "import kaskada.table\n",
    "# Create the table named transactions with the time and name column\n",
    "kaskada.table.create_table('transactions', 'time', 'name')"
   ]
  },
  {
   "cell_type": "code",
   "execution_count": null,
   "id": "000eb9e9",
   "metadata": {},
   "outputs": [],
   "source": [
    "kaskada.table.load(\"transactions\", file_key)"
   ]
  },
  {
   "cell_type": "code",
   "execution_count": null,
   "id": "d263e7aa",
   "metadata": {},
   "outputs": [],
   "source": [
    "%load_ext fenlmagic"
   ]
  },
  {
   "cell_type": "code",
   "execution_count": null,
   "id": "a9e6bd85",
   "metadata": {},
   "outputs": [],
   "source": [
    "%%fenl\n",
    "transactions"
   ]
  },
  {
   "cell_type": "code",
   "execution_count": null,
   "id": "8f6255df",
   "metadata": {},
   "outputs": [],
   "source": []
  }
 ],
 "metadata": {
  "kernelspec": {
   "display_name": "Python 3 (ipykernel)",
   "language": "python",
   "name": "python3"
  },
  "language_info": {
   "codemirror_mode": {
    "name": "ipython",
    "version": 3
   },
   "file_extension": ".py",
   "mimetype": "text/x-python",
   "name": "python",
   "nbconvert_exporter": "python",
   "pygments_lexer": "ipython3",
   "version": "3.8.16"
  }
 },
 "nbformat": 4,
 "nbformat_minor": 5
}
