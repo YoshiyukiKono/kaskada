{
 "cells": [
  {
   "attachments": {},
   "cell_type": "markdown",
   "id": "5a20a51f",
   "metadata": {
    "id": "5a20a51f"
   },
   "source": [
    "# Kaskada: Event Processing and Time-centric Calculations\n",
    "\n",
    "Kaskada was built to process and perform temporal calculations on event streams,\n",
    "with real-time analytics and machine learning in mind. It is not exclusively for\n",
    "real-time applications, but Kaskada excels at time-centric computations and\n",
    "aggregations on event-based data.\n",
    "\n",
    "For example, let's say you're building a user analytics dashboard at an\n",
    "ecommerce retailer. You have event streams showing all actions the user has\n",
    "taken, and you'd like to include in the dashboard:\n",
    "* the total number of events the user has ever generated\n",
    "* the total number of purchases the user has made\n",
    "* the total revenue from the user\n",
    "* the number of purchases made by the user today\n",
    "* the total revenue from the user today\n",
    "* the number of events the user has generated in the past hour\n",
    "\n",
    "Because the calculations needed here are a mix of hourly, daily, and over all of\n",
    "history, more than one type of event aggregation needs to happen. Table-centric\n",
    "tools like those based on SQL would require multiple JOINs and window functions,\n",
    "which would be spread over multiple queries or CTEs. \n",
    "\n",
    "Kaskada was designed for these types of time-centric calculations, so we can do\n",
    "each of the calculations in the list in one line:\n",
    "\n",
    "```\n",
    "event_count_total: DemoEvents | count(),\n",
    "purchases_total_count: DemoEvents | when(DemoEvents.event_name == 'purchase') | count(),\n",
    "revenue_total: DemoEvents.revenue | sum(),\n",
    "purchases_daily: DemoEvents | when(DemoEvents.event_name == 'purchase') | count(window=since(daily())),\n",
    "revenue_daily: DemoEvents.revenue | sum(window=since(daily())),\n",
    "event_count_hourly: DemoEvents | count(window=since(hourly())),\n",
    "\n",
    "```\n",
    "\n",
    "Of course, a few more lines of code is needed to put these calculations to work,\n",
    "but these six lines are all that is needed to specify the calculations\n",
    "themselves. Each line may specify:\n",
    "* the name of a calculation (e.g. `event_count_total`)\n",
    "* the input data to start with (e.g. `DemoEvents`)\n",
    "* selecting event fields (e.g. `DemoEvents.revenue`)\n",
    "* function calls (e.g. `count()`)\n",
    "* event filtering (e.g. `when(DemoEvents.event_name == 'purchase')`)\n",
    "* time windows to calculate over (e.g. `window=since(daily())`)\n",
    "\n",
    "...with consecutive steps separated by a familiar pipe (`|`) notation.\n",
    "\n",
    "Because Kaskada was built for time-centric calculations on event-based data, a\n",
    "calculation we might describe as \"total number of purchase events for the user\"\n",
    "can be defined in Kaskada in roughly the same number of terms as the verbal\n",
    "description itself.\n",
    "\n",
    "Continue through the demo below to find out how it works.\n",
    "\n",
    "See [the Kaskada\n",
    "documentation](https://kaskada-ai.github.io/docs-site/kaskada/main/getting-started/installation.html)\n",
    "for lots more information."
   ]
  },
  {
   "attachments": {},
   "cell_type": "markdown",
   "id": "e06233eb",
   "metadata": {},
   "source": [
    "## Installation"
   ]
  },
  {
   "cell_type": "code",
   "execution_count": null,
   "id": "3bbe86c2",
   "metadata": {},
   "outputs": [],
   "source": [
    "# %pip install --upgrade pip\n",
    "# %pip install pandas matplotlib numpy StringIO\n",
    "# %pip install kaskada==0.1.1a7\n"
   ]
  },
  {
   "attachments": {},
   "cell_type": "markdown",
   "id": "BJ2EE9mSGtGB",
   "metadata": {
    "id": "BJ2EE9mSGtGB"
   },
   "source": [
    "## Kaskada Client Setup\n"
   ]
  },
  {
   "cell_type": "code",
   "execution_count": null,
   "id": "d818e1f1",
   "metadata": {},
   "outputs": [],
   "source": [
    "import kaskada.api.release as release\n",
    "from kaskada import table as ktable\n",
    "import os\n",
    "from getpass import getpass\n",
    "\n",
    "# at the moment, we need a Github Access Token\n",
    "# generate one from your Github account\n",
    "os.environ[release.ReleaseClient.GITHUB_ACCESS_TOKEN_ENV] = getpass(prompt='Github Access Token:')"
   ]
  },
  {
   "cell_type": "code",
   "execution_count": null,
   "id": "37db47ba",
   "metadata": {},
   "outputs": [],
   "source": [
    "from kaskada.api.session import LocalBuilder\n",
    "\n",
    "# start a Kaskada session\n",
    "session = LocalBuilder().build()\n",
    "\n",
    "# load the extension that parses Kaskada queries\n",
    "%reload_ext fenlmagic"
   ]
  },
  {
   "attachments": {},
   "cell_type": "markdown",
   "id": "8d3dc9d6",
   "metadata": {},
   "source": [
    "### Developer Notes on Session Builder"
   ]
  },
  {
   "attachments": {},
   "cell_type": "markdown",
   "id": "2c1c1448",
   "metadata": {},
   "source": [
    "The next version of Kaskada will use an API Session Builder to follow closely to PySpark's approach to local connections.\n",
    "\n",
    "####  Local Session Builder\n",
    "The default local session builder (`LocalBuilder`) by default assumes:\n",
    "* Endpoint: `localhost:50051` for the API server\n",
    "* Is Secure: `False`\n",
    "* Will spin up the API server and Compute Server binaries.\n",
    "  * Assumes Kaskada root is **~/.cache/kaskada**. Override by setting *KASKADA_PATH*\n",
    "  * Assumes the binaries are stored in *KASKADA_PATH/bin*. Override by setting *KASKADA_BIN_PATH* (default is bin)\n",
    "  * Assumes the logs are stored in *KASKADA_PATH/logs*. Override by setting *KASKADA_LOG_PATH* (default is logs)\n",
    "  \n",
    "Most people running locally will want to spin up the server locally by just using: `LocalBuilder().build()`."
   ]
  },
  {
   "attachments": {},
   "cell_type": "markdown",
   "id": "5b838eef",
   "metadata": {},
   "source": [
    "## Example dataset\n",
    "\n",
    "For this demo, we'll use a very small example data set, which, for simplicity and portability of this demo notebook, we'll read from a string.\n",
    "\n",
    "You can load your own event data from many common sources. See [the Loading Data\n",
    "documentation](https://kaskada-ai.github.io/docs-site/kaskada/main/loading-data.html)\n",
    "for more information."
   ]
  },
  {
   "cell_type": "code",
   "execution_count": null,
   "id": "ba4bb6b6",
   "metadata": {},
   "outputs": [],
   "source": [
    "from io import StringIO\n",
    "import pandas\n",
    "\n",
    "# For demo simplicity, instead of a CSV file, we read and then parse data from a\n",
    "# CSV string. Any event data in a dataframe will work.\n",
    "\n",
    "event_data_string = '''\n",
    "    event_id,event_at,entity_id,event_name,revenue\n",
    "    ev_00001,2022-01-01 22:01:00+00:00,user_001,login,0\n",
    "    ev_00002,2022-01-01 22:05:00+00:00,user_001,view_item,0\n",
    "    ev_00003,2022-01-01 22:20:00+00:00,user_001,view_item,0\n",
    "    ev_00004,2022-01-01 23:10:00+00:00,user_001,view_item,0\n",
    "    ev_00005,2022-01-01 23:20:00+00:00,user_001,view_item,0\n",
    "    ev_00006,2022-01-01 23:40:00+00:00,user_001,purchase,12.50\n",
    "    ev_00007,2022-01-01 23:45:00+00:00,user_001,view_item,0\n",
    "    ev_00008,2022-01-01 23:59:00+00:00,user_001,view_item,0\n",
    "    ev_00009,2022-01-02 05:30:00+00:00,user_001,login,0\n",
    "    ev_00010,2022-01-02 05:35:00+00:00,user_001,view_item,0\n",
    "    ev_00011,2022-01-02 05:45:00+00:00,user_001,view_item,0\n",
    "    ev_00012,2022-01-02 06:10:00+00:00,user_001,view_item,0\n",
    "    ev_00013,2022-01-02 06:15:00+00:00,user_001,view_item,0\n",
    "    ev_00014,2022-01-02 06:25:00+00:00,user_001,purchase,25\n",
    "    ev_00015,2022-01-02 06:30:00+00:00,user_001,view_item,0\n",
    "    ev_00016,2022-01-02 06:31:00+00:00,user_001,purchase,5.75\n",
    "    ev_00017,2022-01-02 07:01:00+00:00,user_001,view_item,0\n",
    "    ev_00018,2022-01-01 22:17:00+00:00,user_002,view_item,0\n",
    "    ev_00019,2022-01-01 22:18:00+00:00,user_002,view_item,0\n",
    "    ev_00020,2022-01-01 22:20:00+00:00,user_002,view_item,0\n",
    "'''\n",
    "\n",
    "event_stringio = StringIO(event_data_string)\n",
    "events_df = pandas.read_csv(event_stringio)\n",
    "\n",
    "# convert `event_at` column from string to datetime\n",
    "events_df['event_at'] = pandas.to_datetime(events_df['event_at'])\n",
    "events_df['event_at_epoch'] = events_df['event_at'].apply(lambda x: x.timestamp())\n"
   ]
  },
  {
   "cell_type": "code",
   "execution_count": null,
   "id": "d5de124a",
   "metadata": {},
   "outputs": [],
   "source": [
    "# inspect the event data in the dataframe\n",
    "events_df"
   ]
  },
  {
   "attachments": {},
   "cell_type": "markdown",
   "id": "8be9e971",
   "metadata": {},
   "source": [
    "## Load the data into Kaskada"
   ]
  },
  {
   "attachments": {},
   "cell_type": "markdown",
   "id": "fb6f6200",
   "metadata": {},
   "source": [
    "Kaskada uses a new model of event processing to do calculations temporally,\n",
    "unlike table-centric tools based on SQL. So, we need to load the data into\n",
    "Kaskada in order to perform the calculations we want.\n",
    "\n",
    "Once the Kaskada client is installed and imported as above, we can load the data\n",
    "by:\n",
    "* creating a table with `create_table`\n",
    "* loading it into Kaskada with `load_dataframe`"
   ]
  },
  {
   "cell_type": "code",
   "execution_count": null,
   "id": "ac8c8cff",
   "metadata": {},
   "outputs": [],
   "source": [
    "# delete an existing table, if needed\n",
    "# try:\n",
    "#   ktable.delete_table(\"DemoEvents\",\n",
    "#                       force=True)\n",
    "# except:\n",
    "#   pass\n",
    "\n",
    "\n",
    "ktable.create_table(\n",
    "  table_name = \"DemoEvents\",\n",
    "  entity_key_column_name = \"entity_id\",\n",
    "  time_column_name = \"event_at\",\n",
    ")\n",
    "\n",
    "# Upload the dataframe's contents to the Kaskada table\n",
    "ktable.load_dataframe(\"DemoEvents\",\n",
    "                      events_df)\n",
    "\n"
   ]
  },
  {
   "cell_type": "code",
   "execution_count": null,
   "id": "0d133488",
   "metadata": {},
   "outputs": [],
   "source": [
    "# check to confirm that the table exists\n",
    "ktable.list_tables()"
   ]
  },
  {
   "attachments": {},
   "cell_type": "markdown",
   "id": "568d1272",
   "metadata": {},
   "source": [
    "## Define queries and calculations"
   ]
  },
  {
   "attachments": {},
   "cell_type": "markdown",
   "id": "c2c5a298",
   "metadata": {},
   "source": [
    "Kaskada query language is parsed by the `fenl` extension. Query calculations are\n",
    "defined in a code blocks starting with `%%fenl`.\n",
    "\n",
    "See [the `fenl`\n",
    "documentation](https://kaskada-ai.github.io/docs-site/kaskada/main/fenl/fenl-quick-start.html)\n",
    "for more information.\n",
    "\n",
    "Let's do a simple query for events for a specific entity ID.\n"
   ]
  },
  {
   "cell_type": "code",
   "execution_count": null,
   "id": "bce22e47",
   "metadata": {},
   "outputs": [],
   "source": [
    "%%fenl\n",
    "\n",
    "DemoEvents | when(DemoEvents.entity_id == 'user_002')"
   ]
  },
  {
   "attachments": {},
   "cell_type": "markdown",
   "id": "7afaa9cc",
   "metadata": {},
   "source": [
    "When using the pipe notation, we can use `$input` to represent the thing being\n",
    "piped to a subsequent step."
   ]
  },
  {
   "cell_type": "code",
   "execution_count": null,
   "id": "2992d83d",
   "metadata": {},
   "outputs": [],
   "source": [
    "%%fenl\n",
    "\n",
    "DemoEvents | when($input.entity_id == 'user_002')"
   ]
  },
  {
   "attachments": {},
   "cell_type": "markdown",
   "id": "6b5f2725",
   "metadata": {},
   "source": [
    "\n",
    "Beyond querying for events, Kaskada has a powerful syntax for defining\n",
    "calculations on events, temporally across history.\n",
    "\n",
    "The six calculations discussed at the top of this demo notebook are below.\n",
    "\n",
    "(Note that some functions return `NaN` if no events for that user have occurred\n",
    "within the time window.)"
   ]
  },
  {
   "cell_type": "code",
   "execution_count": null,
   "id": "3ad6d596",
   "metadata": {},
   "outputs": [],
   "source": [
    "%%fenl\n",
    "\n",
    "{\n",
    "    event_count_total: DemoEvents | count(),\n",
    "    event_count_hourly: DemoEvents | count(window=since(hourly())),\n",
    "    purchases_total_count: DemoEvents | when(DemoEvents.event_name == 'purchase') | count(),\n",
    "    purchases_daily: DemoEvents | when(DemoEvents.event_name == 'purchase') | count(window=since(daily())),\n",
    "    revenue_daily: DemoEvents.revenue | sum(window=since(daily())),\n",
    "    revenue_total: DemoEvents.revenue | sum(),\n",
    "}\n",
    "| when(hourly())  # each row in the output represents one hour of time\n"
   ]
  },
  {
   "attachments": {},
   "cell_type": "markdown",
   "id": "1c315938",
   "metadata": {},
   "source": [
    "#### Trailing `when()` clause\n",
    "\n",
    "A key feature of Kaskada's time-centric design is the ability to query for\n",
    "calculation values at any point in time. Traditional query languages (e.g. SQL)\n",
    "can only return data that already exists---if we want to return a row of\n",
    "computed/aggregated data, we have to compute the row first, then return it. As a\n",
    "specific example, suppose we have SQL queries that produce daily aggregations\n",
    "over event data, and now we want to have the same aggregations on an hourly\n",
    "basis. In SQL, we would need to write new queries for hourly aggregations; the\n",
    "queries would look very similar to the daily ones, but they would still be\n",
    "different queries.\n",
    "\n",
    "With Kaskada, we can define the calculations once, and then separately specify\n",
    "the points in time at which we want to know the calculation values.\n",
    "\n",
    "Note the final line in the above query:\n",
    "```\n",
    "| when(hourly())\n",
    "```\n",
    "We call this a \"trailing `when`\" clause, and its purpose is to specify the time\n",
    "points you would like to see in the query results.\n",
    "\n",
    "Regardless of the time cadence of the calculations themselves, the query output\n",
    "can contain rows for whatever timepoints you specify. You can define a set of\n",
    "daily calculations and then get hourly updates during the day. Or, you can\n",
    "publish a set of calculations in a query view (see below), and different users\n",
    "can query those same calculations for hourly, daily, and monthly\n",
    "values---without editing the calculation definitions themselves.\n",
    "\n",
    "\n",
    "#### Adding more calculations to the query\n",
    "\n",
    "We can add two new calculations, also in one line each, representing:\n",
    "* the time of the user's first event\n",
    "* the time of the user's last event\n",
    "\n",
    "We can also add the parameter `--var event_calculations` to save the results\n",
    "into a python object called `event_calculations` that can be used in subsequent\n",
    "python code."
   ]
  },
  {
   "cell_type": "code",
   "execution_count": null,
   "id": "4785cdb2",
   "metadata": {},
   "outputs": [],
   "source": [
    "%%fenl --var event_calculations\n",
    "\n",
    "{\n",
    "    event_count_total: DemoEvents | count(),\n",
    "    event_count_hourly: DemoEvents | count(window=since(hourly())),\n",
    "    purchases_total_count: DemoEvents | when(DemoEvents.event_name == 'purchase') | count(),\n",
    "    purchases_daily: DemoEvents | when(DemoEvents.event_name == 'purchase') | count(window=since(daily())),\n",
    "    revenue_daily: DemoEvents.revenue | sum(window=since(daily())),\n",
    "    revenue_total: DemoEvents.revenue | sum(),\n",
    "    \n",
    "    first_event_at: DemoEvents.event_at | first(),\n",
    "    last_event_at: DemoEvents.event_at | last(),\n",
    "}\n",
    "| when(hourly())\n"
   ]
  },
  {
   "cell_type": "code",
   "execution_count": null,
   "id": "f966d56a",
   "metadata": {},
   "outputs": [],
   "source": [
    "# the object `event_calculations` has an attribute called `dataframe` can be\n",
    "# used like any other dataframe, for data exploration, visualization, analytics,\n",
    "# or machine learning.\n",
    "\n",
    "event_calculations.dataframe"
   ]
  },
  {
   "attachments": {},
   "cell_type": "markdown",
   "id": "2ba09e77-0fdf-43f4-960b-50a126262ec7",
   "metadata": {
    "id": "2ba09e77-0fdf-43f4-960b-50a126262ec7"
   },
   "source": [
    "This is only a small sample of possible Kaskada queries and capabilities. See\n",
    "[the `fenl`\n",
    "catalog](https://kaskada-ai.github.io/docs-site/kaskada/main/fenl/catalog.html)\n",
    "for a full list of functions and operators."
   ]
  },
  {
   "attachments": {},
   "cell_type": "markdown",
   "id": "3b31a82b-bcc2-468c-a624-3b8d94e12e12",
   "metadata": {
    "id": "3b31a82b-bcc2-468c-a624-3b8d94e12e12"
   },
   "source": [
    "## Publish Query Calculation Definintions as Views\n",
    "\n",
    "The definitions of your query calculations can be published in Kaskada and used\n",
    "elsewhere, including in other Kaskada queries."
   ]
  },
  {
   "cell_type": "code",
   "execution_count": null,
   "id": "eea827f1-f2f6-429a-934a-f00d2ad98bfd",
   "metadata": {
    "id": "eea827f1-f2f6-429a-934a-f00d2ad98bfd"
   },
   "outputs": [],
   "source": [
    "from kaskada import view as kview\n",
    "\n",
    "kview.create_view(\n",
    "  view_name = \"DemoFeatures\", \n",
    "  expression = event_calculations.expression,\n",
    ")"
   ]
  },
  {
   "cell_type": "code",
   "execution_count": null,
   "id": "b0ab9ac0-1d8b-464d-a85d-4780a36d1eb5",
   "metadata": {
    "id": "b0ab9ac0-1d8b-464d-a85d-4780a36d1eb5"
   },
   "outputs": [],
   "source": [
    "# list views with a search term\n",
    "kview.list_views(search = \"DemoFeatures\")"
   ]
  },
  {
   "attachments": {},
   "cell_type": "markdown",
   "id": "9d97de6f",
   "metadata": {},
   "source": [
    "We can query a published view just like we would any other dataset."
   ]
  },
  {
   "cell_type": "code",
   "execution_count": null,
   "id": "fd67666b",
   "metadata": {},
   "outputs": [],
   "source": [
    "%%fenl\n",
    "\n",
    "DemoFeatures | when($input.revenue_daily > 0)"
   ]
  }
 ],
 "metadata": {
  "colab": {
   "collapsed_sections": [
    "6924ca3e-28b3-4f93-b0cf-5f8afddc11d8",
    "936700a9-e042-401c-9156-7bb18652e109",
    "08f5921d-36dc-41d1-a2a6-ae800b7a11de"
   ],
   "private_outputs": true,
   "provenance": []
  },
  "kernelspec": {
   "display_name": "Python 3 (ipykernel)",
   "language": "python",
   "name": "python3"
  },
  "language_info": {
   "codemirror_mode": {
    "name": "ipython",
    "version": 3
   },
   "file_extension": ".py",
   "mimetype": "text/x-python",
   "name": "python",
   "nbconvert_exporter": "python",
   "pygments_lexer": "ipython3",
   "version": "3.8.10"
  }
 },
 "nbformat": 4,
 "nbformat_minor": 5
}
