{
 "cells": [
  {
   "cell_type": "code",
   "execution_count": 1,
   "id": "a46f1672",
   "metadata": {},
   "outputs": [
    {
     "name": "stderr",
     "output_type": "stream",
     "text": [
      "github.GithubException.UnknownObjectException: 404 {\"message\": \"Not Found\", \"documentation_url\": \"https://docs.github.com/rest/reference/repos#get-a-repository\"}\n"
     ]
    }
   ],
   "source": [
    "from kaskada.api.session import LocalBuilder\n",
    "\n",
    "session = LocalBuilder().build()"
   ]
  },
  {
   "cell_type": "code",
   "execution_count": 2,
   "id": "7db79330",
   "metadata": {},
   "outputs": [
    {
     "name": "stdout",
     "output_type": "stream",
     "text": [
      "\r\n",
      "\u001b[1m[\u001b[0m\u001b[34;49mnotice\u001b[0m\u001b[1;39;49m]\u001b[0m\u001b[39;49m A new release of pip available: \u001b[0m\u001b[31;49m22.3\u001b[0m\u001b[39;49m -> \u001b[0m\u001b[32;49m23.0.1\u001b[0m\r\n",
      "\u001b[1m[\u001b[0m\u001b[34;49mnotice\u001b[0m\u001b[1;39;49m]\u001b[0m\u001b[39;49m To update, run: \u001b[0m\u001b[32;49mpython3 -m pip install --upgrade pip\u001b[0m\r\n"
     ]
    }
   ],
   "source": [
    "!pip install -q kaskada==0.1.1a4"
   ]
  },
  {
   "cell_type": "code",
   "execution_count": 3,
   "id": "fc923c19",
   "metadata": {},
   "outputs": [
    {
     "name": "stdout",
     "output_type": "stream",
     "text": [
      "Github Access Token:········\n"
     ]
    }
   ],
   "source": [
    "import kaskada.api.release as release\n",
    "import os\n",
    "from getpass import getpass\n",
    "\n",
    "os.environ[release.ReleaseClient.GITHUB_ACCESS_TOKEN_ENV] = getpass(prompt='Github Access Token:')"
   ]
  },
  {
   "cell_type": "code",
   "execution_count": 4,
   "id": "91590e39",
   "metadata": {},
   "outputs": [
    {
     "name": "stdout",
     "output_type": "stream",
     "text": [
      "INFO:kaskada.api.release:Using latest release version: engine@v0.1.1\n",
      "INFO:kaskada.api.release:Skipping download. Using binary: /home/therapon/.cache/kaskada/bin/engine@v0.1.1/kaskada-engine\n",
      "INFO:kaskada.api.release:Skipping download. Using binary: /home/therapon/.cache/kaskada/bin/engine@v0.1.1/kaskada-manager\n",
      "INFO:kaskada.api.session:Initializing manager process\n",
      "INFO:kaskada.api.session:Initializing compute process\n",
      "INFO:kaskada.api.session:Successfully connected to session.\n"
     ]
    },
    {
     "data": {
      "text/html": [
       "<style>table.kda_table {\n",
       "    border: 1px solid grey !important;\n",
       "    border-collapse: collapse !important;\n",
       "    border-spacing: 0 !important;\n",
       "    font-size: 14px !important;\n",
       "    margin-bottom: 6px !important;\n",
       "}\n",
       "\n",
       "table.kda_table table {\n",
       "    margin-bottom: 0 !important;\n",
       "}\n",
       "\n",
       ".kda_table td, .kda_table th {\n",
       "    border: 1px solid grey !important;\n",
       "    border-collapse: collapse !important;\n",
       "    padding: 6px !important;\n",
       "    text-align: left !important;\n",
       "    vertical-align: top !important;\n",
       "}\n",
       "\n",
       ".kda_table tr {\n",
       "    background-color: inherit !important;\n",
       "}\n",
       "\n",
       "/* Style the tab */\n",
       ".kda_tab {\n",
       "    overflow: hidden;\n",
       "    border-bottom: 1px solid grey;\n",
       "    background-color: inherit;\n",
       "}\n",
       "\n",
       "/* Style the buttons that are used to open the tab content */\n",
       ".kda_tab button {\n",
       "    background-color: inherit;\n",
       "    border-top: 1px solid grey;\n",
       "    border-right: 1px solid grey;\n",
       "    border-left: 1px solid grey;\n",
       "    border-bottom: none;\n",
       "    border-radius: 5px 5px 0px 0px;\n",
       "    color: inherit;\n",
       "    cursor: pointer;\n",
       "    float: left;\n",
       "    margin: 2px 8px 0px 2px;\n",
       "    outline: none;\n",
       "    padding: 5px 16px;\n",
       "    transition: 0.3s;\n",
       "}\n",
       "\n",
       "/* Change background color of buttons on hover */\n",
       ".kda_tab button:hover {\n",
       "    background-color: grey;\n",
       "}\n",
       "\n",
       "/* Create an active/current tablink class */\n",
       ".kda_tab button.kda_active {\n",
       "    outline: 2px solid grey;\n",
       "}\n",
       "\n",
       "/* Style the tab content */\n",
       ".kda_tabcontent {\n",
       "    display: none;\n",
       "    padding: 6px;\n",
       "    border: 1px solid grey;\n",
       "    border-top: none;\n",
       "}\n",
       "\n",
       ".kda_scroll_container {\n",
       "    max-height: 400px;\n",
       "    overflow: auto;\n",
       "}\n",
       "</style>"
      ],
      "text/plain": [
       "<IPython.core.display.HTML object>"
      ]
     },
     "metadata": {},
     "output_type": "display_data"
    },
    {
     "data": {
      "text/html": [
       "<script type=\"text/javascript\">function openTab(evt, tabName) {\n",
       "    // Declare all variables\n",
       "    var i, rootElement, tabcontent, tablinks, tabshow;\n",
       "\n",
       "    // Get all elements with class=\"tabcontent\" and hide them\n",
       "    rootElement = evt.currentTarget.parentElement.parentElement;\n",
       "    tabcontent = rootElement.getElementsByClassName(\"kda_tabcontent\");\n",
       "    for (i = 0; i < tabcontent.length; i++) {\n",
       "        tabcontent[i].style.display = \"none\";\n",
       "    }\n",
       "\n",
       "    // Get all elements with class=\"tablinks\" and remove the class \"active\"\n",
       "    tablinks = rootElement.getElementsByClassName(\"kda_tablinks\");\n",
       "    for (i = 0; i < tablinks.length; i++) {\n",
       "        tablinks[i].className = tablinks[i].className.replace(\" kda_active\", \"\");\n",
       "    }\n",
       "\n",
       "    // Show the current tab, and add an \"active\" class to the button that opened the tab\n",
       "    tabshow = rootElement.getElementsByClassName(tabName);\n",
       "    for (i = 0; i < tabshow.length; i++) {\n",
       "        tabshow[i].style.display = \"block\";\n",
       "    }\n",
       "    evt.currentTarget.className += \" kda_active\";\n",
       "}\n",
       "</script>"
      ],
      "text/plain": [
       "<IPython.core.display.HTML object>"
      ]
     },
     "metadata": {},
     "output_type": "display_data"
    }
   ],
   "source": [
    "from kaskada.api.session import LocalBuilder\n",
    "\n",
    "session = LocalBuilder().build()"
   ]
  },
  {
   "cell_type": "code",
   "execution_count": 5,
   "id": "b046e179",
   "metadata": {},
   "outputs": [
    {
     "data": {
      "text/html": [
       "<div><div class=\"kda_tab\"><button class=\"kda_tablinks kda_active\" onclick=\"openTab(event, 'details')\">Details</button><button class=\"kda_tablinks\" onclick=\"openTab(event, 'raw')\">Raw</button></div><div class=\"details kda_tabcontent\" style=\"display:block;\"><div class=\"kda_scroll_container\"><table class=\"kda_table\"><tr><td><b>table</b></td><td><table class=\"kda_table\"><tr><td><b>table_name</b></td><td><pre>transactions</pre></td></tr><tr><td><b>entity_key_column_name</b></td><td><pre>id</pre></td></tr><tr><td><b>time_column_name</b></td><td><pre>transaction_time</pre></td></tr><tr><td><b>version</b></td><td><pre>0</pre></td></tr><tr><td><b>create_time</b></td><td><pre>2023-03-01T12:16:00.981166</pre></td></tr><tr><td><b>update_time</b></td><td><pre>2023-03-01T12:16:00.981166</pre></td></tr></table></td></tr><tr><td><b>request_details</b></td><td><table class=\"kda_table\"><tr><td><b>request_id</b></td><td><pre>5e9c683d19abf0a9c612dd771bfb8736</pre></td></tr></table></td></tr></table></div></div><div class=\"raw kda_tabcontent\" style=\"display:none;\"><div class=\"kda_scroll_container\"><pre>table {\n",
       "  table_id: \"ce68d6e3-963b-42d1-a267-b2d8796b0178\"\n",
       "  table_name: \"transactions\"\n",
       "  time_column_name: \"transaction_time\"\n",
       "  entity_key_column_name: \"id\"\n",
       "  create_time {\n",
       "    seconds: 1677701760\n",
       "    nanos: 981166000\n",
       "  }\n",
       "  update_time {\n",
       "    seconds: 1677701760\n",
       "    nanos: 981166000\n",
       "  }\n",
       "  table_source {\n",
       "    kaskada {\n",
       "    }\n",
       "  }\n",
       "}\n",
       "request_details {\n",
       "  request_id: \"5e9c683d19abf0a9c612dd771bfb8736\"\n",
       "}\n",
       "</pre></div></div></div>"
      ],
      "text/plain": [
       "table {\n",
       "  table_id: \"ce68d6e3-963b-42d1-a267-b2d8796b0178\"\n",
       "  table_name: \"transactions\"\n",
       "  time_column_name: \"transaction_time\"\n",
       "  entity_key_column_name: \"id\"\n",
       "  create_time {\n",
       "    seconds: 1677701760\n",
       "    nanos: 981166000\n",
       "  }\n",
       "  update_time {\n",
       "    seconds: 1677701760\n",
       "    nanos: 981166000\n",
       "  }\n",
       "  table_source {\n",
       "    kaskada {\n",
       "    }\n",
       "  }\n",
       "}\n",
       "request_details {\n",
       "  request_id: \"5e9c683d19abf0a9c612dd771bfb8736\"\n",
       "}"
      ]
     },
     "execution_count": 5,
     "metadata": {},
     "output_type": "execute_result"
    }
   ],
   "source": [
    "import kaskada.table\n",
    "\n",
    "kaskada.table.create_table(\n",
    "    table_name = 'transactions',\n",
    "    time_column_name = 'transaction_time',\n",
    "    entity_key_column_name = 'id')"
   ]
  },
  {
   "cell_type": "code",
   "execution_count": 6,
   "id": "433d67c0",
   "metadata": {},
   "outputs": [
    {
     "data": {
      "text/html": [
       "<div><div class=\"kda_tab\"><button class=\"kda_tablinks kda_active\" onclick=\"openTab(event, 'details')\">Details</button><button class=\"kda_tablinks\" onclick=\"openTab(event, 'raw')\">Raw</button></div><div class=\"details kda_tabcontent\" style=\"display:block;\"><div class=\"kda_scroll_container\"><table class=\"kda_table\"><tr><td><b>data_token_id</b></td><td><pre>e09737e6-fa6c-4800-8a33-e8a4653ab08a</pre></td></tr><tr><td><b>request_details</b></td><td><table class=\"kda_table\"><tr><td><b>request_id</b></td><td><pre>3508a56d2571c651805303fd0e80814f</pre></td></tr></table></td></tr></table></div></div><div class=\"raw kda_tabcontent\" style=\"display:none;\"><div class=\"kda_scroll_container\"><pre>data_token_id: \"e09737e6-fa6c-4800-8a33-e8a4653ab08a\"\n",
       "request_details {\n",
       "  request_id: \"3508a56d2571c651805303fd0e80814f\"\n",
       "}\n",
       "</pre></div></div></div>"
      ],
      "text/plain": [
       "data_token_id: \"e09737e6-fa6c-4800-8a33-e8a4653ab08a\"\n",
       "request_details {\n",
       "  request_id: \"3508a56d2571c651805303fd0e80814f\"\n",
       "}"
      ]
     },
     "execution_count": 6,
     "metadata": {},
     "output_type": "execute_result"
    }
   ],
   "source": [
    "kaskada.table.load('transactions', 'transactions_part1.parquet')"
   ]
  },
  {
   "cell_type": "code",
   "execution_count": 7,
   "id": "ab17a93a",
   "metadata": {},
   "outputs": [],
   "source": [
    "%load_ext fenlmagic"
   ]
  },
  {
   "cell_type": "code",
   "execution_count": 8,
   "id": "8e6bed0d",
   "metadata": {},
   "outputs": [
    {
     "data": {
      "text/html": [
       "<div><div class=\"kda_tab\"><button class=\"kda_tablinks kda_active\" onclick=\"openTab(event, 'dataframe')\">Dataframe</button><button class=\"kda_tablinks\" onclick=\"openTab(event, 'details')\">Details</button><button class=\"kda_tablinks\" onclick=\"openTab(event, 'schema')\">Schema</button><button class=\"kda_tablinks\" onclick=\"openTab(event, 'raw')\">Raw</button></div><div class=\"dataframe kda_tabcontent\" style=\"display:block;\"><div class=\"kda_scroll_container\"><html><head></head><body><div><style scoped=\"\">\n",
       "    .dataframe tbody tr th:only-of-type {\n",
       "        vertical-align: middle;\n",
       "    }\n",
       "\n",
       "    .dataframe tbody tr th {\n",
       "        vertical-align: top;\n",
       "    }\n",
       "\n",
       "    .dataframe thead th {\n",
       "        text-align: right;\n",
       "    }\n",
       "</style><table border=\"1\" class=\"dataframe\"><thead><tr style=\"text-align: right;\"><th></th><th>_time</th><th>_subsort</th><th>_key_hash</th><th>_key</th><th>id</th><th>price</th><th>quantity</th><th>purchaser</th><th>purchaser_id</th><th>credit_provider</th><th>email</th><th>transaction_time</th><th>idx</th></tr></thead><tbody><tr><th>0</th><td>1993-02-05 21:48:50</td><td>17477379580467894753</td><td>5867876969850885098</td><td>6baa0d85-9d81-46f7-baad-3ff13b6642fd</td><td>6baa0d85-9d81-46f7-baad-3ff13b6642fd</td><td>259.86</td><td>4</td><td>Laura Cain</td><td>2798e270c7cab8c9eeacc046a3100a57</td><td>JCB 15 digit</td><td>Laura.Cain@example.com</td><td>1993-02-05 21:48:50</td><td>0</td></tr><tr><th>1</th><td>1993-02-06 01:22:03</td><td>17477379580467894754</td><td>10844862597037801838</td><td>c9eaa7ec-aa53-490b-b8d6-fd56654dc93d</td><td>c9eaa7ec-aa53-490b-b8d6-fd56654dc93d</td><td>72.19</td><td>8</td><td>Terri Ryan</td><td>79b3ced09d3df7c98fbb04fdfda6ce80</td><td>Discover</td><td>Terri.Ryan@example.com</td><td>1993-02-06 01:22:03</td><td>1</td></tr><tr><th>2</th><td>1993-02-06 06:48:14</td><td>17477379580467894755</td><td>14070986209886736686</td><td>2edf13de-82c3-4166-acae-f6b28decdfa8</td><td>2edf13de-82c3-4166-acae-f6b28decdfa8</td><td>13.68</td><td>2</td><td>Michael Estes</td><td>3cae7289edbecd90405aef6486e14648</td><td>American Express</td><td>Michael.Estes@example.com</td><td>1993-02-06 06:48:14</td><td>2</td></tr><tr><th>3</th><td>1993-02-06 15:27:25</td><td>17477379580467894756</td><td>10974613514160849946</td><td>fcdeb521-b0d7-4d8a-9af5-f94c83359648</td><td>fcdeb521-b0d7-4d8a-9af5-f94c83359648</td><td>106.52</td><td>1</td><td>Bonnie Potter</td><td>72c29a848434c8167e3ec62a93c7eb23</td><td>JCB 15 digit</td><td>Bonnie.Potter@example.com</td><td>1993-02-06 15:27:25</td><td>3</td></tr><tr><th>4</th><td>1993-02-06 17:51:21</td><td>17477379580467894757</td><td>13711327314452475020</td><td>079d7f56-5af0-431c-9f41-961832c96040</td><td>079d7f56-5af0-431c-9f41-961832c96040</td><td>20.75</td><td>7</td><td>Jorge Jones</td><td>295f16ed17b2c9304018420453107e72</td><td>Maestro</td><td>Jorge.Jones@example.com</td><td>1993-02-06 17:51:21</td><td>4</td></tr><tr><th>...</th><td>...</td><td>...</td><td>...</td><td>...</td><td>...</td><td>...</td><td>...</td><td>...</td><td>...</td><td>...</td><td>...</td><td>...</td><td>...</td></tr><tr><th>49995</th><td>2013-02-04 22:18:33</td><td>17477379580467944748</td><td>1333991831850800289</td><td>e14dd7ae-1f58-4fbd-b03c-6d688b94b047</td><td>e14dd7ae-1f58-4fbd-b03c-6d688b94b047</td><td>213.90</td><td>6</td><td>Andrew Rivera</td><td>c9c66c2d74a1c4bbd99fdc86e150baad</td><td>Maestro</td><td>Andrew.Rivera@example.com</td><td>2013-02-04 22:18:33</td><td>49995</td></tr><tr><th>49996</th><td>2013-02-04 23:42:14</td><td>17477379580467944749</td><td>3474600598508107131</td><td>6ec219fb-b9ef-48ed-b5d1-b161d0e25a04</td><td>6ec219fb-b9ef-48ed-b5d1-b161d0e25a04</td><td>31.29</td><td>7</td><td>Ryan Leonard</td><td>990e705f07a0c81f10821977531458fa</td><td>Diners Club / Carte Blanche</td><td>Ryan.Leonard@example.com</td><td>2013-02-04 23:42:14</td><td>49996</td></tr><tr><th>49997</th><td>2013-02-05 02:01:51</td><td>17477379580467944750</td><td>780845292578544326</td><td>a05a46b5-2543-4b80-8125-b48bd33b0e85</td><td>a05a46b5-2543-4b80-8125-b48bd33b0e85</td><td>88.74</td><td>3</td><td>Aaron Mcbride</td><td>42381af2f949236bbd325118af1ac848</td><td>JCB 15 digit</td><td>Aaron.Mcbride@example.com</td><td>2013-02-05 02:01:51</td><td>49997</td></tr><tr><th>49998</th><td>2013-02-05 03:14:03</td><td>17477379580467944751</td><td>17535346040735202976</td><td>5892a8b6-655d-4158-9214-f1d314dec81e</td><td>5892a8b6-655d-4158-9214-f1d314dec81e</td><td>161.78</td><td>4</td><td>Elizabeth Thompson</td><td>af79b7a7966ca2203d3b61ecab9ec647</td><td>Discover</td><td>Elizabeth.Thompson@example.com</td><td>2013-02-05 03:14:03</td><td>49998</td></tr><tr><th>49999</th><td>2013-02-05 11:53:07</td><td>17477379580467944752</td><td>6379876651852207327</td><td>c2ddc15c-8b1c-4ff3-a7fa-964040fa02c0</td><td>c2ddc15c-8b1c-4ff3-a7fa-964040fa02c0</td><td>32.99</td><td>3</td><td>Amanda Williams</td><td>efe836f2ea6619457abf68b8e57b304b</td><td>Mastercard</td><td>Amanda.Williams@example.com</td><td>2013-02-05 11:53:07</td><td>49999</td></tr></tbody></table><p>50000 rows × 13 columns</p></div></body></html></div></div><div class=\"details kda_tabcontent\" style=\"display:none;\"><div class=\"kda_scroll_container\"><table class=\"kda_table\"><tr><td><b>state</b></td><td>SUCCESS</td></tr><tr><td><b>query_id</b></td><td>60debc5e-bcd7-4031-9de6-bceffae615b1</td></tr><tr><td><b>metrics</b></td><td><table class=\"kda_table\"><tr><td><b>time_preparing</b></td><td>0.127s</td></tr><tr><td><b>time_computing</b></td><td>0.101s</td></tr><tr><td><b>output_files</b></td><td>1</td></tr></table></td></tr><tr><td><b>file_results</b></td><td><table class=\"kda_table\"><tr><th>index</th><th>path</th></tr><tr><td><pre>0</pre></td><td><a href=\"/home/therapon/Repos/GitHub/KaskadaAI/kaskada/main/examples/data/results/a37ab9a2-86c4-48be-85fb-87e714206d32/rzlBvX8wrO5-aW813iJuQlf48N-wrVZ9SDmd3A/febcb77a-7e9e-4f38-8fbf-45eeef3599e6.parquet\">/home/therapon/Repos/GitHub/KaskadaAI/kaskada/main/examples/data/results/a37ab9a2-86c4-48be-85fb-87e714206d32/rzlBvX8wrO5-aW813iJuQlf48N-wrVZ9SDmd3A/febcb77a-7e9e-4f38-8fbf-45eeef3599e6.parquet</a></td></tr></table></td></tr><tr><td><b>analysis</b></td><td><table class=\"kda_table\"><tr><td><b>can_execute</b></td><td><pre>True</pre></td></tr></table></td></tr><tr><td><b>schema</b></td><td><pre>(see Schema tab)</pre></td></tr><tr><td><b>data_token_id</b></td><td><pre>e09737e6-fa6c-4800-8a33-e8a4653ab08a</pre></td></tr><tr><td><b>slice_request</b></td><td><table class=\"kda_table\"><tr><td><b>None</b></td><td><pre>(full dataset used for query)</pre></td></tr></table></td></tr><tr><td><b>request_details</b></td><td><table class=\"kda_table\"><tr><td><b>request_id</b></td><td><pre>c8a157d74b0be86214e8ae75c070b673</pre></td></tr></table></td></tr><tr><td><b>query</b></td><td><pre>transactions</pre></td></tr></table></div></div><div class=\"schema kda_tabcontent\" style=\"display:none;\"><div class=\"kda_scroll_container\"><html><head></head><body><div><style scoped=\"\">\n",
       "    .dataframe tbody tr th:only-of-type {\n",
       "        vertical-align: middle;\n",
       "    }\n",
       "\n",
       "    .dataframe tbody tr th {\n",
       "        vertical-align: top;\n",
       "    }\n",
       "\n",
       "    .dataframe thead th {\n",
       "        text-align: right;\n",
       "    }\n",
       "</style><table border=\"1\" class=\"dataframe\"><thead><tr style=\"text-align: right;\"><th></th><th>column_name</th><th>column_type</th></tr></thead><tbody><tr><th>0</th><td>id</td><td>string</td></tr><tr><th>1</th><td>price</td><td>f64</td></tr><tr><th>2</th><td>quantity</td><td>i64</td></tr><tr><th>3</th><td>purchaser</td><td>string</td></tr><tr><th>4</th><td>purchaser_id</td><td>string</td></tr><tr><th>5</th><td>credit_provider</td><td>string</td></tr><tr><th>6</th><td>email</td><td>string</td></tr><tr><th>7</th><td>transaction_time</td><td>string</td></tr><tr><th>8</th><td>idx</td><td>i64</td></tr></tbody></table></div></body></html></div></div><div class=\"raw kda_tabcontent\" style=\"display:none;\"><div class=\"kda_scroll_container\"><pre>{'dataframe': 'RangeIndex: 50000 entries, 0 to 49999'\n",
       "              'Columns: 13 entries, _time to idx'\n",
       "              'dtypes: datetime64[ns](1), float64(1), int64(2), object(7), '\n",
       "              'uint64(2)'\n",
       "              'memory usage: 5.0+ MB',\n",
       " 'query': 'transactions',\n",
       " 'query_response': state: STATE_SUCCESS\n",
       "config {\n",
       "  data_token_id: \"e09737e6-fa6c-4800-8a33-e8a4653ab08a\"\n",
       "}\n",
       "analysis {\n",
       "  can_execute: true\n",
       "  schema {\n",
       "    fields {\n",
       "      name: \"id\"\n",
       "      data_type {\n",
       "        primitive: PRIMITIVE_TYPE_STRING\n",
       "      }\n",
       "    }\n",
       "    fields {\n",
       "      name: \"price\"\n",
       "      data_type {\n",
       "        primitive: PRIMITIVE_TYPE_F64\n",
       "      }\n",
       "    }\n",
       "    fields {\n",
       "      name: \"quantity\"\n",
       "      data_type {\n",
       "        primitive: PRIMITIVE_TYPE_I64\n",
       "      }\n",
       "    }\n",
       "    fields {\n",
       "      name: \"purchaser\"\n",
       "      data_type {\n",
       "        primitive: PRIMITIVE_TYPE_STRING\n",
       "      }\n",
       "    }\n",
       "    fields {\n",
       "      name: \"purchaser_id\"\n",
       "      data_type {\n",
       "        primitive: PRIMITIVE_TYPE_STRING\n",
       "      }\n",
       "    }\n",
       "    fields {\n",
       "      name: \"credit_provider\"\n",
       "      data_type {\n",
       "        primitive: PRIMITIVE_TYPE_STRING\n",
       "      }\n",
       "    }\n",
       "    fields {\n",
       "      name: \"email\"\n",
       "      data_type {\n",
       "        primitive: PRIMITIVE_TYPE_STRING\n",
       "      }\n",
       "    }\n",
       "    fields {\n",
       "      name: \"transaction_time\"\n",
       "      data_type {\n",
       "        primitive: PRIMITIVE_TYPE_STRING\n",
       "      }\n",
       "    }\n",
       "    fields {\n",
       "      name: \"idx\"\n",
       "      data_type {\n",
       "        primitive: PRIMITIVE_TYPE_I64\n",
       "      }\n",
       "    }\n",
       "  }\n",
       "}\n",
       "fenl_diagnostics {\n",
       "}\n",
       "metrics {\n",
       "  time_preparing {\n",
       "    nanos: 127327862\n",
       "  }\n",
       "  time_computing {\n",
       "    nanos: 101766200\n",
       "  }\n",
       "  output_files: 1\n",
       "  total_input_rows: 50000\n",
       "  processed_input_rows: 50000\n",
       "  produced_output_rows: 50000\n",
       "}\n",
       "request_details {\n",
       "  request_id: \"c8a157d74b0be86214e8ae75c070b673\"\n",
       "}\n",
       "query_id: \"60debc5e-bcd7-4031-9de6-bceffae615b1\"\n",
       "file_results {\n",
       "  file_type: FILE_TYPE_PARQUET\n",
       "  paths: \"/home/therapon/Repos/GitHub/KaskadaAI/kaskada/main/examples/data/results/a37ab9a2-86c4-48be-85fb-87e714206d32/rzlBvX8wrO5-aW813iJuQlf48N-wrVZ9SDmd3A/febcb77a-7e9e-4f38-8fbf-45eeef3599e6.parquet\"\n",
       "}\n",
       "}</pre></div></div></div>"
      ],
      "text/plain": [
       "<fenlmagic.QueryResult at 0x7ff7608b5fc0>"
      ]
     },
     "execution_count": 8,
     "metadata": {},
     "output_type": "execute_result"
    }
   ],
   "source": [
    "%%fenl\n",
    "\n",
    "transactions"
   ]
  }
 ],
 "metadata": {
  "kernelspec": {
   "display_name": "Python 3 (ipykernel)",
   "language": "python",
   "name": "python3"
  },
  "language_info": {
   "codemirror_mode": {
    "name": "ipython",
    "version": 3
   },
   "file_extension": ".py",
   "mimetype": "text/x-python",
   "name": "python",
   "nbconvert_exporter": "python",
   "pygments_lexer": "ipython3",
   "version": "3.10.6"
  }
 },
 "nbformat": 4,
 "nbformat_minor": 5
}
