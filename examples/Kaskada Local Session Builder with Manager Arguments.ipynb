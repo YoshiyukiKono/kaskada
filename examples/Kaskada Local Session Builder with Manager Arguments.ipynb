{
 "cells": [
  {
   "cell_type": "markdown",
   "id": "e9a13da3",
   "metadata": {},
   "source": [
    "# Kaskada Local Session Builder with Manager Arguments\n",
    "\n",
    "As a requested feature, we'd like to be able to configure the port configurations for the gRPC port and REST API port for the Kaskada Manager. The goal of this notebook is to demonstrate this feature and its intended use. *This work is scheduled to be demoed on 3/14/2023*."
   ]
  },
  {
   "cell_type": "markdown",
   "id": "f08fe81e",
   "metadata": {},
   "source": [
    "## `manager_grpc_port`\n",
    "\n",
    "The gRPC port flag argument `-grpc-port` is now configurable with the builder method: `manager_grpc_port`. For example:\n",
    "\n",
    "```python\n",
    "session = LocalBuilder().manager_grpc_port(12345).build()\n",
    "```\n",
    "\n",
    "Executes like the following: `$ ./kaskada-manager -grpc-port=12345`"
   ]
  },
  {
   "cell_type": "markdown",
   "id": "8d487769",
   "metadata": {},
   "source": [
    "## `manager_rest_port`\n",
    "\n",
    "The REST API port flag argument `-rest-port` is now configurable with the builder method: `manager_rest_port`. For example:\n",
    "\n",
    "```python\n",
    "session = LocalBuilder().manager_rest_port(12345).build()\n",
    "```\n",
    "\n",
    "Executes like the following: `$ ./kaskada-manager -rest-port=12345`"
   ]
  },
  {
   "cell_type": "markdown",
   "id": "860da8ff",
   "metadata": {},
   "source": [
    "##  `manager_grpc_port` +  `manager_rest_port`\n",
    "\n",
    "Since both of these are builder methods, they can be used in any order or sequentially:\n",
    "\n",
    "```python\n",
    "session = LocalBuilder().manager_rest_port(12345).manager_grpc_port(12346).build()\n",
    "```\n",
    "\n",
    "Executes like the following: `$ ./kaskada-manager -rest-port=12345 -grpc-port=12346`"
   ]
  },
  {
   "cell_type": "code",
   "execution_count": null,
   "id": "111c4dca",
   "metadata": {},
   "outputs": [],
   "source": [
    "import kaskada.table\n",
    "\n",
    "download = False\n",
    "if (download):\n",
    "    import kaskada.api.release as release\n",
    "    import os\n",
    "    from getpass import getpass\n",
    "\n",
    "    os.environ[release.ReleaseClient.GITHUB_ACCESS_TOKEN_ENV] = getpass(prompt='Github Access Token:')\n",
    "    \n",
    "from kaskada.api.session import LocalBuilder\n",
    "session = LocalBuilder()\\\n",
    "            .download(download)\\\n",
    "            .manager_grpc_port(12345)\\\n",
    "            .endpoint('localhost:12345', False)\\\n",
    "            .build()"
   ]
  },
  {
   "cell_type": "code",
   "execution_count": null,
   "id": "f3e70e0d",
   "metadata": {},
   "outputs": [],
   "source": [
    "import kaskada.table\n",
    "kaskada.table.list_tables()"
   ]
  }
 ],
 "metadata": {
  "kernelspec": {
   "display_name": "Python 3 (ipykernel)",
   "language": "python",
   "name": "python3"
  },
  "language_info": {
   "codemirror_mode": {
    "name": "ipython",
    "version": 3
   },
   "file_extension": ".py",
   "mimetype": "text/x-python",
   "name": "python",
   "nbconvert_exporter": "python",
   "pygments_lexer": "ipython3",
   "version": "3.8.16"
  }
 },
 "nbformat": 4,
 "nbformat_minor": 5
}
