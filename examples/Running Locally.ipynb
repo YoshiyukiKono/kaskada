{
 "cells": [
  {
   "cell_type": "markdown",
   "id": "409888ce",
   "metadata": {},
   "source": [
    "## Session Builder\n",
    "The next version of Kaskada will use an API Session Builder to follow closely to PySpark's approach to local connections.\n",
    "\n",
    "###  Local Session Builder\n",
    "The default local session builder (`LocalBuilder`) by default assumes:\n",
    "* Endpoint: `localhost:50051` for the API server\n",
    "* Is Secure: `False`\n",
    "* Will spin up the API server and Compute Server binaries.\n",
    "  * Assumes Kaskada root is **~/.cache/kaskada**. Override by setting *KASKADA_PATH*\n",
    "  * Assumes the binaries are stored in *KASKADA_PATH/bin*. Override by setting *KASKADA_BIN_PATH* (default is bin)\n",
    "  * Assumes the logs are stored in *KASKADA_PATH/logs*. Override by setting *KASKADA_LOG_PATH* (default is logs)\n",
    "  \n",
    "Most people running locally will want to spin up the server locally by just using: `LocalBuilder().build()`."
   ]
  },
  {
   "cell_type": "code",
   "execution_count": null,
   "id": "041a63b0",
   "metadata": {},
   "outputs": [],
   "source": [
    "import kaskada.api.release as release\n",
    "import os\n",
    "from getpass import getpass\n",
    "\n",
    "os.environ[release.ReleaseClient.GITHUB_ACCESS_TOKEN_ENV] = getpass(prompt='Github Access Token:')"
   ]
  },
  {
   "cell_type": "code",
   "execution_count": null,
   "id": "c2877b75",
   "metadata": {},
   "outputs": [],
   "source": [
    "from kaskada.api.session import LocalBuilder\n",
    "\n",
    "session = LocalBuilder().build()"
   ]
  },
  {
   "cell_type": "markdown",
   "id": "08cdd8be",
   "metadata": {},
   "source": [
    "## Kaskada Locally"
   ]
  },
  {
   "cell_type": "code",
   "execution_count": null,
   "id": "8f6b6947",
   "metadata": {},
   "outputs": [],
   "source": [
    "import kaskada.table\n",
    "kaskada.table.create_table('transactions', 'transaction_time', 'id', subsort_column_name = 'idx')"
   ]
  },
  {
   "cell_type": "code",
   "execution_count": null,
   "id": "973476ad",
   "metadata": {},
   "outputs": [],
   "source": [
    "kaskada.table.load('transactions', 'transactions_part1.parquet')"
   ]
  },
  {
   "cell_type": "code",
   "execution_count": null,
   "id": "35649c18",
   "metadata": {},
   "outputs": [],
   "source": [
    "%load_ext fenlmagic"
   ]
  },
  {
   "cell_type": "code",
   "execution_count": null,
   "id": "cd42a0d2",
   "metadata": {},
   "outputs": [],
   "source": [
    "%%fenl\n",
    "transactions"
   ]
  },
  {
   "cell_type": "code",
   "execution_count": null,
   "id": "017eb64e",
   "metadata": {},
   "outputs": [],
   "source": []
  }
 ],
 "metadata": {
  "kernelspec": {
   "display_name": "Python 3 (ipykernel)",
   "language": "python",
   "name": "python3"
  },
  "language_info": {
   "codemirror_mode": {
    "name": "ipython",
    "version": 3
   },
   "file_extension": ".py",
   "mimetype": "text/x-python",
   "name": "python",
   "nbconvert_exporter": "python",
   "pygments_lexer": "ipython3",
   "version": "3.10.9"
  },
  "vscode": {
   "interpreter": {
    "hash": "a665b5d41d17b532ea9890333293a1b812fa0b73c9c25c950b3cedf1bebd0438"
   }
  }
 },
 "nbformat": 4,
 "nbformat_minor": 5
}
