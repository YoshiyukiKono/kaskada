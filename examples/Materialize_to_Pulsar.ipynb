{
 "cells": [
  {
   "attachments": {},
   "cell_type": "markdown",
   "id": "409888ce",
   "metadata": {},
   "source": [
    "## Kaskada: Materializing Results to a Pulsar Topic\n",
    "Kaskada allows you to create a materialization, a resource similar to a query, that automatically runs when new data is loaded into any table the materialization references. Materializations can be used to populate feature vectors in a variety of feature stores to be used in production for low-latency inference. In this example, we'll showcase results being incrementally materialized to a Pulsar topic. \n",
    "\n",
    "For more information, see https://kaskada-ai.github.io/docs-site/kaskada/main/reference/working-with-materializations.html. "
   ]
  },
  {
   "cell_type": "code",
   "execution_count": 2,
   "id": "041a63b0",
   "metadata": {},
   "outputs": [
    {
     "name": "stdout",
     "output_type": "stream",
     "text": [
      "Github Access Token:········\n"
     ]
    }
   ],
   "source": [
    "import kaskada.api.release as release\n",
    "import os\n",
    "from getpass import getpass\n",
    "os.environ[release.ReleaseClient.GITHUB_ACCESS_TOKEN_ENV] = getpass(prompt='Github Access Token:')"
   ]
  },
  {
   "cell_type": "code",
   "execution_count": null,
   "id": "c2877b75",
   "metadata": {},
   "outputs": [
    {
     "ename": "",
     "evalue": "",
     "output_type": "error",
     "traceback": [
      "\u001b[1;31mFailed to start the Kernel. \n",
      "\u001b[1;31mCannot execute code, session has been disposed. \n",
      "\u001b[1;31mView Jupyter <a href='command:jupyter.viewOutput'>log</a> for further details."
     ]
    }
   ],
   "source": [
    "from kaskada.api.session import LocalBuilder\n",
    "session = LocalBuilder().build()"
   ]
  },
  {
   "attachments": {},
   "cell_type": "markdown",
   "id": "0f5e5dfe",
   "metadata": {},
   "source": [
    "### Create the table and load data"
   ]
  },
  {
   "cell_type": "code",
   "execution_count": null,
   "id": "8f6b6947",
   "metadata": {},
   "outputs": [
    {
     "ename": "",
     "evalue": "",
     "output_type": "error",
     "traceback": [
      "\u001b[1;31mFailed to start the Kernel. \n",
      "\u001b[1;31mCannot execute code, session has been disposed. \n",
      "\u001b[1;31mView Jupyter <a href='command:jupyter.viewOutput'>log</a> for further details."
     ]
    }
   ],
   "source": [
    "import kaskada.table\n",
    "\n",
    "kaskada.table.create_table('transactions', 'transaction_time', 'id')"
   ]
  },
  {
   "cell_type": "code",
   "execution_count": 5,
   "id": "973476ad",
   "metadata": {},
   "outputs": [
    {
     "data": {
      "text/html": [
       "<div><div class=\"kda_tab\"><button class=\"kda_tablinks kda_active\" onclick=\"openTab(event, 'details')\">Details</button><button class=\"kda_tablinks\" onclick=\"openTab(event, 'raw')\">Raw</button></div><div class=\"details kda_tabcontent\" style=\"display:block;\"><div class=\"kda_scroll_container\"><table class=\"kda_table\"><tr><td><b>data_token_id</b></td><td><pre>0bfbb41a-673e-4d01-8cb7-fcc268971fd4</pre></td></tr><tr><td><b>request_details</b></td><td><table class=\"kda_table\"><tr><td><b>request_id</b></td><td><pre>6b4237ad0e6e2448f695a5ca931949a4</pre></td></tr></table></td></tr></table></div></div><div class=\"raw kda_tabcontent\" style=\"display:none;\"><div class=\"kda_scroll_container\"><pre>data_token_id: \"0bfbb41a-673e-4d01-8cb7-fcc268971fd4\"\n",
       "request_details {\n",
       "  request_id: \"6b4237ad0e6e2448f695a5ca931949a4\"\n",
       "}\n",
       "</pre></div></div></div>"
      ],
      "text/plain": [
       "data_token_id: \"0bfbb41a-673e-4d01-8cb7-fcc268971fd4\"\n",
       "request_details {\n",
       "  request_id: \"6b4237ad0e6e2448f695a5ca931949a4\"\n",
       "}"
      ]
     },
     "execution_count": 5,
     "metadata": {},
     "output_type": "execute_result"
    }
   ],
   "source": [
    "kaskada.table.load('transactions', 'data/transactions_part1.parquet')"
   ]
  },
  {
   "cell_type": "markdown",
   "id": "ae41dc94",
   "metadata": {},
   "source": [
    "### Create a referenceable query"
   ]
  },
  {
   "cell_type": "code",
   "execution_count": 6,
   "id": "35649c18",
   "metadata": {},
   "outputs": [],
   "source": [
    "%load_ext fenlmagic"
   ]
  },
  {
   "cell_type": "code",
   "execution_count": 7,
   "id": "cd42a0d2",
   "metadata": {},
   "outputs": [
    {
     "data": {
      "text/html": [
       "<div><div class=\"kda_tab\"><button class=\"kda_tablinks kda_active\" onclick=\"openTab(event, 'dataframe')\">Dataframe</button><button class=\"kda_tablinks\" onclick=\"openTab(event, 'details')\">Details</button><button class=\"kda_tablinks\" onclick=\"openTab(event, 'schema')\">Schema</button><button class=\"kda_tablinks\" onclick=\"openTab(event, 'raw')\">Raw</button></div><div class=\"dataframe kda_tabcontent\" style=\"display:block;\"><div class=\"kda_scroll_container\"><html><head></head><body><div><style scoped=\"\">\n",
       "    .dataframe tbody tr th:only-of-type {\n",
       "        vertical-align: middle;\n",
       "    }\n",
       "\n",
       "    .dataframe tbody tr th {\n",
       "        vertical-align: top;\n",
       "    }\n",
       "\n",
       "    .dataframe thead th {\n",
       "        text-align: right;\n",
       "    }\n",
       "</style><table border=\"1\" class=\"dataframe\"><thead><tr style=\"text-align: right;\"><th></th><th>_time</th><th>_subsort</th><th>_key_hash</th><th>_key</th><th>id</th><th>price</th><th>quantity</th><th>purchaser</th><th>purchaser_id</th><th>credit_provider</th><th>email</th><th>transaction_time</th><th>idx</th></tr></thead><tbody><tr><th>0</th><td>2013-02-05 11:53:07.000000001</td><td>18446744073709551615</td><td>194650352360165</td><td>f81fcc64-e02e-418b-8bfd-96cdab3f6b17</td><td>f81fcc64-e02e-418b-8bfd-96cdab3f6b17</td><td>203.21</td><td>9</td><td>Cynthia Campbell</td><td>b62b8e9e399d074b1c3189ad9e706c53</td><td>American Express</td><td>Cynthia.Campbell@example.com</td><td>2000-04-07 11:33:06</td><td>17923</td></tr><tr><th>1</th><td>2013-02-05 11:53:07.000000001</td><td>18446744073709551615</td><td>202890757993855</td><td>776ddcc3-a9c8-4ca2-8a5b-729c7cd3aa45</td><td>776ddcc3-a9c8-4ca2-8a5b-729c7cd3aa45</td><td>153.44</td><td>9</td><td>Harold Stone</td><td>a6ef6bebf1ea8bb23abfe3e3368c550f</td><td>VISA 13 digit</td><td>Harold.Stone@example.com</td><td>2009-01-05 09:08:26</td><td>39724</td></tr><tr><th>2</th><td>2013-02-05 11:53:07.000000001</td><td>18446744073709551615</td><td>414607641634714</td><td>efc29486-5d2f-447c-abe4-948bc901c131</td><td>efc29486-5d2f-447c-abe4-948bc901c131</td><td>25.90</td><td>1</td><td>Tony Jones</td><td>87ed48e2f83db823a697ed8cf79cd6e1</td><td>JCB 16 digit</td><td>Tony.Jones@example.com</td><td>2006-09-12 12:27:54</td><td>33953</td></tr><tr><th>3</th><td>2013-02-05 11:53:07.000000001</td><td>18446744073709551615</td><td>608822328614928</td><td>124e01a6-ef27-494d-b04b-c12a5b087ff9</td><td>124e01a6-ef27-494d-b04b-c12a5b087ff9</td><td>98.74</td><td>6</td><td>Aaron Dougherty</td><td>772f8b1479587b85209345f0e05a36f5</td><td>Maestro</td><td>Aaron.Dougherty@example.com</td><td>2012-02-22 18:16:26</td><td>47572</td></tr><tr><th>4</th><td>2013-02-05 11:53:07.000000001</td><td>18446744073709551615</td><td>1126833284249765</td><td>ae12e699-060f-4dfa-afbf-4ac77e2a4576</td><td>ae12e699-060f-4dfa-afbf-4ac77e2a4576</td><td>81.12</td><td>7</td><td>Victoria Ross</td><td>33b82c5a7e5846d2abd51c82f44e81fe</td><td>Mastercard</td><td>Victoria.Ross@example.com</td><td>2002-08-08 04:27:02</td><td>23668</td></tr><tr><th>...</th><td>...</td><td>...</td><td>...</td><td>...</td><td>...</td><td>...</td><td>...</td><td>...</td><td>...</td><td>...</td><td>...</td><td>...</td><td>...</td></tr><tr><th>49995</th><td>2013-02-05 11:53:07.000000001</td><td>18446744073709551615</td><td>18446074954814204992</td><td>68567c17-e3e7-4838-b175-487eb19d57cc</td><td>68567c17-e3e7-4838-b175-487eb19d57cc</td><td>1.46</td><td>5</td><td>Darren Haynes</td><td>8f4c4a47e385061fcc719a294e98c497</td><td>Mastercard</td><td>Darren.Haynes@example.com</td><td>2004-04-15 13:01:56</td><td>27922</td></tr><tr><th>49996</th><td>2013-02-05 11:53:07.000000001</td><td>18446744073709551615</td><td>18446106367110200566</td><td>c86fe5b0-48d2-4621-8c15-39159d72ac32</td><td>c86fe5b0-48d2-4621-8c15-39159d72ac32</td><td>242.35</td><td>7</td><td>Zachary Peterson</td><td>6d91b1bba438fe2d9025267cc3a1f94a</td><td>Diners Club / Carte Blanche</td><td>Zachary.Peterson@example.com</td><td>1999-08-12 19:33:48</td><td>16277</td></tr><tr><th>49997</th><td>2013-02-05 11:53:07.000000001</td><td>18446744073709551615</td><td>18446394539458624218</td><td>1bcbdbb4-521c-495b-b6d9-1d5fbb3919a8</td><td>1bcbdbb4-521c-495b-b6d9-1d5fbb3919a8</td><td>31.18</td><td>5</td><td>Darren Haynes</td><td>8f4c4a47e385061fcc719a294e98c497</td><td>JCB 16 digit</td><td>Darren.Haynes@example.com</td><td>1996-12-24 23:01:23</td><td>9683</td></tr><tr><th>49998</th><td>2013-02-05 11:53:07.000000001</td><td>18446744073709551615</td><td>18446445840915012776</td><td>ae56c8fc-cbff-4ee6-93a3-d55e934ec502</td><td>ae56c8fc-cbff-4ee6-93a3-d55e934ec502</td><td>13.37</td><td>6</td><td>Timothy Tran</td><td>d477f4d7bd73fb43ad59ee744c151d79</td><td>JCB 16 digit</td><td>Timothy.Tran@example.com</td><td>2004-06-04 01:49:46</td><td>28261</td></tr><tr><th>49999</th><td>2013-02-05 11:53:07.000000001</td><td>18446744073709551615</td><td>18446700459601294451</td><td>9acc7b15-6609-428c-ac48-ac6fe60fb943</td><td>9acc7b15-6609-428c-ac48-ac6fe60fb943</td><td>124.98</td><td>1</td><td>James Maldonado</td><td>e5be1d9a67111661f0d2a59e539f6ec3</td><td>Mastercard</td><td>James.Maldonado@example.com</td><td>2011-06-12 05:11:38</td><td>45793</td></tr></tbody></table><p>50000 rows × 13 columns</p></div></body></html></div></div><div class=\"details kda_tabcontent\" style=\"display:none;\"><div class=\"kda_scroll_container\"><table class=\"kda_table\"><tr><td><b>state</b></td><td>SUCCESS</td></tr><tr><td><b>query_id</b></td><td>80ed13a0-268b-4278-85c5-1b27b458d892</td></tr><tr><td><b>metrics</b></td><td><table class=\"kda_table\"><tr><td><b>time_preparing</b></td><td>0.117s</td></tr><tr><td><b>time_computing</b></td><td>0.133s</td></tr><tr><td><b>output_files</b></td><td>1</td></tr></table></td></tr><tr><td><b>analysis</b></td><td><table class=\"kda_table\"><tr><td><b>can_execute</b></td><td><pre>True</pre></td></tr></table></td></tr><tr><td><b>schema</b></td><td><pre>(see Schema tab)</pre></td></tr><tr><td><b>request_details</b></td><td><table class=\"kda_table\"><tr><td><b>request_id</b></td><td><pre>6c13406163bd3a0a9d4af8b440b300d1</pre></td></tr></table></td></tr><tr><td><b>expression</b></td><td><pre>transactions</pre></td></tr></table></div></div><div class=\"schema kda_tabcontent\" style=\"display:none;\"><div class=\"kda_scroll_container\"><html><head></head><body><div><style scoped=\"\">\n",
       "    .dataframe tbody tr th:only-of-type {\n",
       "        vertical-align: middle;\n",
       "    }\n",
       "\n",
       "    .dataframe tbody tr th {\n",
       "        vertical-align: top;\n",
       "    }\n",
       "\n",
       "    .dataframe thead th {\n",
       "        text-align: right;\n",
       "    }\n",
       "</style><table border=\"1\" class=\"dataframe\"><thead><tr style=\"text-align: right;\"><th></th><th>column_name</th><th>column_type</th></tr></thead><tbody><tr><th>0</th><td>id</td><td>string</td></tr><tr><th>1</th><td>price</td><td>f64</td></tr><tr><th>2</th><td>quantity</td><td>i64</td></tr><tr><th>3</th><td>purchaser</td><td>string</td></tr><tr><th>4</th><td>purchaser_id</td><td>string</td></tr><tr><th>5</th><td>credit_provider</td><td>string</td></tr><tr><th>6</th><td>email</td><td>string</td></tr><tr><th>7</th><td>transaction_time</td><td>string</td></tr><tr><th>8</th><td>idx</td><td>i64</td></tr></tbody></table></div></body></html></div></div><div class=\"raw kda_tabcontent\" style=\"display:none;\"><div class=\"kda_scroll_container\"><pre>{'dataframe': 'RangeIndex: 50000 entries, 0 to 49999'\n",
       "              'Columns: 13 entries, _time to idx'\n",
       "              'dtypes: datetime64[ns](1), float64(1), int64(2), object(7), '\n",
       "              'uint64(2)'\n",
       "              'memory usage: 5.0+ MB',\n",
       " 'expression': 'transactions',\n",
       " 'query_response': state: STATE_SUCCESS\n",
       "config {\n",
       "  data_token_id: \"0bfbb41a-673e-4d01-8cb7-fcc268971fd4\"\n",
       "}\n",
       "analysis {\n",
       "  can_execute: true\n",
       "  schema {\n",
       "    fields {\n",
       "      name: \"id\"\n",
       "      data_type {\n",
       "        primitive: PRIMITIVE_TYPE_STRING\n",
       "      }\n",
       "    }\n",
       "    fields {\n",
       "      name: \"price\"\n",
       "      data_type {\n",
       "        primitive: PRIMITIVE_TYPE_F64\n",
       "      }\n",
       "    }\n",
       "    fields {\n",
       "      name: \"quantity\"\n",
       "      data_type {\n",
       "        primitive: PRIMITIVE_TYPE_I64\n",
       "      }\n",
       "    }\n",
       "    fields {\n",
       "      name: \"purchaser\"\n",
       "      data_type {\n",
       "        primitive: PRIMITIVE_TYPE_STRING\n",
       "      }\n",
       "    }\n",
       "    fields {\n",
       "      name: \"purchaser_id\"\n",
       "      data_type {\n",
       "        primitive: PRIMITIVE_TYPE_STRING\n",
       "      }\n",
       "    }\n",
       "    fields {\n",
       "      name: \"credit_provider\"\n",
       "      data_type {\n",
       "        primitive: PRIMITIVE_TYPE_STRING\n",
       "      }\n",
       "    }\n",
       "    fields {\n",
       "      name: \"email\"\n",
       "      data_type {\n",
       "        primitive: PRIMITIVE_TYPE_STRING\n",
       "      }\n",
       "    }\n",
       "    fields {\n",
       "      name: \"transaction_time\"\n",
       "      data_type {\n",
       "        primitive: PRIMITIVE_TYPE_STRING\n",
       "      }\n",
       "    }\n",
       "    fields {\n",
       "      name: \"idx\"\n",
       "      data_type {\n",
       "        primitive: PRIMITIVE_TYPE_I64\n",
       "      }\n",
       "    }\n",
       "  }\n",
       "}\n",
       "fenl_diagnostics {\n",
       "}\n",
       "metrics {\n",
       "  time_preparing {\n",
       "    nanos: 117334250\n",
       "  }\n",
       "  time_computing {\n",
       "    nanos: 133081208\n",
       "  }\n",
       "  output_files: 1\n",
       "  total_input_rows: 50000\n",
       "  processed_input_rows: 50000\n",
       "  produced_output_rows: 50000\n",
       "}\n",
       "request_details {\n",
       "  request_id: \"6c13406163bd3a0a9d4af8b440b300d1\"\n",
       "}\n",
       "query_id: \"80ed13a0-268b-4278-85c5-1b27b458d892\"\n",
       "output_to {\n",
       "  object_store {\n",
       "    file_type: FILE_TYPE_PARQUET\n",
       "    output_prefix_uri: \"file:///Users/jordan.frazier/.cache/kaskada/bin/data/results/333c48e0-1543-4132-9935-3cc32c8a89a0/qA5QHih1JsJ-EMWmELZePKfNtoUUmrqYzgmUxQ\"\n",
       "    output_paths {\n",
       "      paths: \"/Users/jordan.frazier/.cache/kaskada/bin/data/results/333c48e0-1543-4132-9935-3cc32c8a89a0/qA5QHih1JsJ-EMWmELZePKfNtoUUmrqYzgmUxQ/07bb4714-1e0d-4893-a71e-ba9f29b6f404.parquet\"\n",
       "    }\n",
       "  }\n",
       "}\n",
       "}</pre></div></div></div>"
      ],
      "text/plain": [
       "<fenlmagic.QueryResult at 0x106e7ebb0>"
      ]
     },
     "execution_count": 7,
     "metadata": {},
     "output_type": "execute_result"
    }
   ],
   "source": [
    "%%fenl --result-behavior final-results --var test_query \n",
    "\n",
    "transactions"
   ]
  },
  {
   "cell_type": "markdown",
   "id": "ae12f4bf",
   "metadata": {},
   "source": [
    "### Create a materialization"
   ]
  },
  {
   "cell_type": "code",
   "execution_count": 10,
   "id": "017eb64e",
   "metadata": {},
   "outputs": [
    {
     "data": {
      "text/html": [
       "<div><div class=\"kda_tab\"><button class=\"kda_tablinks kda_active\" onclick=\"openTab(event, 'details')\">Details</button><button class=\"kda_tablinks\" onclick=\"openTab(event, 'schema')\">Schema</button><button class=\"kda_tablinks\" onclick=\"openTab(event, 'raw')\">Raw</button></div><div class=\"details kda_tabcontent\" style=\"display:block;\"><div class=\"kda_scroll_container\"><table class=\"kda_table\"><tr><td><b>materialization</b></td><td><table class=\"kda_table\"><tr><td><b>materialization_name</b></td><td><pre>my_materialization</pre></td></tr><tr><td><b>query</b></td><td><pre>transactions</pre></td></tr><tr><td><b>destination</b></td><td><table class=\"kda_table\"></table></td></tr><tr><td><b>slice</b></td><td><table class=\"kda_table\"><tr><td><b>None</b></td><td><pre>(full dataset used for query)</pre></td></tr></table></td></tr><tr><td><b>schema</b></td><td><pre>(see Schema tab)</pre></td></tr><tr><td><b>create_time</b></td><td><pre>2023-03-07T14:11:47.054408</pre></td></tr></table></td></tr><tr><td><b>analysis</b></td><td><table class=\"kda_table\"><tr><td><b>can_execute</b></td><td><pre>True</pre></td></tr></table></td></tr><tr><td><b>request_details</b></td><td><table class=\"kda_table\"><tr><td><b>request_id</b></td><td><pre>34926dbf062513877fee21bebedd9863</pre></td></tr></table></td></tr></table></div></div><div class=\"schema kda_tabcontent\" style=\"display:none;\"><div class=\"kda_scroll_container\"><html><head></head><body><div><style scoped=\"\">\n",
       "    .dataframe tbody tr th:only-of-type {\n",
       "        vertical-align: middle;\n",
       "    }\n",
       "\n",
       "    .dataframe tbody tr th {\n",
       "        vertical-align: top;\n",
       "    }\n",
       "\n",
       "    .dataframe thead th {\n",
       "        text-align: right;\n",
       "    }\n",
       "</style><table border=\"1\" class=\"dataframe\"><thead><tr style=\"text-align: right;\"><th></th><th>column_name</th><th>column_type</th></tr></thead><tbody><tr><th>0</th><td>id</td><td>string</td></tr><tr><th>1</th><td>price</td><td>f64</td></tr><tr><th>2</th><td>quantity</td><td>i64</td></tr><tr><th>3</th><td>purchaser</td><td>string</td></tr><tr><th>4</th><td>purchaser_id</td><td>string</td></tr><tr><th>5</th><td>credit_provider</td><td>string</td></tr><tr><th>6</th><td>email</td><td>string</td></tr><tr><th>7</th><td>transaction_time</td><td>string</td></tr><tr><th>8</th><td>idx</td><td>i64</td></tr></tbody></table></div></body></html></div></div><div class=\"raw kda_tabcontent\" style=\"display:none;\"><div class=\"kda_scroll_container\"><pre>materialization {\n",
       "  materialization_id: \"0a6981c0-588d-4d4f-a2ba-adf01b1045e5\"\n",
       "  materialization_name: \"my_materialization\"\n",
       "  create_time {\n",
       "    seconds: 1678227107\n",
       "    nanos: 54408000\n",
       "  }\n",
       "  query: \"transactions\"\n",
       "  destination {\n",
       "    pulsar {\n",
       "      broker_service_url: \"pulsar://127.0.0.1:6650\"\n",
       "      tenant: \"public\"\n",
       "      namespace: \"default\"\n",
       "      topic_name: \"my_to1pic\"\n",
       "    }\n",
       "  }\n",
       "  schema {\n",
       "    fields {\n",
       "      name: \"id\"\n",
       "      data_type {\n",
       "        primitive: PRIMITIVE_TYPE_STRING\n",
       "      }\n",
       "    }\n",
       "    fields {\n",
       "      name: \"price\"\n",
       "      data_type {\n",
       "        primitive: PRIMITIVE_TYPE_F64\n",
       "      }\n",
       "    }\n",
       "    fields {\n",
       "      name: \"quantity\"\n",
       "      data_type {\n",
       "        primitive: PRIMITIVE_TYPE_I64\n",
       "      }\n",
       "    }\n",
       "    fields {\n",
       "      name: \"purchaser\"\n",
       "      data_type {\n",
       "        primitive: PRIMITIVE_TYPE_STRING\n",
       "      }\n",
       "    }\n",
       "    fields {\n",
       "      name: \"purchaser_id\"\n",
       "      data_type {\n",
       "        primitive: PRIMITIVE_TYPE_STRING\n",
       "      }\n",
       "    }\n",
       "    fields {\n",
       "      name: \"credit_provider\"\n",
       "      data_type {\n",
       "        primitive: PRIMITIVE_TYPE_STRING\n",
       "      }\n",
       "    }\n",
       "    fields {\n",
       "      name: \"email\"\n",
       "      data_type {\n",
       "        primitive: PRIMITIVE_TYPE_STRING\n",
       "      }\n",
       "    }\n",
       "    fields {\n",
       "      name: \"transaction_time\"\n",
       "      data_type {\n",
       "        primitive: PRIMITIVE_TYPE_STRING\n",
       "      }\n",
       "    }\n",
       "    fields {\n",
       "      name: \"idx\"\n",
       "      data_type {\n",
       "        primitive: PRIMITIVE_TYPE_I64\n",
       "      }\n",
       "    }\n",
       "  }\n",
       "  slice {\n",
       "  }\n",
       "  analysis {\n",
       "    fenl_diagnostics {\n",
       "    }\n",
       "    can_execute: true\n",
       "    free_names: \"transactions\"\n",
       "  }\n",
       "}\n",
       "request_details {\n",
       "  request_id: \"34926dbf062513877fee21bebedd9863\"\n",
       "}\n",
       "analysis {\n",
       "  fenl_diagnostics {\n",
       "  }\n",
       "  can_execute: true\n",
       "  free_names: \"transactions\"\n",
       "}\n",
       "</pre></div></div></div>"
      ],
      "text/plain": [
       "materialization {\n",
       "  materialization_id: \"0a6981c0-588d-4d4f-a2ba-adf01b1045e5\"\n",
       "  materialization_name: \"my_materialization\"\n",
       "  create_time {\n",
       "    seconds: 1678227107\n",
       "    nanos: 54408000\n",
       "  }\n",
       "  query: \"transactions\"\n",
       "  destination {\n",
       "    pulsar {\n",
       "      broker_service_url: \"pulsar://127.0.0.1:6650\"\n",
       "      tenant: \"public\"\n",
       "      namespace: \"default\"\n",
       "      topic_name: \"my_to1pic\"\n",
       "    }\n",
       "  }\n",
       "  schema {\n",
       "    fields {\n",
       "      name: \"id\"\n",
       "      data_type {\n",
       "        primitive: PRIMITIVE_TYPE_STRING\n",
       "      }\n",
       "    }\n",
       "    fields {\n",
       "      name: \"price\"\n",
       "      data_type {\n",
       "        primitive: PRIMITIVE_TYPE_F64\n",
       "      }\n",
       "    }\n",
       "    fields {\n",
       "      name: \"quantity\"\n",
       "      data_type {\n",
       "        primitive: PRIMITIVE_TYPE_I64\n",
       "      }\n",
       "    }\n",
       "    fields {\n",
       "      name: \"purchaser\"\n",
       "      data_type {\n",
       "        primitive: PRIMITIVE_TYPE_STRING\n",
       "      }\n",
       "    }\n",
       "    fields {\n",
       "      name: \"purchaser_id\"\n",
       "      data_type {\n",
       "        primitive: PRIMITIVE_TYPE_STRING\n",
       "      }\n",
       "    }\n",
       "    fields {\n",
       "      name: \"credit_provider\"\n",
       "      data_type {\n",
       "        primitive: PRIMITIVE_TYPE_STRING\n",
       "      }\n",
       "    }\n",
       "    fields {\n",
       "      name: \"email\"\n",
       "      data_type {\n",
       "        primitive: PRIMITIVE_TYPE_STRING\n",
       "      }\n",
       "    }\n",
       "    fields {\n",
       "      name: \"transaction_time\"\n",
       "      data_type {\n",
       "        primitive: PRIMITIVE_TYPE_STRING\n",
       "      }\n",
       "    }\n",
       "    fields {\n",
       "      name: \"idx\"\n",
       "      data_type {\n",
       "        primitive: PRIMITIVE_TYPE_I64\n",
       "      }\n",
       "    }\n",
       "  }\n",
       "  slice {\n",
       "  }\n",
       "  analysis {\n",
       "    fenl_diagnostics {\n",
       "    }\n",
       "    can_execute: true\n",
       "    free_names: \"transactions\"\n",
       "  }\n",
       "}\n",
       "request_details {\n",
       "  request_id: \"34926dbf062513877fee21bebedd9863\"\n",
       "}\n",
       "analysis {\n",
       "  fenl_diagnostics {\n",
       "  }\n",
       "  can_execute: true\n",
       "  free_names: \"transactions\"\n",
       "}"
      ]
     },
     "execution_count": 10,
     "metadata": {},
     "output_type": "execute_result"
    }
   ],
   "source": [
    "from kaskada import materialization as materialize\n",
    "from kaskada.materialization import PulsarDestination\n",
    "\n",
    "# A Pulsar topic is composed of a \"tenant\", \"namespace\", and \"name\". \n",
    "# Together, they comprise the `topic_url` in the format: `persistent://<tenant>/<namespace>/<name>`. \n",
    "#\n",
    "# Note that if you change the \"tenant\" or \"namespace\", they must already exist.\n",
    "# The \"public\" tenant and \"default\" namespace are created by default.\n",
    "#\n",
    "# A \"name\" may be used for a single topic. If the query changes, the original topic\n",
    "# must be manually deleted to reuse the name. \n",
    "#\n",
    "# The \"broker_service_url\" is how the client connects to the broker. The pulsar container is exposed \n",
    "# with the hostname \"pulsar\". \n",
    "destination=PulsarDestination(tenant=\"public\", namespace=\"default\", topic_name=\"my_topic\", broker_service_url=\"pulsar://pulsar:6650\")\n",
    "\n",
    "# Creating a materialization runs the query and materializes results to your Pulsar topic. \n",
    "materialize.create_materialization(\n",
    "    name = \"test_materialization\",\n",
    "    expression = test_query.expression,\n",
    "    destination = destination,\n",
    "    views = [] \n",
    ")"
   ]
  },
  {
   "cell_type": "markdown",
   "id": "fc8e59e9",
   "metadata": {},
   "source": [
    "### Consume events from your Pulsar topic \n"
   ]
  },
  {
   "cell_type": "code",
   "execution_count": null,
   "id": "c5e73e8f",
   "metadata": {},
   "outputs": [],
   "source": [
    "import pulsar\n",
    "\n",
    "client = pulsar.Client('pulsar://pulsar:6650')\n",
    "myTopic = \"persistent://public/default/topic-my_topic\"\n",
    "consumer = client.subscribe(myTopic, subscription_name='my-subscription', initial_position=pulsar.InitialPosition.Earliest)\n",
    "\n",
    "for _ in range(2):\n",
    "    msg = consumer.receive()\n",
    "    print(\"Received message: '%s'\" % msg.data())\n",
    "    consumer.acknowledge(msg)"
   ]
  },
  {
   "attachments": {},
   "cell_type": "markdown",
   "id": "270ba3c6",
   "metadata": {},
   "source": [
    "### Load new data "
   ]
  },
  {
   "cell_type": "code",
   "execution_count": null,
   "id": "f6ac2eea",
   "metadata": {},
   "outputs": [
    {
     "ename": "",
     "evalue": "",
     "output_type": "error",
     "traceback": [
      "\u001b[1;31mJupyter cannot be started. Error attempting to locate Jupyter: Running cells requires notebook and jupyter package.\n",
      "\u001b[1;31mRun the following command to install 'jupyter and notebook' into the Python environment. \n",
      "\u001b[1;31mCommand: 'python -m pip install jupyter notebook -U\n",
      "\u001b[1;31mor\n",
      "\u001b[1;31mconda install jupyter notebook -U'\n",
      "\u001b[1;31mClick <a href='https://aka.ms/installJupyterForVSCode'>here</a> for more info."
     ]
    }
   ],
   "source": [
    "# Loading data into a table referenced by an existing materialization will cause the query \n",
    "# to materialize incremental results to your destination. \n",
    "#\n",
    "# In this example, we expect all events in `transaction_part2.parquet` to be materialized \n",
    "# to our topic.\n",
    "kaskada.table.load('transactions', 'data/transactions_part2.parquet')"
   ]
  },
  {
   "cell_type": "code",
   "execution_count": null,
   "id": "c730ce8e",
   "metadata": {},
   "outputs": [],
   "source": [
    "for _ in range(3):\n",
    "    msg = consumer.receive()\n",
    "    print(\"Received message: '%s'\" % msg.data())\n",
    "    consumer.acknowledge(msg)"
   ]
  },
  {
   "cell_type": "code",
   "execution_count": 8,
   "id": "d6aefd74",
   "metadata": {},
   "outputs": [
    {
     "data": {
      "text/html": [
       "<div><div class=\"kda_tab\"><button class=\"kda_tablinks kda_active\" onclick=\"openTab(event, 'details')\">Details</button><button class=\"kda_tablinks\" onclick=\"openTab(event, 'raw')\">Raw</button></div><div class=\"details kda_tabcontent\" style=\"display:block;\"><div class=\"kda_scroll_container\"><table class=\"kda_table\"><tr><td><b>data_token_id</b></td><td><pre>10873462-ae04-40ac-b0e5-cb1b391c76fc</pre></td></tr><tr><td><b>request_details</b></td><td><table class=\"kda_table\"><tr><td><b>request_id</b></td><td><pre>ec13263f9c4c0bb54216f07126928375</pre></td></tr></table></td></tr></table></div></div><div class=\"raw kda_tabcontent\" style=\"display:none;\"><div class=\"kda_scroll_container\"><pre>data_token_id: \"10873462-ae04-40ac-b0e5-cb1b391c76fc\"\n",
       "request_details {\n",
       "  request_id: \"ec13263f9c4c0bb54216f07126928375\"\n",
       "}\n",
       "</pre></div></div></div>"
      ],
      "text/plain": [
       "data_token_id: \"10873462-ae04-40ac-b0e5-cb1b391c76fc\"\n",
       "request_details {\n",
       "  request_id: \"ec13263f9c4c0bb54216f07126928375\"\n",
       "}"
      ]
     },
     "execution_count": 8,
     "metadata": {},
     "output_type": "execute_result"
    }
   ],
   "source": [
    "# `transactions_part3.parquet` contains late data, meaning events from this file occurred \n",
    "# sometime prior to the latest event in a previous input file. Kaskada will re-run the query\n",
    "# from a point in time at which the late data is processed in order relative to existing\n",
    "# input data. Therefore, we expect to see results materialized to your topic starting from\n",
    "# the earliest event time in `transactions_part3.parquet`.\n",
    "kaskada.table.load('transactions', 'data/transactions_part3.parquet')"
   ]
  },
  {
   "cell_type": "code",
   "execution_count": null,
   "id": "7f9a22f4",
   "metadata": {},
   "outputs": [],
   "source": [
    "# This loops infinitely, awaiting more messages in the topic. \n",
    "# You can interrupt the cell to break out of execution.\n",
    "while True:\n",
    "    msg = consumer.receive()\n",
    "    print(\"Received message: '%s'\" % msg.data())\n",
    "    consumer.acknowledge(msg)"
   ]
  }
 ],
 "metadata": {
  "kernelspec": {
   "display_name": "Python 3 (ipykernel)",
   "language": "python",
   "name": "python3"
  },
  "language_info": {
   "codemirror_mode": {
    "name": "ipython",
    "version": 3
   },
   "file_extension": ".py",
   "mimetype": "text/x-python",
   "name": "python",
   "nbconvert_exporter": "python",
   "pygments_lexer": "ipython3",
   "version": "3.8.16 (default, Feb 21 2023, 14:41:07) \n[Clang 14.0.0 (clang-1400.0.29.202)]"
  },
  "vscode": {
   "interpreter": {
    "hash": "bb639d6cc33030a5c542ecee9d922bcc5eba957f5c81d76c4f9da6c108e7b0d1"
   }
  }
 },
 "nbformat": 4,
 "nbformat_minor": 5
}
