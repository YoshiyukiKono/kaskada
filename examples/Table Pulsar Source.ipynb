{
 "cells": [
  {
   "attachments": {},
   "cell_type": "markdown",
   "id": "1842cf72",
   "metadata": {},
   "source": [
    "# Table with Pulsar Source\n",
    "\n",
    "The goal of this notebook is to demonstrate the new API changes to create a table backed by a Pulsar source. This work only demonstrates the definition, creation, and usage of a Pulsar source on a Table (and therefore is not functional). "
   ]
  },
  {
   "cell_type": "code",
   "execution_count": null,
   "id": "ecd5c357",
   "metadata": {},
   "outputs": [],
   "source": [
    "\n",
    "from kaskada.api.session import LocalBuilder\n",
    "session = LocalBuilder().build()"
   ]
  },
  {
   "cell_type": "markdown",
   "id": "aa079aa1",
   "metadata": {},
   "source": [
    "# Create a Table with a Pulsar Source\n",
    "\n",
    "To define a table with Pulsar as the data source use the `PulsarTableSource` class defined under `kaskada.table`."
   ]
  },
  {
   "cell_type": "code",
   "execution_count": null,
   "id": "2c5ba488",
   "metadata": {},
   "outputs": [],
   "source": [
    "import kaskada.table\n",
    "\n",
    "protocol_url = 'pulsar://localhost:6650'\n",
    "topic = 'my-topic'\n",
    "source = kaskada.table.PulsarTableSource(protocol_url, topic)"
   ]
  },
  {
   "cell_type": "markdown",
   "id": "4826f768",
   "metadata": {},
   "source": [
    "## Create Table API Call\n",
    "\n",
    "During table creation, simply supply the PulsarTableSource as the source keyword argument."
   ]
  },
  {
   "cell_type": "code",
   "execution_count": null,
   "id": "5c900b9b",
   "metadata": {},
   "outputs": [],
   "source": [
    "kaskada.table.create_table(\n",
    "    'pulsar-table',\n",
    "    'my-time-column',\n",
    "    'my-entity-key-column',\n",
    "    source = source\n",
    ")"
   ]
  },
  {
   "cell_type": "markdown",
   "id": "b35c3bee",
   "metadata": {},
   "source": [
    "## Get the Table to Verify"
   ]
  },
  {
   "cell_type": "code",
   "execution_count": null,
   "id": "4634c335",
   "metadata": {},
   "outputs": [],
   "source": [
    "kaskada.table.get_table('pulsar-table')"
   ]
  }
 ],
 "metadata": {
  "kernelspec": {
   "display_name": "Python 3 (ipykernel)",
   "language": "python",
   "name": "python3"
  },
  "language_info": {
   "codemirror_mode": {
    "name": "ipython",
    "version": 3
   },
   "file_extension": ".py",
   "mimetype": "text/x-python",
   "name": "python",
   "nbconvert_exporter": "python",
   "pygments_lexer": "ipython3",
   "version": "3.8.16"
  }
 },
 "nbformat": 4,
 "nbformat_minor": 5
}
