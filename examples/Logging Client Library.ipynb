{
 "cells": [
  {
   "cell_type": "markdown",
   "id": "e49012a0",
   "metadata": {},
   "source": [
    "# Logging Client Library\n",
    "\n",
    "**Goal of this notebook:** Explain and provide logging examples for the Kaskada client library."
   ]
  },
  {
   "cell_type": "markdown",
   "id": "7f5fb61b",
   "metadata": {},
   "source": [
    "### Defaults\n",
    "\n",
    "By default, all modules will only INFO level messages to stdout through loggings `basicConfig`. To override these, set the logging level using `basicConfig`.\n",
    "\n",
    "#### Example\n",
    "\n",
    "The example here is a standard use case of setting the logging level to DEBUG (all modules will now debug log)\n",
    "```python\n",
    "import logging\n",
    "logging.basicConfig(level=logging.DEBUG)\n",
    "```\n",
    "\n",
    "#### Gotchas\n",
    "\n",
    "If you change the logging level after initializing it, you will need to reload the logging module.\n",
    "\n",
    "```python\n",
    "import logging\n",
    "import importlib\n",
    "logging.basicConfig(level=logging.DEBUG)\n",
    "importlib.reload(logging) # Reset back to defaults\n",
    "logging.basicConfig(level=logging.INFO)\n",
    "```"
   ]
  },
  {
   "cell_type": "code",
   "execution_count": null,
   "id": "aa554ce2",
   "metadata": {},
   "outputs": [],
   "source": [
    "from kaskada.api.session import LocalBuilder"
   ]
  },
  {
   "cell_type": "code",
   "execution_count": null,
   "id": "732ffec4",
   "metadata": {},
   "outputs": [],
   "source": [
    "# Default level is INFO\n",
    "LocalBuilder().build()"
   ]
  },
  {
   "cell_type": "code",
   "execution_count": null,
   "id": "32624a96",
   "metadata": {},
   "outputs": [],
   "source": [
    "# Set the logging level to debug\n",
    "import logging\n",
    "import importlib\n",
    "importlib.reload(logging) # This needs to happen since Jupyter sets the logging level already.\n",
    "logging.basicConfig(level=logging.DEBUG)"
   ]
  },
  {
   "cell_type": "code",
   "execution_count": null,
   "id": "afa2e4a5",
   "metadata": {},
   "outputs": [],
   "source": [
    "LocalBuilder().build()"
   ]
  },
  {
   "cell_type": "code",
   "execution_count": null,
   "id": "b9d12fef",
   "metadata": {},
   "outputs": [],
   "source": [
    "# Reset the logging level back to INFO\n",
    "importlib.reload(logging)\n",
    "logging.basicConfig(level=logging.INFO)"
   ]
  },
  {
   "cell_type": "code",
   "execution_count": null,
   "id": "247c31ad",
   "metadata": {},
   "outputs": [],
   "source": [
    "LocalBuilder().build()"
   ]
  }
 ],
 "metadata": {
  "kernelspec": {
   "display_name": "Python 3 (ipykernel)",
   "language": "python",
   "name": "python3"
  },
  "language_info": {
   "codemirror_mode": {
    "name": "ipython",
    "version": 3
   },
   "file_extension": ".py",
   "mimetype": "text/x-python",
   "name": "python",
   "nbconvert_exporter": "python",
   "pygments_lexer": "ipython3",
   "version": "3.8.16"
  }
 },
 "nbformat": 4,
 "nbformat_minor": 5
}
