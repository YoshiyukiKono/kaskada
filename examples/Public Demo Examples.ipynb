{
 "cells": [
  {
   "cell_type": "markdown",
   "id": "58957770",
   "metadata": {},
   "source": [
    "# Public Demo Example Notebook\n",
    "\n",
    "*Last modified on 2/23/2023."
   ]
  },
  {
   "cell_type": "markdown",
   "id": "bc090c2a",
   "metadata": {},
   "source": [
    "## Installation\n",
    "\n",
    "The latest Kaskada public client library is available as an alpha release on PyPi. See the [Kaskada Package History](https://pypi.org/project/kaskada/#history) for the latest available version.\n",
    "\n",
    "In this notebook, we will use version: `0.1.1a5`. Since the package is publicly available, please install with:\n",
    "```python\n",
    "pip install kaskada==0.1.1a5\n",
    "```"
   ]
  },
  {
   "cell_type": "code",
   "execution_count": null,
   "id": "3a9b6605",
   "metadata": {},
   "outputs": [],
   "source": [
    "!pip install -q kaskada==0.1.1a4"
   ]
  },
  {
   "cell_type": "markdown",
   "id": "12d8d88c",
   "metadata": {},
   "source": [
    "## Getting started\n",
    "\n",
    "The python client is configured to operate under two modes:\n",
    "* Local - The local client will pull down the Kaskada binaries and run the required dependencies as a session. \n",
    "* Remote - The remote client will simply connect to a hosted version of Kaskada.\n",
    "\n",
    "### Running locally\n",
    "\n",
    "To run locally, use the `LocalBuilder` to create a session. This will pull down the latest binaries, run them, and connect to them. \n",
    "\n",
    "**First Run Warning**: Since the binaries are not officially signed, you will need to authorize the download binaries to run. See Apple Documentation on [Open a Mac app from an unidentified developer](https://support.apple.com/guide/mac-help/open-a-mac-app-from-an-unidentified-developer-mh40616/mac)."
   ]
  },
  {
   "cell_type": "markdown",
   "id": "cb2c26ab",
   "metadata": {},
   "source": [
    "### TODO: Remove once public\n",
    "\n",
    "The following step is required because the Kaskada repo is not public yet. Once public, we can remove this step and no additional authentication is required."
   ]
  },
  {
   "cell_type": "code",
   "execution_count": null,
   "id": "1bde721a",
   "metadata": {},
   "outputs": [],
   "source": [
    "from kaskada.api.session import LocalBuilder\n",
    "session = LocalBuilder().build()"
   ]
  },
  {
   "cell_type": "markdown",
   "id": "30456e86",
   "metadata": {},
   "source": [
    "## Example Data\n",
    "\n",
    "For this notebook, we can use some example data named: `transactions.parquet`. This data is entirely randomly generated."
   ]
  },
  {
   "cell_type": "code",
   "execution_count": null,
   "id": "e25daf60",
   "metadata": {},
   "outputs": [],
   "source": [
    "import pandas as pd\n",
    "pd.read_parquet('transactions.parquet')"
   ]
  },
  {
   "cell_type": "markdown",
   "id": "262bc7f7",
   "metadata": {},
   "source": [
    "## Create a Table\n",
    "\n",
    "Data is loaded to Kaskada through a Table. We currently support CSV and Parquet data. To create a table, you will need the entity key and time column names. The Kaskada python client follows a service module separation so all table related operations are under the `table` module."
   ]
  },
  {
   "cell_type": "code",
   "execution_count": null,
   "id": "dfb26bc6",
   "metadata": {},
   "outputs": [],
   "source": [
    "import kaskada.table\n",
    "kaskada.table.create_table(table_name='transactions', entity_key_column_name='id', time_column_name='transaction_time')"
   ]
  },
  {
   "cell_type": "markdown",
   "id": "4f3ebe26",
   "metadata": {},
   "source": [
    "## Load Data to a Table\n",
    "\n",
    "Data is loaded to a table through the `load` method. Currently, we accept CSV or Parquet data."
   ]
  },
  {
   "cell_type": "code",
   "execution_count": null,
   "id": "49e3b1d1",
   "metadata": {},
   "outputs": [],
   "source": [
    "kaskada.table.load('transactions', 'transactions.parquet')"
   ]
  },
  {
   "cell_type": "markdown",
   "id": "31b4d151",
   "metadata": {},
   "source": [
    "## See all your tables\n",
    "\n",
    "Tables are a managed resource and can be seen in detail by listing or getting them."
   ]
  },
  {
   "cell_type": "code",
   "execution_count": null,
   "id": "cd8b2259",
   "metadata": {},
   "outputs": [],
   "source": [
    "kaskada.table.list_tables()"
   ]
  },
  {
   "cell_type": "code",
   "execution_count": null,
   "id": "85dc4ff5",
   "metadata": {},
   "outputs": [],
   "source": [
    "kaskada.table.get_table('transactions')"
   ]
  },
  {
   "cell_type": "markdown",
   "id": "3676047c",
   "metadata": {},
   "source": [
    "## Start Feature Engineering\n",
    "\n",
    "Once your data is in a table, you can begin the journey of feature engineering using our magic extension `fenlmagic`. To load the extension: `%load_ext fenlmagic`."
   ]
  },
  {
   "cell_type": "code",
   "execution_count": null,
   "id": "fd8933c7",
   "metadata": {},
   "outputs": [],
   "source": [
    "%load_ext fenlmagic"
   ]
  },
  {
   "cell_type": "markdown",
   "id": "6d0ed334",
   "metadata": {},
   "source": [
    "## Run some queries\n",
    "\n",
    "Queries are ran as multi-line cell magics with `%%fenl`. Here are some examples:"
   ]
  },
  {
   "cell_type": "code",
   "execution_count": null,
   "id": "dd7b8747",
   "metadata": {},
   "outputs": [],
   "source": [
    "%%fenl\n",
    "{\n",
    "  last_transaction: last(transactions.price)\n",
    "}"
   ]
  },
  {
   "cell_type": "markdown",
   "id": "730f91bd",
   "metadata": {},
   "source": [
    "## Queries as variables\n",
    "\n",
    "The results of queries can be saved to a variable for subsequent use by using the `--var` parameter."
   ]
  },
  {
   "cell_type": "code",
   "execution_count": null,
   "id": "5279b0e3",
   "metadata": {},
   "outputs": [],
   "source": [
    "%%fenl --var my_query\n",
    "{\n",
    "  last_transaction: last(transactions.price)\n",
    "}"
   ]
  },
  {
   "cell_type": "code",
   "execution_count": null,
   "id": "813d8684",
   "metadata": {},
   "outputs": [],
   "source": [
    "# Get the original query used\n",
    "my_query.query"
   ]
  },
  {
   "cell_type": "markdown",
   "id": "d0c0130d",
   "metadata": {},
   "source": [
    "## See previous queries\n",
    "\n",
    "The metadata used for a query is stored and can be retrieved using a list queries call."
   ]
  },
  {
   "cell_type": "code",
   "execution_count": null,
   "id": "e71474bc",
   "metadata": {},
   "outputs": [],
   "source": [
    "import kaskada.query\n",
    "kaskada.query.list_queries()"
   ]
  },
  {
   "cell_type": "markdown",
   "id": "aa255872",
   "metadata": {},
   "source": [
    "## Views\n",
    "\n",
    "Views are named fenl expressions that can be referenced in other fenl expressions or in materializations."
   ]
  },
  {
   "cell_type": "code",
   "execution_count": null,
   "id": "f52fc3c6",
   "metadata": {},
   "outputs": [],
   "source": [
    "import kaskada.view\n",
    "kaskada.view.create_view(view_name = 'my_first_view', expression=\"last(transactions.price)\")"
   ]
  },
  {
   "cell_type": "code",
   "execution_count": null,
   "id": "2b24d0f9",
   "metadata": {},
   "outputs": [],
   "source": [
    "# Create a view from an existing query\n",
    "previous_query = kaskada.query.list_queries().queries[0]\n",
    "previous_query\n",
    "kaskada.view.create_view(view_name = \"my_second_view\", expression=previous_query.expression)"
   ]
  },
  {
   "cell_type": "markdown",
   "id": "cc66efd4",
   "metadata": {},
   "source": [
    "## Views in Queries\n",
    "\n",
    "A view can be referenced by name in a query"
   ]
  },
  {
   "cell_type": "code",
   "execution_count": null,
   "id": "107bca63",
   "metadata": {},
   "outputs": [],
   "source": [
    "%%fenl\n",
    "my_second_view"
   ]
  },
  {
   "cell_type": "code",
   "execution_count": null,
   "id": "e8f58586",
   "metadata": {},
   "outputs": [],
   "source": [
    "%%fenl\n",
    "my_first_view"
   ]
  }
 ],
 "metadata": {
  "kernelspec": {
   "display_name": "Python 3",
   "language": "python",
   "name": "python3"
  },
  "language_info": {
   "codemirror_mode": {
    "name": "ipython",
    "version": 3
   },
   "file_extension": ".py",
   "mimetype": "text/x-python",
   "name": "python",
   "nbconvert_exporter": "python",
   "pygments_lexer": "ipython3",
   "version": "3.8.16"
  },
  "vscode": {
   "interpreter": {
    "hash": "2a73044caba96c9b65200f613888b01ede560b58bfea27aeaeca02e7a5f7b80b"
   }
  }
 },
 "nbformat": 4,
 "nbformat_minor": 5
}
