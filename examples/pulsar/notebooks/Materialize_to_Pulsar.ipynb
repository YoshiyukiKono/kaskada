{
 "cells": [
  {
   "cell_type": "markdown",
   "id": "409888ce",
   "metadata": {},
   "source": [
    "## Kaskada: Materializing Results to a Pulsar Topic\n",
    "Kaskada allows you to create a materialization, a resource similar to a query, that automatically runs when new data is loaded into any table the materialization references. Materializations can be used to populate feature vectors in a variety of feature stores to be used in production for low-latency inference. In this example, we'll showcase results being incrementally materialized to a Pulsar topic. \n",
    "\n",
    "For more information, see https://kaskada-ai.github.io/docs-site/kaskada/main/reference/working-with-materializations.html. "
   ]
  },
  {
   "cell_type": "code",
   "execution_count": null,
   "id": "041a63b0",
   "metadata": {},
   "outputs": [],
   "source": [
    "import kaskada.api.release as release"
   ]
  },
  {
   "cell_type": "code",
   "execution_count": null,
   "id": "c2877b75",
   "metadata": {},
   "outputs": [],
   "source": [
    "from kaskada.api.session import LocalBuilder\n",
    "session = LocalBuilder().build()"
   ]
  },
  {
   "cell_type": "markdown",
   "id": "0f5e5dfe",
   "metadata": {},
   "source": [
    "### Create the table and load data"
   ]
  },
  {
   "cell_type": "code",
   "execution_count": null,
   "id": "8f6b6947",
   "metadata": {},
   "outputs": [],
   "source": [
    "import kaskada.table\n",
    "\n",
    "kaskada.table.create_table('transactions', 'transaction_time', 'id')"
   ]
  },
  {
   "cell_type": "code",
   "execution_count": null,
   "id": "973476ad",
   "metadata": {},
   "outputs": [],
   "source": [
    "kaskada.table.load('transactions', '../datasets/transactions_part1.parquet')"
   ]
  },
  {
   "cell_type": "markdown",
   "id": "ae41dc94",
   "metadata": {},
   "source": [
    "### Create a referenceable query"
   ]
  },
  {
   "cell_type": "code",
   "execution_count": null,
   "id": "35649c18",
   "metadata": {},
   "outputs": [],
   "source": [
    "%load_ext fenlmagic"
   ]
  },
  {
   "cell_type": "code",
   "execution_count": null,
   "id": "cd42a0d2",
   "metadata": {},
   "outputs": [],
   "source": [
    "%%fenl --result-behavior final-results --var test_query \n",
    "\n",
    "transactions"
   ]
  },
  {
   "cell_type": "markdown",
   "id": "ae12f4bf",
   "metadata": {},
   "source": [
    "### Create a materialization"
   ]
  },
  {
   "cell_type": "code",
   "execution_count": null,
   "id": "017eb64e",
   "metadata": {},
   "outputs": [],
   "source": [
    "from kaskada import materialization as materialize\n",
    "from kaskada.materialization import PulsarDestination\n",
    "\n",
    "# A Pulsar topic is composed of a \"tenant\", \"namespace\", and \"name\". \n",
    "# Together, they comprise the `topic_url` in the format: `persistent://<tenant>/<namespace>/<name>`. \n",
    "#\n",
    "# Note that if you change the \"tenant\" or \"namespace\", they must already exist.\n",
    "# The \"public\" tenant and \"default\" namespace are created by default.\n",
    "#\n",
    "# A \"name\" may be used for a single topic. If the query changes, the original topic\n",
    "# must be manually deleted to reuse the name. \n",
    "#\n",
    "# The \"broker_service_url\" is how the client connects to the broker. The pulsar container is exposed \n",
    "# with the hostname \"pulsar\". \n",
    "destination=PulsarDestination(tenant=\"public\", namespace=\"default\", topic_name=\"my_topic\", broker_service_url=\"pulsar://pulsar:6650\")\n",
    "\n",
    "# Creating a materialization runs the query and materializes results to your Pulsar topic. \n",
    "materialize.create_materialization(\n",
    "    name = \"test_materialization\",\n",
    "    expression = test_query.expression,\n",
    "    destination = destination,\n",
    "    views = [] \n",
    ")"
   ]
  },
  {
   "cell_type": "markdown",
   "id": "fc8e59e9",
   "metadata": {},
   "source": [
    "### Consume events from your Pulsar topic \n"
   ]
  },
  {
   "cell_type": "code",
   "execution_count": null,
   "id": "c5e73e8f",
   "metadata": {},
   "outputs": [],
   "source": [
    "import pulsar\n",
    "\n",
    "client = pulsar.Client('pulsar://pulsar:6650')\n",
    "myTopic = \"persistent://public/default/my_topic\"\n",
    "consumer = client.subscribe(myTopic, subscription_name='my-subscription', initial_position=pulsar.InitialPosition.Earliest)\n",
    "\n",
    "for _ in range(2):\n",
    "    msg = consumer.receive()\n",
    "    print(\"Received message: '%s'\" % msg.data())\n",
    "    consumer.acknowledge(msg)"
   ]
  },
  {
   "cell_type": "markdown",
   "id": "270ba3c6",
   "metadata": {},
   "source": [
    "### Load new data "
   ]
  },
  {
   "cell_type": "code",
   "execution_count": null,
   "id": "f6ac2eea",
   "metadata": {},
   "outputs": [],
   "source": [
    "# Loading data into a table referenced by an existing materialization will cause the query \n",
    "# to materialize incremental results to your destination. \n",
    "#\n",
    "# In this example, we expect all 3 events in `transaction_part2.parquet` to be materialized \n",
    "# to our topic.\n",
    "kaskada.table.load('transactions', '../datasets/transactions_part2.parquet')"
   ]
  },
  {
   "cell_type": "code",
   "execution_count": null,
   "id": "c730ce8e",
   "metadata": {},
   "outputs": [],
   "source": [
    "for _ in range(3):\n",
    "    msg = consumer.receive()\n",
    "    print(\"Received message: '%s'\" % msg.data())\n",
    "    consumer.acknowledge(msg)"
   ]
  },
  {
   "cell_type": "code",
   "execution_count": null,
   "id": "d6aefd74",
   "metadata": {},
   "outputs": [],
   "source": [
    "# Similarly, loads 10 new events\n",
    "kaskada.table.load('transactions', '../datasets/transactions_part3.parquet')"
   ]
  },
  {
   "cell_type": "code",
   "execution_count": null,
   "id": "7f9a22f4",
   "metadata": {},
   "outputs": [],
   "source": [
    "for _ in range(10):\n",
    "    msg = consumer.receive()\n",
    "    print(\"Received message: '%s'\" % msg.data())\n",
    "    consumer.acknowledge(msg)\n",
    "\n",
    "client.close()"
   ]
  }
 ],
 "metadata": {
  "kernelspec": {
   "display_name": "Python 3 (ipykernel)",
   "language": "python",
   "name": "python3"
  },
  "language_info": {
   "codemirror_mode": {
    "name": "ipython",
    "version": 3
   },
   "file_extension": ".py",
   "mimetype": "text/x-python",
   "name": "python",
   "nbconvert_exporter": "python",
   "pygments_lexer": "ipython3",
   "version": "3.8.16 (default, Feb 21 2023, 14:41:07) \n[Clang 14.0.0 (clang-1400.0.29.202)]"
  },
  "vscode": {
   "interpreter": {
    "hash": "bb639d6cc33030a5c542ecee9d922bcc5eba957f5c81d76c4f9da6c108e7b0d1"
   }
  }
 },
 "nbformat": 4,
 "nbformat_minor": 5
}
