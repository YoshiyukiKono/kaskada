{
 "cells": [
  {
   "cell_type": "markdown",
   "id": "409888ce",
   "metadata": {},
   "source": [
    "## Kaskada: Materializing Results to a Pulsar Topic\n",
    "Kaskada allows you to create a materialization, a resource similar to a query, that automatically runs when new data is loaded into any table the materialization references. Materializations can be used to populate feature vectors in a variety of feature stores to be used in production for low-latency inference. In this example, we'll showcase results being incrementally materialized to a Pulsar topic. \n",
    "\n",
    "For more information, see https://kaskada-ai.github.io/docs-site/kaskada/main/reference/working-with-materializations.html. "
   ]
  },
  {
   "cell_type": "code",
   "execution_count": 1,
   "id": "041a63b0",
   "metadata": {},
   "outputs": [
    {
     "name": "stdout",
     "output_type": "stream",
     "text": [
      "Github Access Token:········\n"
     ]
    }
   ],
   "source": [
    "import kaskada.api.release as release\n",
    "import os\n",
    "from getpass import getpass\n",
    "os.environ[release.ReleaseClient.GITHUB_ACCESS_TOKEN_ENV] = getpass(prompt='Github Access Token:')"
   ]
  },
  {
   "cell_type": "code",
   "execution_count": 2,
   "id": "c2877b75",
   "metadata": {},
   "outputs": [
    {
     "name": "stdout",
     "output_type": "stream",
     "text": [
      "INFO:numexpr.utils:NumExpr defaulting to 6 threads.\n"
     ]
    },
    {
     "name": "stderr",
     "output_type": "stream",
     "text": [
      "<jemalloc>: MADV_DONTNEED does not work (memset will be used instead)\n",
      "<jemalloc>: (This is the expected behaviour if you are running under QEMU)\n"
     ]
    },
    {
     "name": "stdout",
     "output_type": "stream",
     "text": [
      "INFO:kaskada.api.release:Using latest release version: engine@v0.4.1\n"
     ]
    },
    {
     "data": {
      "application/vnd.jupyter.widget-view+json": {
       "model_id": "12594b15cab24637a209f4318a5c9a4f",
       "version_major": 2,
       "version_minor": 0
      },
      "text/plain": [
       "kaskada-engine-linux-amd64:   0%|          | 0/74341856 [00:00<?, ?it/s]"
      ]
     },
     "metadata": {},
     "output_type": "display_data"
    },
    {
     "data": {
      "application/vnd.jupyter.widget-view+json": {
       "model_id": "56548c1e8b2547f7a0e26a96fd2bf071",
       "version_major": 2,
       "version_minor": 0
      },
      "text/plain": [
       "kaskada-manager-linux-amd64:   0%|          | 0/37310808 [00:00<?, ?it/s]"
      ]
     },
     "metadata": {},
     "output_type": "display_data"
    },
    {
     "name": "stdout",
     "output_type": "stream",
     "text": [
      "INFO:kaskada.api.session:Initializing manager process\n",
      "INFO:kaskada.api.session:Initializing engine process\n",
      "INFO:kaskada.api.session:Successfully connected to session.\n"
     ]
    },
    {
     "data": {
      "text/html": [
       "<style>table.kda_table {\n",
       "    border: 1px solid grey !important;\n",
       "    border-collapse: collapse !important;\n",
       "    border-spacing: 0 !important;\n",
       "    font-size: 14px !important;\n",
       "    margin-bottom: 6px !important;\n",
       "}\n",
       "\n",
       "table.kda_table table {\n",
       "    margin-bottom: 0 !important;\n",
       "}\n",
       "\n",
       ".kda_table td, .kda_table th {\n",
       "    border: 1px solid grey !important;\n",
       "    border-collapse: collapse !important;\n",
       "    padding: 6px !important;\n",
       "    text-align: left !important;\n",
       "    vertical-align: top !important;\n",
       "}\n",
       "\n",
       ".kda_table tr {\n",
       "    background-color: inherit !important;\n",
       "}\n",
       "\n",
       "/* Style the tab */\n",
       ".kda_tab {\n",
       "    overflow: hidden;\n",
       "    border-bottom: 1px solid grey;\n",
       "    background-color: inherit;\n",
       "}\n",
       "\n",
       "/* Style the buttons that are used to open the tab content */\n",
       ".kda_tab button {\n",
       "    background-color: inherit;\n",
       "    border-top: 1px solid grey;\n",
       "    border-right: 1px solid grey;\n",
       "    border-left: 1px solid grey;\n",
       "    border-bottom: none;\n",
       "    border-radius: 5px 5px 0px 0px;\n",
       "    color: inherit;\n",
       "    cursor: pointer;\n",
       "    float: left;\n",
       "    margin: 2px 8px 0px 2px;\n",
       "    outline: none;\n",
       "    padding: 5px 16px;\n",
       "    transition: 0.3s;\n",
       "}\n",
       "\n",
       "/* Change background color of buttons on hover */\n",
       ".kda_tab button:hover {\n",
       "    background-color: grey;\n",
       "}\n",
       "\n",
       "/* Create an active/current tablink class */\n",
       ".kda_tab button.kda_active {\n",
       "    outline: 2px solid grey;\n",
       "}\n",
       "\n",
       "/* Style the tab content */\n",
       ".kda_tabcontent {\n",
       "    display: none;\n",
       "    padding: 6px;\n",
       "    border: 1px solid grey;\n",
       "    border-top: none;\n",
       "}\n",
       "\n",
       ".kda_scroll_container {\n",
       "    max-height: 400px;\n",
       "    overflow: auto;\n",
       "}\n",
       "</style>"
      ],
      "text/plain": [
       "<IPython.core.display.HTML object>"
      ]
     },
     "metadata": {},
     "output_type": "display_data"
    },
    {
     "data": {
      "text/html": [
       "<script type=\"text/javascript\">function openTab(evt, tabName) {\n",
       "    // Declare all variables\n",
       "    var i, rootElement, tabcontent, tablinks, tabshow;\n",
       "\n",
       "    // Get all elements with class=\"tabcontent\" and hide them\n",
       "    rootElement = evt.currentTarget.parentElement.parentElement;\n",
       "    tabcontent = rootElement.getElementsByClassName(\"kda_tabcontent\");\n",
       "    for (i = 0; i < tabcontent.length; i++) {\n",
       "        tabcontent[i].style.display = \"none\";\n",
       "    }\n",
       "\n",
       "    // Get all elements with class=\"tablinks\" and remove the class \"active\"\n",
       "    tablinks = rootElement.getElementsByClassName(\"kda_tablinks\");\n",
       "    for (i = 0; i < tablinks.length; i++) {\n",
       "        tablinks[i].className = tablinks[i].className.replace(\" kda_active\", \"\");\n",
       "    }\n",
       "\n",
       "    // Show the current tab, and add an \"active\" class to the button that opened the tab\n",
       "    tabshow = rootElement.getElementsByClassName(tabName);\n",
       "    for (i = 0; i < tabshow.length; i++) {\n",
       "        tabshow[i].style.display = \"block\";\n",
       "    }\n",
       "    evt.currentTarget.className += \" kda_active\";\n",
       "}\n",
       "</script>"
      ],
      "text/plain": [
       "<IPython.core.display.HTML object>"
      ]
     },
     "metadata": {},
     "output_type": "display_data"
    }
   ],
   "source": [
    "from kaskada.api.session import LocalBuilder\n",
    "session = LocalBuilder().build()"
   ]
  },
  {
   "cell_type": "markdown",
   "id": "0f5e5dfe",
   "metadata": {},
   "source": [
    "### Create the table and load data"
   ]
  },
  {
   "cell_type": "code",
   "execution_count": 3,
   "id": "8f6b6947",
   "metadata": {},
   "outputs": [
    {
     "data": {
      "text/html": [
       "<div><div class=\"kda_tab\"><button class=\"kda_tablinks kda_active\" onclick=\"openTab(event, 'details')\">Details</button><button class=\"kda_tablinks\" onclick=\"openTab(event, 'raw')\">Raw</button></div><div class=\"details kda_tabcontent\" style=\"display:block;\"><div class=\"kda_scroll_container\"><table class=\"kda_table\"><tr><td><b>table</b></td><td><table class=\"kda_table\"><tr><td><b>table_name</b></td><td><pre>transactions</pre></td></tr><tr><td><b>entity_key_column_name</b></td><td><pre>id</pre></td></tr><tr><td><b>time_column_name</b></td><td><pre>transaction_time</pre></td></tr><tr><td><b>version</b></td><td><pre>0</pre></td></tr><tr><td><b>create_time</b></td><td><pre>2023-03-16T22:30:17.812073</pre></td></tr><tr><td><b>update_time</b></td><td><pre>2023-03-16T22:30:17.812111</pre></td></tr></table></td></tr><tr><td><b>request_details</b></td><td><table class=\"kda_table\"><tr><td><b>request_id</b></td><td><pre>0a39a6207784fbe77bfc13fa229998e9</pre></td></tr></table></td></tr></table></div></div><div class=\"raw kda_tabcontent\" style=\"display:none;\"><div class=\"kda_scroll_container\"><pre>table {\n",
       "  table_id: \"7f829aa0-578b-4229-af33-17aa0096b65f\"\n",
       "  table_name: \"transactions\"\n",
       "  time_column_name: \"transaction_time\"\n",
       "  entity_key_column_name: \"id\"\n",
       "  create_time {\n",
       "    seconds: 1679005817\n",
       "    nanos: 812073000\n",
       "  }\n",
       "  update_time {\n",
       "    seconds: 1679005817\n",
       "    nanos: 812111000\n",
       "  }\n",
       "  table_source {\n",
       "    kaskada {\n",
       "    }\n",
       "  }\n",
       "}\n",
       "request_details {\n",
       "  request_id: \"0a39a6207784fbe77bfc13fa229998e9\"\n",
       "}\n",
       "</pre></div></div></div>"
      ],
      "text/plain": [
       "table {\n",
       "  table_id: \"7f829aa0-578b-4229-af33-17aa0096b65f\"\n",
       "  table_name: \"transactions\"\n",
       "  time_column_name: \"transaction_time\"\n",
       "  entity_key_column_name: \"id\"\n",
       "  create_time {\n",
       "    seconds: 1679005817\n",
       "    nanos: 812073000\n",
       "  }\n",
       "  update_time {\n",
       "    seconds: 1679005817\n",
       "    nanos: 812111000\n",
       "  }\n",
       "  table_source {\n",
       "    kaskada {\n",
       "    }\n",
       "  }\n",
       "}\n",
       "request_details {\n",
       "  request_id: \"0a39a6207784fbe77bfc13fa229998e9\"\n",
       "}"
      ]
     },
     "execution_count": 3,
     "metadata": {},
     "output_type": "execute_result"
    }
   ],
   "source": [
    "import kaskada.table\n",
    "\n",
    "kaskada.table.create_table('transactions', 'transaction_time', 'id')"
   ]
  },
  {
   "cell_type": "code",
   "execution_count": 4,
   "id": "973476ad",
   "metadata": {},
   "outputs": [
    {
     "data": {
      "text/html": [
       "<div><div class=\"kda_tab\"><button class=\"kda_tablinks kda_active\" onclick=\"openTab(event, 'details')\">Details</button><button class=\"kda_tablinks\" onclick=\"openTab(event, 'raw')\">Raw</button></div><div class=\"details kda_tabcontent\" style=\"display:block;\"><div class=\"kda_scroll_container\"><table class=\"kda_table\"><tr><td><b>data_token_id</b></td><td><pre>7bcb67a7-d150-4602-93c3-79de53a6142b</pre></td></tr><tr><td><b>request_details</b></td><td><table class=\"kda_table\"><tr><td><b>request_id</b></td><td><pre>17d91ff5be5f1a9e93ec2495f37cbb28</pre></td></tr></table></td></tr></table></div></div><div class=\"raw kda_tabcontent\" style=\"display:none;\"><div class=\"kda_scroll_container\"><pre>data_token_id: \"7bcb67a7-d150-4602-93c3-79de53a6142b\"\n",
       "request_details {\n",
       "  request_id: \"17d91ff5be5f1a9e93ec2495f37cbb28\"\n",
       "}\n",
       "</pre></div></div></div>"
      ],
      "text/plain": [
       "data_token_id: \"7bcb67a7-d150-4602-93c3-79de53a6142b\"\n",
       "request_details {\n",
       "  request_id: \"17d91ff5be5f1a9e93ec2495f37cbb28\"\n",
       "}"
      ]
     },
     "execution_count": 4,
     "metadata": {},
     "output_type": "execute_result"
    }
   ],
   "source": [
    "kaskada.table.load('transactions', '../datasets/transactions_part1.parquet')"
   ]
  },
  {
   "cell_type": "markdown",
   "id": "ae41dc94",
   "metadata": {},
   "source": [
    "### Create a referenceable query"
   ]
  },
  {
   "cell_type": "code",
   "execution_count": 5,
   "id": "35649c18",
   "metadata": {},
   "outputs": [],
   "source": [
    "%load_ext fenlmagic"
   ]
  },
  {
   "cell_type": "code",
   "execution_count": 6,
   "id": "cd42a0d2",
   "metadata": {},
   "outputs": [
    {
     "data": {
      "text/html": [
       "<div><div class=\"kda_tab\"><button class=\"kda_tablinks kda_active\" onclick=\"openTab(event, 'dataframe')\">Dataframe</button><button class=\"kda_tablinks\" onclick=\"openTab(event, 'details')\">Details</button><button class=\"kda_tablinks\" onclick=\"openTab(event, 'schema')\">Schema</button><button class=\"kda_tablinks\" onclick=\"openTab(event, 'raw')\">Raw</button></div><div class=\"dataframe kda_tabcontent\" style=\"display:block;\"><div class=\"kda_scroll_container\"><html><head></head><body><div><style scoped=\"\">\n",
       "    .dataframe tbody tr th:only-of-type {\n",
       "        vertical-align: middle;\n",
       "    }\n",
       "\n",
       "    .dataframe tbody tr th {\n",
       "        vertical-align: top;\n",
       "    }\n",
       "\n",
       "    .dataframe thead th {\n",
       "        text-align: right;\n",
       "    }\n",
       "</style><table border=\"1\" class=\"dataframe\"><thead><tr style=\"text-align: right;\"><th></th><th>_time</th><th>_subsort</th><th>_key_hash</th><th>_key</th><th>id</th><th>price</th><th>quantity</th><th>purchaser</th><th>purchaser_id</th><th>credit_provider</th><th>email</th><th>transaction_time</th><th>idx</th></tr></thead><tbody><tr><th>0</th><td>2013-01-23 00:20:17.000000001</td><td>18446744073709551615</td><td>139170054356138125</td><td>a0d86e83-a235-4d41-af1d-221222a4c824</td><td>a0d86e83-a235-4d41-af1d-221222a4c824</td><td>115.18</td><td>3</td><td>Dylan Aguilar</td><td>97e575f6bf434306fc5afe71b7f8ea9f</td><td>VISA 19 digit</td><td>Dylan.Aguilar@example.com</td><td>2002-08-09 03:42:38</td><td>0</td></tr><tr><th>1</th><td>2013-01-23 00:20:17.000000001</td><td>18446744073709551615</td><td>15966548824441284666</td><td>5a90a5a5-d32b-4b28-a5d0-b2b84862c0dd</td><td>5a90a5a5-d32b-4b28-a5d0-b2b84862c0dd</td><td>36.10</td><td>8</td><td>Wendy Francis</td><td>a18cd9c625d9d6c56a183471e8cf9248</td><td>VISA 19 digit</td><td>Wendy.Francis@example.com</td><td>2013-01-23 00:20:17</td><td>1</td></tr></tbody></table><p>2 rows × 13 columns</p></div></body></html></div></div><div class=\"details kda_tabcontent\" style=\"display:none;\"><div class=\"kda_scroll_container\"><table class=\"kda_table\"><tr><td><b>state</b></td><td>SUCCESS</td></tr><tr><td><b>query_id</b></td><td>131c012c-3639-4355-a9ee-c260f8b0f698</td></tr><tr><td><b>metrics</b></td><td><table class=\"kda_table\"><tr><td><b>time_preparing</b></td><td>0.177s</td></tr><tr><td><b>time_computing</b></td><td>0.215s</td></tr><tr><td><b>output_files</b></td><td>1</td></tr></table></td></tr><tr><td><b>analysis</b></td><td><table class=\"kda_table\"><tr><td><b>can_execute</b></td><td><pre>True</pre></td></tr></table></td></tr><tr><td><b>schema</b></td><td><pre>(see Schema tab)</pre></td></tr><tr><td><b>request_details</b></td><td><table class=\"kda_table\"><tr><td><b>request_id</b></td><td><pre>8c8108bd099ae8d9ab76863eb43d1284</pre></td></tr></table></td></tr><tr><td><b>expression</b></td><td><pre>transactions</pre></td></tr></table></div></div><div class=\"schema kda_tabcontent\" style=\"display:none;\"><div class=\"kda_scroll_container\"><html><head></head><body><div><style scoped=\"\">\n",
       "    .dataframe tbody tr th:only-of-type {\n",
       "        vertical-align: middle;\n",
       "    }\n",
       "\n",
       "    .dataframe tbody tr th {\n",
       "        vertical-align: top;\n",
       "    }\n",
       "\n",
       "    .dataframe thead th {\n",
       "        text-align: right;\n",
       "    }\n",
       "</style><table border=\"1\" class=\"dataframe\"><thead><tr style=\"text-align: right;\"><th></th><th>column_name</th><th>column_type</th></tr></thead><tbody><tr><th>0</th><td>id</td><td>string</td></tr><tr><th>1</th><td>price</td><td>f64</td></tr><tr><th>2</th><td>quantity</td><td>i64</td></tr><tr><th>3</th><td>purchaser</td><td>string</td></tr><tr><th>4</th><td>purchaser_id</td><td>string</td></tr><tr><th>5</th><td>credit_provider</td><td>string</td></tr><tr><th>6</th><td>email</td><td>string</td></tr><tr><th>7</th><td>transaction_time</td><td>string</td></tr><tr><th>8</th><td>idx</td><td>i64</td></tr></tbody></table></div></body></html></div></div><div class=\"raw kda_tabcontent\" style=\"display:none;\"><div class=\"kda_scroll_container\"><pre>{'dataframe': 'RangeIndex: 2 entries, 0 to 1'\n",
       "              'Columns: 13 entries, _time to idx'\n",
       "              'dtypes: datetime64[ns](1), float64(1), int64(2), object(7), '\n",
       "              'uint64(2)'\n",
       "              'memory usage: 336.0+ bytes',\n",
       " 'expression': 'transactions',\n",
       " 'query_response': state: STATE_SUCCESS\n",
       "config {\n",
       "  data_token_id: \"7bcb67a7-d150-4602-93c3-79de53a6142b\"\n",
       "}\n",
       "analysis {\n",
       "  can_execute: true\n",
       "  schema {\n",
       "    fields {\n",
       "      name: \"id\"\n",
       "      data_type {\n",
       "        primitive: PRIMITIVE_TYPE_STRING\n",
       "      }\n",
       "    }\n",
       "    fields {\n",
       "      name: \"price\"\n",
       "      data_type {\n",
       "        primitive: PRIMITIVE_TYPE_F64\n",
       "      }\n",
       "    }\n",
       "    fields {\n",
       "      name: \"quantity\"\n",
       "      data_type {\n",
       "        primitive: PRIMITIVE_TYPE_I64\n",
       "      }\n",
       "    }\n",
       "    fields {\n",
       "      name: \"purchaser\"\n",
       "      data_type {\n",
       "        primitive: PRIMITIVE_TYPE_STRING\n",
       "      }\n",
       "    }\n",
       "    fields {\n",
       "      name: \"purchaser_id\"\n",
       "      data_type {\n",
       "        primitive: PRIMITIVE_TYPE_STRING\n",
       "      }\n",
       "    }\n",
       "    fields {\n",
       "      name: \"credit_provider\"\n",
       "      data_type {\n",
       "        primitive: PRIMITIVE_TYPE_STRING\n",
       "      }\n",
       "    }\n",
       "    fields {\n",
       "      name: \"email\"\n",
       "      data_type {\n",
       "        primitive: PRIMITIVE_TYPE_STRING\n",
       "      }\n",
       "    }\n",
       "    fields {\n",
       "      name: \"transaction_time\"\n",
       "      data_type {\n",
       "        primitive: PRIMITIVE_TYPE_STRING\n",
       "      }\n",
       "    }\n",
       "    fields {\n",
       "      name: \"idx\"\n",
       "      data_type {\n",
       "        primitive: PRIMITIVE_TYPE_I64\n",
       "      }\n",
       "    }\n",
       "  }\n",
       "}\n",
       "fenl_diagnostics {\n",
       "}\n",
       "metrics {\n",
       "  time_preparing {\n",
       "    nanos: 177492917\n",
       "  }\n",
       "  time_computing {\n",
       "    nanos: 215615458\n",
       "  }\n",
       "  output_files: 1\n",
       "  total_input_rows: 2\n",
       "  processed_input_rows: 2\n",
       "  produced_output_rows: 2\n",
       "}\n",
       "request_details {\n",
       "  request_id: \"8c8108bd099ae8d9ab76863eb43d1284\"\n",
       "}\n",
       "query_id: \"131c012c-3639-4355-a9ee-c260f8b0f698\"\n",
       "output_to {\n",
       "  object_store {\n",
       "    file_type: FILE_TYPE_PARQUET\n",
       "    output_prefix_uri: \"file:///home/jovyan/notebooks/data/results/bf024634-361c-4ba4-9679-bb85246de578/93aPANpQzuBnnxvlcjm2HjSJVGzv2jjcZBa3KA\"\n",
       "    output_paths {\n",
       "      paths: \"/home/jovyan/notebooks/data/results/bf024634-361c-4ba4-9679-bb85246de578/93aPANpQzuBnnxvlcjm2HjSJVGzv2jjcZBa3KA/990c9360-7f32-4957-a5c9-f959c3a0267c.parquet\"\n",
       "    }\n",
       "  }\n",
       "}\n",
       "}</pre></div></div></div>"
      ],
      "text/plain": [
       "<fenlmagic.QueryResult at 0x4103a4e080>"
      ]
     },
     "execution_count": 6,
     "metadata": {},
     "output_type": "execute_result"
    }
   ],
   "source": [
    "%%fenl --result-behavior final-results --var test_query \n",
    "\n",
    "transactions"
   ]
  },
  {
   "cell_type": "markdown",
   "id": "ae12f4bf",
   "metadata": {},
   "source": [
    "### Create a materialization"
   ]
  },
  {
   "cell_type": "code",
   "execution_count": 7,
   "id": "017eb64e",
   "metadata": {},
   "outputs": [
    {
     "data": {
      "text/html": [
       "<div><div class=\"kda_tab\"><button class=\"kda_tablinks kda_active\" onclick=\"openTab(event, 'details')\">Details</button><button class=\"kda_tablinks\" onclick=\"openTab(event, 'schema')\">Schema</button><button class=\"kda_tablinks\" onclick=\"openTab(event, 'raw')\">Raw</button></div><div class=\"details kda_tabcontent\" style=\"display:block;\"><div class=\"kda_scroll_container\"><table class=\"kda_table\"><tr><td><b>materialization</b></td><td><table class=\"kda_table\"><tr><td><b>materialization_name</b></td><td><pre>test_materialization</pre></td></tr><tr><td><b>destination</b></td><td><table class=\"kda_table\"></table></td></tr><tr><td><b>slice</b></td><td><table class=\"kda_table\"><tr><td><b>None</b></td><td><pre>(full dataset used for query)</pre></td></tr></table></td></tr><tr><td><b>schema</b></td><td><pre>(see Schema tab)</pre></td></tr><tr><td><b>create_time</b></td><td><pre>2023-03-16T22:31:13.807262</pre></td></tr></table></td></tr><tr><td><b>analysis</b></td><td><table class=\"kda_table\"><tr><td><b>can_execute</b></td><td><pre>True</pre></td></tr></table></td></tr><tr><td><b>request_details</b></td><td><table class=\"kda_table\"><tr><td><b>request_id</b></td><td><pre>ca5d34d23c5815c0d8ccbd55f522e76e</pre></td></tr></table></td></tr></table></div></div><div class=\"schema kda_tabcontent\" style=\"display:none;\"><div class=\"kda_scroll_container\"><html><head></head><body><div><style scoped=\"\">\n",
       "    .dataframe tbody tr th:only-of-type {\n",
       "        vertical-align: middle;\n",
       "    }\n",
       "\n",
       "    .dataframe tbody tr th {\n",
       "        vertical-align: top;\n",
       "    }\n",
       "\n",
       "    .dataframe thead th {\n",
       "        text-align: right;\n",
       "    }\n",
       "</style><table border=\"1\" class=\"dataframe\"><thead><tr style=\"text-align: right;\"><th></th><th>column_name</th><th>column_type</th></tr></thead><tbody><tr><th>0</th><td>id</td><td>string</td></tr><tr><th>1</th><td>price</td><td>f64</td></tr><tr><th>2</th><td>quantity</td><td>i64</td></tr><tr><th>3</th><td>purchaser</td><td>string</td></tr><tr><th>4</th><td>purchaser_id</td><td>string</td></tr><tr><th>5</th><td>credit_provider</td><td>string</td></tr><tr><th>6</th><td>email</td><td>string</td></tr><tr><th>7</th><td>transaction_time</td><td>string</td></tr><tr><th>8</th><td>idx</td><td>i64</td></tr></tbody></table></div></body></html></div></div><div class=\"raw kda_tabcontent\" style=\"display:none;\"><div class=\"kda_scroll_container\"><pre>materialization {\n",
       "  materialization_id: \"2a107640-8fc5-4d49-af9b-8424510f7740\"\n",
       "  materialization_name: \"test_materialization\"\n",
       "  create_time {\n",
       "    seconds: 1679005873\n",
       "    nanos: 807262000\n",
       "  }\n",
       "  destination {\n",
       "    pulsar {\n",
       "      broker_service_url: \"pulsar://pulsar:6650\"\n",
       "      tenant: \"public\"\n",
       "      namespace: \"default\"\n",
       "      topic_name: \"my_topic\"\n",
       "    }\n",
       "  }\n",
       "  schema {\n",
       "    fields {\n",
       "      name: \"id\"\n",
       "      data_type {\n",
       "        primitive: PRIMITIVE_TYPE_STRING\n",
       "      }\n",
       "    }\n",
       "    fields {\n",
       "      name: \"price\"\n",
       "      data_type {\n",
       "        primitive: PRIMITIVE_TYPE_F64\n",
       "      }\n",
       "    }\n",
       "    fields {\n",
       "      name: \"quantity\"\n",
       "      data_type {\n",
       "        primitive: PRIMITIVE_TYPE_I64\n",
       "      }\n",
       "    }\n",
       "    fields {\n",
       "      name: \"purchaser\"\n",
       "      data_type {\n",
       "        primitive: PRIMITIVE_TYPE_STRING\n",
       "      }\n",
       "    }\n",
       "    fields {\n",
       "      name: \"purchaser_id\"\n",
       "      data_type {\n",
       "        primitive: PRIMITIVE_TYPE_STRING\n",
       "      }\n",
       "    }\n",
       "    fields {\n",
       "      name: \"credit_provider\"\n",
       "      data_type {\n",
       "        primitive: PRIMITIVE_TYPE_STRING\n",
       "      }\n",
       "    }\n",
       "    fields {\n",
       "      name: \"email\"\n",
       "      data_type {\n",
       "        primitive: PRIMITIVE_TYPE_STRING\n",
       "      }\n",
       "    }\n",
       "    fields {\n",
       "      name: \"transaction_time\"\n",
       "      data_type {\n",
       "        primitive: PRIMITIVE_TYPE_STRING\n",
       "      }\n",
       "    }\n",
       "    fields {\n",
       "      name: \"idx\"\n",
       "      data_type {\n",
       "        primitive: PRIMITIVE_TYPE_I64\n",
       "      }\n",
       "    }\n",
       "  }\n",
       "  slice {\n",
       "  }\n",
       "  analysis {\n",
       "    fenl_diagnostics {\n",
       "    }\n",
       "    can_execute: true\n",
       "    free_names: \"transactions\"\n",
       "  }\n",
       "  expression: \"transactions\"\n",
       "}\n",
       "request_details {\n",
       "  request_id: \"ca5d34d23c5815c0d8ccbd55f522e76e\"\n",
       "}\n",
       "analysis {\n",
       "  fenl_diagnostics {\n",
       "  }\n",
       "  can_execute: true\n",
       "  free_names: \"transactions\"\n",
       "}\n",
       "</pre></div></div></div>"
      ],
      "text/plain": [
       "materialization {\n",
       "  materialization_id: \"2a107640-8fc5-4d49-af9b-8424510f7740\"\n",
       "  materialization_name: \"test_materialization\"\n",
       "  create_time {\n",
       "    seconds: 1679005873\n",
       "    nanos: 807262000\n",
       "  }\n",
       "  destination {\n",
       "    pulsar {\n",
       "      broker_service_url: \"pulsar://pulsar:6650\"\n",
       "      tenant: \"public\"\n",
       "      namespace: \"default\"\n",
       "      topic_name: \"my_topic\"\n",
       "    }\n",
       "  }\n",
       "  schema {\n",
       "    fields {\n",
       "      name: \"id\"\n",
       "      data_type {\n",
       "        primitive: PRIMITIVE_TYPE_STRING\n",
       "      }\n",
       "    }\n",
       "    fields {\n",
       "      name: \"price\"\n",
       "      data_type {\n",
       "        primitive: PRIMITIVE_TYPE_F64\n",
       "      }\n",
       "    }\n",
       "    fields {\n",
       "      name: \"quantity\"\n",
       "      data_type {\n",
       "        primitive: PRIMITIVE_TYPE_I64\n",
       "      }\n",
       "    }\n",
       "    fields {\n",
       "      name: \"purchaser\"\n",
       "      data_type {\n",
       "        primitive: PRIMITIVE_TYPE_STRING\n",
       "      }\n",
       "    }\n",
       "    fields {\n",
       "      name: \"purchaser_id\"\n",
       "      data_type {\n",
       "        primitive: PRIMITIVE_TYPE_STRING\n",
       "      }\n",
       "    }\n",
       "    fields {\n",
       "      name: \"credit_provider\"\n",
       "      data_type {\n",
       "        primitive: PRIMITIVE_TYPE_STRING\n",
       "      }\n",
       "    }\n",
       "    fields {\n",
       "      name: \"email\"\n",
       "      data_type {\n",
       "        primitive: PRIMITIVE_TYPE_STRING\n",
       "      }\n",
       "    }\n",
       "    fields {\n",
       "      name: \"transaction_time\"\n",
       "      data_type {\n",
       "        primitive: PRIMITIVE_TYPE_STRING\n",
       "      }\n",
       "    }\n",
       "    fields {\n",
       "      name: \"idx\"\n",
       "      data_type {\n",
       "        primitive: PRIMITIVE_TYPE_I64\n",
       "      }\n",
       "    }\n",
       "  }\n",
       "  slice {\n",
       "  }\n",
       "  analysis {\n",
       "    fenl_diagnostics {\n",
       "    }\n",
       "    can_execute: true\n",
       "    free_names: \"transactions\"\n",
       "  }\n",
       "  expression: \"transactions\"\n",
       "}\n",
       "request_details {\n",
       "  request_id: \"ca5d34d23c5815c0d8ccbd55f522e76e\"\n",
       "}\n",
       "analysis {\n",
       "  fenl_diagnostics {\n",
       "  }\n",
       "  can_execute: true\n",
       "  free_names: \"transactions\"\n",
       "}"
      ]
     },
     "execution_count": 7,
     "metadata": {},
     "output_type": "execute_result"
    }
   ],
   "source": [
    "from kaskada import materialization as materialize\n",
    "from kaskada.materialization import PulsarDestination\n",
    "\n",
    "# A Pulsar topic is composed of a \"tenant\", \"namespace\", and \"name\". \n",
    "# Together, they comprise the `topic_url` in the format: `persistent://<tenant>/<namespace>/<name>`. \n",
    "#\n",
    "# Note that if you change the \"tenant\" or \"namespace\", they must already exist.\n",
    "# The \"public\" tenant and \"default\" namespace are created by default.\n",
    "#\n",
    "# A \"name\" may be used for a single topic. If the query changes, the original topic\n",
    "# must be manually deleted to reuse the name. \n",
    "#\n",
    "# The \"broker_service_url\" is how the client connects to the broker. The pulsar container is exposed \n",
    "# with the hostname \"pulsar\". \n",
    "destination=PulsarDestination(tenant=\"public\", namespace=\"default\", topic_name=\"my_topic\", broker_service_url=\"pulsar://pulsar:6650\")\n",
    "\n",
    "# Creating a materialization runs the query and materializes results to your Pulsar topic. \n",
    "materialize.create_materialization(\n",
    "    name = \"test_materialization\",\n",
    "    expression = test_query.expression,\n",
    "    destination = destination,\n",
    "    views = [] \n",
    ")"
   ]
  },
  {
   "cell_type": "markdown",
   "id": "fc8e59e9",
   "metadata": {},
   "source": [
    "### Consume events from your Pulsar topic \n"
   ]
  },
  {
   "cell_type": "code",
   "execution_count": 9,
   "id": "c5e73e8f",
   "metadata": {},
   "outputs": [
    {
     "name": "stdout",
     "output_type": "stream",
     "text": [
      "2023-03-16 22:31:25.305 INFO  [274910443392] Client:87 | Subscribing on Topic :persistent://public/default/topic-my_topic\n",
      "2023-03-16 22:31:25.309 INFO  [274910443392] ClientConnection:189 | [<none> -> pulsar://pulsar:6650] Create ClientConnection, timeout=10000\n",
      "2023-03-16 22:31:25.309 INFO  [274910443392] ConnectionPool:97 | Created connection for pulsar://pulsar:6650\n",
      "2023-03-16 22:31:25.314 INFO  [281182012992] ClientConnection:379 | [172.25.0.3:41518 -> 172.25.0.2:6650] Connected to broker\n",
      "2023-03-16 22:31:25.385 INFO  [281182012992] HandlerBase:72 | [persistent://public/default/topic-my_topic, my-subscription, 0] Getting connection from pool\n",
      "2023-03-16 22:31:25.399 INFO  [281182012992] ClientConnection:189 | [<none> -> pulsar://pulsar:6650] Create ClientConnection, timeout=10000\n",
      "2023-03-16 22:31:25.399 INFO  [281182012992] ConnectionPool:97 | Created connection for pulsar://localhost:6650\n",
      "2023-03-16 22:31:25.400 INFO  [281182012992] ClientConnection:381 | [172.25.0.3:41524 -> 172.25.0.2:6650] Connected to broker through proxy. Logical broker: pulsar://localhost:6650\n",
      "2023-03-16 22:31:25.445 INFO  [281182012992] ConsumerImpl:238 | [persistent://public/default/topic-my_topic, my-subscription, 0] Created consumer on broker [172.25.0.3:41524 -> 172.25.0.2:6650] \n",
      "Received message: 'b'{\"_key\":\"a0d86e83-a235-4d41-af1d-221222a4c824\",\"_time\":\"2013-01-23T00:20:17\",\"credit_provider\":\"VISA 19 digit\",\"email\":\"Dylan.Aguilar@example.com\",\"id\":\"a0d86e83-a235-4d41-af1d-221222a4c824\",\"idx\":0,\"price\":115.18,\"purchaser\":\"Dylan Aguilar\",\"purchaser_id\":\"97e575f6bf434306fc5afe71b7f8ea9f\",\"quantity\":3,\"transaction_time\":\"2002-08-09 03:42:38\"}''\n",
      "Received message: 'b'{\"_key\":\"5a90a5a5-d32b-4b28-a5d0-b2b84862c0dd\",\"_time\":\"2013-01-23T00:20:17\",\"credit_provider\":\"VISA 19 digit\",\"email\":\"Wendy.Francis@example.com\",\"id\":\"5a90a5a5-d32b-4b28-a5d0-b2b84862c0dd\",\"idx\":1,\"price\":36.1,\"purchaser\":\"Wendy Francis\",\"purchaser_id\":\"a18cd9c625d9d6c56a183471e8cf9248\",\"quantity\":8,\"transaction_time\":\"2013-01-23 00:20:17\"}''\n"
     ]
    }
   ],
   "source": [
    "import pulsar\n",
    "\n",
    "client = pulsar.Client('pulsar://pulsar:6650')\n",
    "myTopic = \"persistent://public/default/topic-my_topic\"\n",
    "consumer = client.subscribe(myTopic, subscription_name='my-subscription', initial_position=pulsar.InitialPosition.Earliest)\n",
    "\n",
    "for _ in range(2):\n",
    "    msg = consumer.receive()\n",
    "    print(\"Received message: '%s'\" % msg.data())\n",
    "    consumer.acknowledge(msg)"
   ]
  },
  {
   "cell_type": "markdown",
   "id": "270ba3c6",
   "metadata": {},
   "source": [
    "### Load new data "
   ]
  },
  {
   "cell_type": "code",
   "execution_count": 10,
   "id": "f6ac2eea",
   "metadata": {},
   "outputs": [
    {
     "name": "stderr",
     "output_type": "stream",
     "text": [
      "Exception: An error occurred in your request.\n",
      "\tError Code: UNAVAILABLE\n",
      "\tError Message: failed to connect to all addresses; last error: UNKNOWN: ipv4:127.0.0.1:50051: Failed to connect to remote host: Connection refused\n",
      "\n"
     ]
    }
   ],
   "source": [
    "# Loading data into a table referenced by an existing materialization will cause the query \n",
    "# to materialize incremental results to your destination. \n",
    "#\n",
    "# In this example, we expect all 3 events in `transaction_part2.parquet` to be materialized \n",
    "# to our topic.\n",
    "kaskada.table.load('transactions', '../datasets/transactions_part2.parquet')"
   ]
  },
  {
   "cell_type": "code",
   "execution_count": null,
   "id": "c730ce8e",
   "metadata": {},
   "outputs": [],
   "source": [
    "for _ in range(3):\n",
    "    msg = consumer.receive()\n",
    "    print(\"Received message: '%s'\" % msg.data())\n",
    "    consumer.acknowledge(msg)"
   ]
  },
  {
   "cell_type": "code",
   "execution_count": null,
   "id": "d6aefd74",
   "metadata": {},
   "outputs": [],
   "source": [
    "# Similarly, loads 10 new events\n",
    "kaskada.table.load('transactions', '../datasets/transactions_part3.parquet')"
   ]
  },
  {
   "cell_type": "code",
   "execution_count": null,
   "id": "7f9a22f4",
   "metadata": {},
   "outputs": [],
   "source": [
    "for _ in range(10):\n",
    "    msg = consumer.receive()\n",
    "    print(\"Received message: '%s'\" % msg.data())\n",
    "    consumer.acknowledge(msg)\n",
    "\n",
    "client.close()"
   ]
  }
 ],
 "metadata": {
  "kernelspec": {
   "display_name": "Python 3 (ipykernel)",
   "language": "python",
   "name": "python3"
  },
  "language_info": {
   "codemirror_mode": {
    "name": "ipython",
    "version": 3
   },
   "file_extension": ".py",
   "mimetype": "text/x-python",
   "name": "python",
   "nbconvert_exporter": "python",
   "pygments_lexer": "ipython3",
   "version": "3.8.16 (default, Feb 21 2023, 14:41:07) \n[Clang 14.0.0 (clang-1400.0.29.202)]"
  },
  "vscode": {
   "interpreter": {
    "hash": "bb639d6cc33030a5c542ecee9d922bcc5eba957f5c81d76c4f9da6c108e7b0d1"
   }
  }
 },
 "nbformat": 4,
 "nbformat_minor": 5
}
