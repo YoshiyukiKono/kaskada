{
 "cells": [
  {
   "cell_type": "markdown",
   "metadata": {
    "id": "f07j41yeHlne"
   },
   "source": [
    "# Kaskada: ML example"
   ]
  },
  {
   "cell_type": "markdown",
   "metadata": {
    "id": "-8yq7sRCIguU"
   },
   "source": [
    "### Setting up a Kaskada environment\n"
   ]
  },
  {
   "cell_type": "code",
   "execution_count": 1,
   "metadata": {
    "tags": []
   },
   "outputs": [
    {
     "name": "stdout",
     "output_type": "stream",
     "text": [
      "Requirement already satisfied: kaskada==0.1.1a7 in /Users/jordan.frazier/.pyenv/versions/3.8.16/lib/python3.8/site-packages (0.1.1a7)\n",
      "Requirement already satisfied: grpcio-status<2.0.0,>=1.51.1 in /Users/jordan.frazier/.pyenv/versions/3.8.16/lib/python3.8/site-packages (from kaskada==0.1.1a7) (1.51.3)\n",
      "Requirement already satisfied: googleapis-common-protos<2.0.0,>=1.58.0 in /Users/jordan.frazier/.pyenv/versions/3.8.16/lib/python3.8/site-packages (from kaskada==0.1.1a7) (1.58.0)\n",
      "Requirement already satisfied: pygithub<2.0,>=1.57 in /Users/jordan.frazier/.pyenv/versions/3.8.16/lib/python3.8/site-packages (from kaskada==0.1.1a7) (1.58.0)\n",
      "Requirement already satisfied: tqdm<5.0.0,>=4.64.1 in /Users/jordan.frazier/.pyenv/versions/3.8.16/lib/python3.8/site-packages (from kaskada==0.1.1a7) (4.65.0)\n",
      "Requirement already satisfied: ipython==7.34.0 in /Users/jordan.frazier/.pyenv/versions/3.8.16/lib/python3.8/site-packages (from kaskada==0.1.1a7) (7.34.0)\n",
      "Requirement already satisfied: pyarrow<11.0.0,>=10.0.1 in /Users/jordan.frazier/.pyenv/versions/3.8.16/lib/python3.8/site-packages (from kaskada==0.1.1a7) (10.0.1)\n",
      "Requirement already satisfied: domonic<0.10.0,>=0.9.11 in /Users/jordan.frazier/.pyenv/versions/3.8.16/lib/python3.8/site-packages (from kaskada==0.1.1a7) (0.9.11)\n",
      "Requirement already satisfied: pandas<1.4,>=1.3 in /Users/jordan.frazier/.pyenv/versions/3.8.16/lib/python3.8/site-packages (from kaskada==0.1.1a7) (1.3.5)\n",
      "Requirement already satisfied: html5lib<2.0,>=1.1 in /Users/jordan.frazier/.pyenv/versions/3.8.16/lib/python3.8/site-packages (from kaskada==0.1.1a7) (1.1)\n",
      "Requirement already satisfied: grpcio<2.0.0,>=1.51.1 in /Users/jordan.frazier/.pyenv/versions/3.8.16/lib/python3.8/site-packages (from kaskada==0.1.1a7) (1.51.3)\n",
      "Requirement already satisfied: certifi<2023.0.0,>=2022.12.7 in /Users/jordan.frazier/.pyenv/versions/3.8.16/lib/python3.8/site-packages (from kaskada==0.1.1a7) (2022.12.7)\n",
      "Requirement already satisfied: requests<3.0.0,>=2.28.2 in /Users/jordan.frazier/.pyenv/versions/3.8.16/lib/python3.8/site-packages (from kaskada==0.1.1a7) (2.28.2)\n",
      "Requirement already satisfied: prompt-toolkit!=3.0.0,!=3.0.1,<3.1.0,>=2.0.0 in /Users/jordan.frazier/.pyenv/versions/3.8.16/lib/python3.8/site-packages (from ipython==7.34.0->kaskada==0.1.1a7) (3.0.38)\n",
      "Requirement already satisfied: pygments in /Users/jordan.frazier/.pyenv/versions/3.8.16/lib/python3.8/site-packages (from ipython==7.34.0->kaskada==0.1.1a7) (2.14.0)\n",
      "Requirement already satisfied: backcall in /Users/jordan.frazier/.pyenv/versions/3.8.16/lib/python3.8/site-packages (from ipython==7.34.0->kaskada==0.1.1a7) (0.2.0)\n",
      "Requirement already satisfied: decorator in /Users/jordan.frazier/.pyenv/versions/3.8.16/lib/python3.8/site-packages (from ipython==7.34.0->kaskada==0.1.1a7) (5.1.1)\n",
      "Requirement already satisfied: matplotlib-inline in /Users/jordan.frazier/.pyenv/versions/3.8.16/lib/python3.8/site-packages (from ipython==7.34.0->kaskada==0.1.1a7) (0.1.6)\n",
      "Requirement already satisfied: appnope in /Users/jordan.frazier/.pyenv/versions/3.8.16/lib/python3.8/site-packages (from ipython==7.34.0->kaskada==0.1.1a7) (0.1.3)\n",
      "Requirement already satisfied: setuptools>=18.5 in /Users/jordan.frazier/.pyenv/versions/3.8.16/lib/python3.8/site-packages (from ipython==7.34.0->kaskada==0.1.1a7) (56.0.0)\n",
      "Requirement already satisfied: traitlets>=4.2 in /Users/jordan.frazier/.pyenv/versions/3.8.16/lib/python3.8/site-packages (from ipython==7.34.0->kaskada==0.1.1a7) (5.9.0)\n",
      "Requirement already satisfied: jedi>=0.16 in /Users/jordan.frazier/.pyenv/versions/3.8.16/lib/python3.8/site-packages (from ipython==7.34.0->kaskada==0.1.1a7) (0.18.2)\n",
      "Requirement already satisfied: pickleshare in /Users/jordan.frazier/.pyenv/versions/3.8.16/lib/python3.8/site-packages (from ipython==7.34.0->kaskada==0.1.1a7) (0.7.5)\n",
      "Requirement already satisfied: pexpect>4.3 in /Users/jordan.frazier/.pyenv/versions/3.8.16/lib/python3.8/site-packages (from ipython==7.34.0->kaskada==0.1.1a7) (4.8.0)\n",
      "Requirement already satisfied: urllib3~=1.26.9 in /Users/jordan.frazier/.pyenv/versions/3.8.16/lib/python3.8/site-packages (from domonic<0.10.0,>=0.9.11->kaskada==0.1.1a7) (1.26.14)\n",
      "Requirement already satisfied: cssselect~=1.1.0 in /Users/jordan.frazier/.pyenv/versions/3.8.16/lib/python3.8/site-packages (from domonic<0.10.0,>=0.9.11->kaskada==0.1.1a7) (1.1.0)\n",
      "Requirement already satisfied: python-dateutil==2.8.2 in /Users/jordan.frazier/.pyenv/versions/3.8.16/lib/python3.8/site-packages (from domonic<0.10.0,>=0.9.11->kaskada==0.1.1a7) (2.8.2)\n",
      "Requirement already satisfied: elementpath~=2.5.2 in /Users/jordan.frazier/.pyenv/versions/3.8.16/lib/python3.8/site-packages (from domonic<0.10.0,>=0.9.11->kaskada==0.1.1a7) (2.5.3)\n",
      "Requirement already satisfied: six>=1.5 in /Users/jordan.frazier/.pyenv/versions/3.8.16/lib/python3.8/site-packages (from python-dateutil==2.8.2->domonic<0.10.0,>=0.9.11->kaskada==0.1.1a7) (1.16.0)\n",
      "Requirement already satisfied: protobuf!=3.20.0,!=3.20.1,!=4.21.1,!=4.21.2,!=4.21.3,!=4.21.4,!=4.21.5,<5.0.0dev,>=3.19.5 in /Users/jordan.frazier/.pyenv/versions/3.8.16/lib/python3.8/site-packages (from googleapis-common-protos<2.0.0,>=1.58.0->kaskada==0.1.1a7) (4.22.0)\n",
      "Requirement already satisfied: webencodings in /Users/jordan.frazier/.pyenv/versions/3.8.16/lib/python3.8/site-packages (from html5lib<2.0,>=1.1->kaskada==0.1.1a7) (0.5.1)\n",
      "Requirement already satisfied: pytz>=2017.3 in /Users/jordan.frazier/.pyenv/versions/3.8.16/lib/python3.8/site-packages (from pandas<1.4,>=1.3->kaskada==0.1.1a7) (2022.7.1)\n",
      "Requirement already satisfied: numpy>=1.20.0 in /Users/jordan.frazier/.pyenv/versions/3.8.16/lib/python3.8/site-packages (from pandas<1.4,>=1.3->kaskada==0.1.1a7) (1.24.2)\n",
      "Requirement already satisfied: pynacl>=1.4.0 in /Users/jordan.frazier/.pyenv/versions/3.8.16/lib/python3.8/site-packages (from pygithub<2.0,>=1.57->kaskada==0.1.1a7) (1.5.0)\n",
      "Requirement already satisfied: pyjwt>=2.4.0 in /Users/jordan.frazier/.pyenv/versions/3.8.16/lib/python3.8/site-packages (from pygithub<2.0,>=1.57->kaskada==0.1.1a7) (2.6.0)\n",
      "Requirement already satisfied: deprecated in /Users/jordan.frazier/.pyenv/versions/3.8.16/lib/python3.8/site-packages (from pygithub<2.0,>=1.57->kaskada==0.1.1a7) (1.2.13)\n",
      "Requirement already satisfied: charset-normalizer<4,>=2 in /Users/jordan.frazier/.pyenv/versions/3.8.16/lib/python3.8/site-packages (from requests<3.0.0,>=2.28.2->kaskada==0.1.1a7) (3.1.0)\n",
      "Requirement already satisfied: idna<4,>=2.5 in /Users/jordan.frazier/.pyenv/versions/3.8.16/lib/python3.8/site-packages (from requests<3.0.0,>=2.28.2->kaskada==0.1.1a7) (3.4)\n",
      "Requirement already satisfied: parso<0.9.0,>=0.8.0 in /Users/jordan.frazier/.pyenv/versions/3.8.16/lib/python3.8/site-packages (from jedi>=0.16->ipython==7.34.0->kaskada==0.1.1a7) (0.8.3)\n",
      "Requirement already satisfied: ptyprocess>=0.5 in /Users/jordan.frazier/.pyenv/versions/3.8.16/lib/python3.8/site-packages (from pexpect>4.3->ipython==7.34.0->kaskada==0.1.1a7) (0.7.0)\n",
      "Requirement already satisfied: wcwidth in /Users/jordan.frazier/.pyenv/versions/3.8.16/lib/python3.8/site-packages (from prompt-toolkit!=3.0.0,!=3.0.1,<3.1.0,>=2.0.0->ipython==7.34.0->kaskada==0.1.1a7) (0.2.6)\n",
      "Requirement already satisfied: cffi>=1.4.1 in /Users/jordan.frazier/.pyenv/versions/3.8.16/lib/python3.8/site-packages (from pynacl>=1.4.0->pygithub<2.0,>=1.57->kaskada==0.1.1a7) (1.15.1)\n",
      "Requirement already satisfied: wrapt<2,>=1.10 in /Users/jordan.frazier/.pyenv/versions/3.8.16/lib/python3.8/site-packages (from deprecated->pygithub<2.0,>=1.57->kaskada==0.1.1a7) (1.15.0)\n",
      "Requirement already satisfied: pycparser in /Users/jordan.frazier/.pyenv/versions/3.8.16/lib/python3.8/site-packages (from cffi>=1.4.1->pynacl>=1.4.0->pygithub<2.0,>=1.57->kaskada==0.1.1a7) (2.21)\n",
      "\u001b[33mWARNING: You are using pip version 22.0.4; however, version 23.0.1 is available.\n",
      "You should consider upgrading via the '/Users/jordan.frazier/.pyenv/versions/3.8.16/bin/python3.8 -m pip install --upgrade pip' command.\u001b[0m\u001b[33m\n",
      "\u001b[0m"
     ]
    }
   ],
   "source": [
    "!pip install kaskada==0.1.1a7"
   ]
  },
  {
   "cell_type": "code",
   "execution_count": 2,
   "metadata": {
    "tags": []
   },
   "outputs": [
    {
     "name": "stdout",
     "output_type": "stream",
     "text": [
      "Github Access Token:········\n"
     ]
    }
   ],
   "source": [
    "import kaskada.api.release as release\n",
    "import os\n",
    "from getpass import getpass\n",
    "\n",
    "os.environ[release.ReleaseClient.GITHUB_ACCESS_TOKEN_ENV] = getpass(prompt='Github Access Token:')"
   ]
  },
  {
   "cell_type": "code",
   "execution_count": 3,
   "metadata": {
    "tags": []
   },
   "outputs": [
    {
     "name": "stdout",
     "output_type": "stream",
     "text": [
      "INFO:kaskada.api.release:Using latest release version: engine@v0.4.0\n"
     ]
    },
    {
     "name": "stderr",
     "output_type": "stream",
     "text": [
      "/Users/jordan.frazier/.pyenv/versions/3.8.16/lib/python3.8/site-packages/tqdm/auto.py:21: TqdmWarning: IProgress not found. Please update jupyter and ipywidgets. See https://ipywidgets.readthedocs.io/en/stable/user_install.html\n",
      "  from .autonotebook import tqdm as notebook_tqdm\n",
      "kaskada-engine-darwin-arm64: 100%|██████████████████████████████████████████████████████████████████████████████████████████████████████████████████████████████████████████████████████████████████████████████████████████████████████████████████████████████████████████████████████████████████████████████████████| 54.4M/54.4M [00:25<00:00, 2.26MB/s]\n",
      "kaskada-manager-darwin-arm64: 100%|██████████████████████████████████████████████████████████████████████████████████████████████████████████████████████████████████████████████████████████████████████████████████████████████████████████████████████████████████████████████████████████████████████████████████████| 39.0M/39.0M [01:00<00:00, 681kB/s]"
     ]
    },
    {
     "name": "stdout",
     "output_type": "stream",
     "text": [
      "INFO:kaskada.api.session:Initializing manager process\n"
     ]
    },
    {
     "name": "stderr",
     "output_type": "stream",
     "text": [
      "\n"
     ]
    },
    {
     "name": "stdout",
     "output_type": "stream",
     "text": [
      "INFO:kaskada.api.session:Initializing engine process\n",
      "INFO:kaskada.api.session:Successfully connected to session.\n"
     ]
    },
    {
     "data": {
      "text/html": [
       "<style>table.kda_table {\n",
       "    border: 1px solid grey !important;\n",
       "    border-collapse: collapse !important;\n",
       "    border-spacing: 0 !important;\n",
       "    font-size: 14px !important;\n",
       "    margin-bottom: 6px !important;\n",
       "}\n",
       "\n",
       "table.kda_table table {\n",
       "    margin-bottom: 0 !important;\n",
       "}\n",
       "\n",
       ".kda_table td, .kda_table th {\n",
       "    border: 1px solid grey !important;\n",
       "    border-collapse: collapse !important;\n",
       "    padding: 6px !important;\n",
       "    text-align: left !important;\n",
       "    vertical-align: top !important;\n",
       "}\n",
       "\n",
       ".kda_table tr {\n",
       "    background-color: inherit !important;\n",
       "}\n",
       "\n",
       "/* Style the tab */\n",
       ".kda_tab {\n",
       "    overflow: hidden;\n",
       "    border-bottom: 1px solid grey;\n",
       "    background-color: inherit;\n",
       "}\n",
       "\n",
       "/* Style the buttons that are used to open the tab content */\n",
       ".kda_tab button {\n",
       "    background-color: inherit;\n",
       "    border-top: 1px solid grey;\n",
       "    border-right: 1px solid grey;\n",
       "    border-left: 1px solid grey;\n",
       "    border-bottom: none;\n",
       "    border-radius: 5px 5px 0px 0px;\n",
       "    color: inherit;\n",
       "    cursor: pointer;\n",
       "    float: left;\n",
       "    margin: 2px 8px 0px 2px;\n",
       "    outline: none;\n",
       "    padding: 5px 16px;\n",
       "    transition: 0.3s;\n",
       "}\n",
       "\n",
       "/* Change background color of buttons on hover */\n",
       ".kda_tab button:hover {\n",
       "    background-color: grey;\n",
       "}\n",
       "\n",
       "/* Create an active/current tablink class */\n",
       ".kda_tab button.kda_active {\n",
       "    outline: 2px solid grey;\n",
       "}\n",
       "\n",
       "/* Style the tab content */\n",
       ".kda_tabcontent {\n",
       "    display: none;\n",
       "    padding: 6px;\n",
       "    border: 1px solid grey;\n",
       "    border-top: none;\n",
       "}\n",
       "\n",
       ".kda_scroll_container {\n",
       "    max-height: 400px;\n",
       "    overflow: auto;\n",
       "}\n",
       "</style>"
      ],
      "text/plain": [
       "<IPython.core.display.HTML object>"
      ]
     },
     "metadata": {},
     "output_type": "display_data"
    },
    {
     "data": {
      "text/html": [
       "<script type=\"text/javascript\">function openTab(evt, tabName) {\n",
       "    // Declare all variables\n",
       "    var i, rootElement, tabcontent, tablinks, tabshow;\n",
       "\n",
       "    // Get all elements with class=\"tabcontent\" and hide them\n",
       "    rootElement = evt.currentTarget.parentElement.parentElement;\n",
       "    tabcontent = rootElement.getElementsByClassName(\"kda_tabcontent\");\n",
       "    for (i = 0; i < tabcontent.length; i++) {\n",
       "        tabcontent[i].style.display = \"none\";\n",
       "    }\n",
       "\n",
       "    // Get all elements with class=\"tablinks\" and remove the class \"active\"\n",
       "    tablinks = rootElement.getElementsByClassName(\"kda_tablinks\");\n",
       "    for (i = 0; i < tablinks.length; i++) {\n",
       "        tablinks[i].className = tablinks[i].className.replace(\" kda_active\", \"\");\n",
       "    }\n",
       "\n",
       "    // Show the current tab, and add an \"active\" class to the button that opened the tab\n",
       "    tabshow = rootElement.getElementsByClassName(tabName);\n",
       "    for (i = 0; i < tabshow.length; i++) {\n",
       "        tabshow[i].style.display = \"block\";\n",
       "    }\n",
       "    evt.currentTarget.className += \" kda_active\";\n",
       "}\n",
       "</script>"
      ],
      "text/plain": [
       "<IPython.core.display.HTML object>"
      ]
     },
     "metadata": {},
     "output_type": "display_data"
    }
   ],
   "source": [
    "from kaskada.api.session import LocalBuilder\n",
    "session = LocalBuilder().build()\n",
    "%load_ext fenlmagic"
   ]
  },
  {
   "cell_type": "markdown",
   "metadata": {
    "id": "hM2CDw2bS4iJ"
   },
   "source": [
    "### Build a Sample Data Set\n",
    "\n",
    "In this simple example, we're collecting and storing events about what users are doing.\n",
    "These events describe when users win, when they lose, when they buy things, etc.\n",
    "Events are stored in two CSV files: \n",
    "\n",
    "`game_play.csv` describes each time a player completes a game"
   ]
  },
  {
   "cell_type": "code",
   "execution_count": 4,
   "metadata": {
    "id": "opp2UPNxS4iK",
    "tags": []
   },
   "outputs": [
    {
     "name": "stdout",
     "output_type": "stream",
     "text": [
      "Writing game_play.csv\n"
     ]
    }
   ],
   "source": [
    "%%writefile game_play.csv\n",
    "event_at,entity_id,duration,won\n",
    "2022-01-01 02:30:00+00:00,Alice,10,true\n",
    "2022-01-01 02:35:00+00:00,Bob,3,false\n",
    "2022-01-01 03:46:00+00:00,Bob,8,false\n",
    "2022-01-01 03:58:00+00:00,Bob,23,true\n",
    "2022-01-01 04:25:00+00:00,Bob,8,true\n",
    "2022-01-01 05:05:00+00:00,Alice,53,true\n",
    "2022-01-01 05:36:00+00:00,Alice,2,false\n",
    "2022-01-01 07:22:00+00:00,Bob,7,false\n",
    "2022-01-01 08:35:00+00:00,Alice,5,false\n",
    "2022-01-01 10:01:00+00:00,Alice,43,true"
   ]
  },
  {
   "cell_type": "markdown",
   "metadata": {
    "tags": []
   },
   "source": [
    "`purchase.csv` describes each time a player makes a purchase"
   ]
  },
  {
   "cell_type": "code",
   "execution_count": 5,
   "metadata": {
    "tags": []
   },
   "outputs": [
    {
     "name": "stdout",
     "output_type": "stream",
     "text": [
      "Writing purchase.csv\n"
     ]
    }
   ],
   "source": [
    "%%writefile purchase.csv\n",
    "event_at,entity_id\n",
    "2022-01-01 01:02:00+00:00,Alice\n",
    "2022-01-01 01:35:00+00:00,Alice\n",
    "2022-01-01 03:51:00+00:00,Bob"
   ]
  },
  {
   "cell_type": "markdown",
   "metadata": {
    "id": "5lK4tOz0S4iL",
    "tags": []
   },
   "source": [
    "### Creating a Kaskada Table and Uploading Data\n",
    "\n",
    "Below, we load the above csv into Kaskada. When a table\n",
    "is created, it is persisted in your Kaskada environment.\n",
    "\n",
    "Kaskada also allows uploading data from parquet files.\n"
   ]
  },
  {
   "cell_type": "code",
   "execution_count": 6,
   "metadata": {
    "id": "roJPc5BDKUHq",
    "tags": []
   },
   "outputs": [
    {
     "data": {
      "text/html": [
       "<div><div class=\"kda_tab\"><button class=\"kda_tablinks kda_active\" onclick=\"openTab(event, 'details')\">Details</button><button class=\"kda_tablinks\" onclick=\"openTab(event, 'raw')\">Raw</button></div><div class=\"details kda_tabcontent\" style=\"display:block;\"><div class=\"kda_scroll_container\"><table class=\"kda_table\"><tr><td><b>table</b></td><td><table class=\"kda_table\"><tr><td><b>table_name</b></td><td><pre>GamePlay</pre></td></tr><tr><td><b>entity_key_column_name</b></td><td><pre>entity_id</pre></td></tr><tr><td><b>time_column_name</b></td><td><pre>event_at</pre></td></tr><tr><td><b>grouping_id</b></td><td><pre>User</pre></td></tr><tr><td><b>version</b></td><td><pre>0</pre></td></tr><tr><td><b>create_time</b></td><td><pre>2023-03-08T20:15:33.674202</pre></td></tr><tr><td><b>update_time</b></td><td><pre>2023-03-08T20:15:33.674202</pre></td></tr></table></td></tr><tr><td><b>request_details</b></td><td><table class=\"kda_table\"><tr><td><b>request_id</b></td><td><pre>54adbfc73bf2659650b3dbab5dcdab46</pre></td></tr></table></td></tr></table></div></div><div class=\"raw kda_tabcontent\" style=\"display:none;\"><div class=\"kda_scroll_container\"><pre>table {\n",
       "  table_id: \"0ba9080f-0253-418c-ab30-a6d04dc0ce68\"\n",
       "  table_name: \"GamePlay\"\n",
       "  time_column_name: \"event_at\"\n",
       "  entity_key_column_name: \"entity_id\"\n",
       "  grouping_id: \"User\"\n",
       "  create_time {\n",
       "    seconds: 1678335333\n",
       "    nanos: 674202000\n",
       "  }\n",
       "  update_time {\n",
       "    seconds: 1678335333\n",
       "    nanos: 674202000\n",
       "  }\n",
       "  table_source {\n",
       "    kaskada {\n",
       "    }\n",
       "  }\n",
       "}\n",
       "request_details {\n",
       "  request_id: \"54adbfc73bf2659650b3dbab5dcdab46\"\n",
       "}\n",
       "</pre></div></div></div>"
      ],
      "text/plain": [
       "table {\n",
       "  table_id: \"0ba9080f-0253-418c-ab30-a6d04dc0ce68\"\n",
       "  table_name: \"GamePlay\"\n",
       "  time_column_name: \"event_at\"\n",
       "  entity_key_column_name: \"entity_id\"\n",
       "  grouping_id: \"User\"\n",
       "  create_time {\n",
       "    seconds: 1678335333\n",
       "    nanos: 674202000\n",
       "  }\n",
       "  update_time {\n",
       "    seconds: 1678335333\n",
       "    nanos: 674202000\n",
       "  }\n",
       "  table_source {\n",
       "    kaskada {\n",
       "    }\n",
       "  }\n",
       "}\n",
       "request_details {\n",
       "  request_id: \"54adbfc73bf2659650b3dbab5dcdab46\"\n",
       "}"
      ]
     },
     "execution_count": 6,
     "metadata": {},
     "output_type": "execute_result"
    }
   ],
   "source": [
    "import kaskada.table as ktable\n",
    "\n",
    "# Create table objects in Kaskada.\n",
    "ktable.create_table(\n",
    "  table_name = \"GamePlay\",\n",
    "  entity_key_column_name = \"entity_id\",\n",
    "  time_column_name = \"event_at\",\n",
    "  grouping_id = \"User\",\n",
    ")"
   ]
  },
  {
   "cell_type": "code",
   "execution_count": 7,
   "metadata": {
    "tags": []
   },
   "outputs": [
    {
     "data": {
      "text/html": [
       "<div><div class=\"kda_tab\"><button class=\"kda_tablinks kda_active\" onclick=\"openTab(event, 'details')\">Details</button><button class=\"kda_tablinks\" onclick=\"openTab(event, 'raw')\">Raw</button></div><div class=\"details kda_tabcontent\" style=\"display:block;\"><div class=\"kda_scroll_container\"><table class=\"kda_table\"><tr><td><b>table</b></td><td><table class=\"kda_table\"><tr><td><b>table_name</b></td><td><pre>Purchase</pre></td></tr><tr><td><b>entity_key_column_name</b></td><td><pre>entity_id</pre></td></tr><tr><td><b>time_column_name</b></td><td><pre>event_at</pre></td></tr><tr><td><b>grouping_id</b></td><td><pre>User</pre></td></tr><tr><td><b>version</b></td><td><pre>0</pre></td></tr><tr><td><b>create_time</b></td><td><pre>2023-03-08T20:15:33.684299</pre></td></tr><tr><td><b>update_time</b></td><td><pre>2023-03-08T20:15:33.684299</pre></td></tr></table></td></tr><tr><td><b>request_details</b></td><td><table class=\"kda_table\"><tr><td><b>request_id</b></td><td><pre>943c87a1d0f144fc902450263987cd95</pre></td></tr></table></td></tr></table></div></div><div class=\"raw kda_tabcontent\" style=\"display:none;\"><div class=\"kda_scroll_container\"><pre>table {\n",
       "  table_id: \"f3128da7-bdff-4b65-a712-f385227ab596\"\n",
       "  table_name: \"Purchase\"\n",
       "  time_column_name: \"event_at\"\n",
       "  entity_key_column_name: \"entity_id\"\n",
       "  grouping_id: \"User\"\n",
       "  create_time {\n",
       "    seconds: 1678335333\n",
       "    nanos: 684299000\n",
       "  }\n",
       "  update_time {\n",
       "    seconds: 1678335333\n",
       "    nanos: 684299000\n",
       "  }\n",
       "  table_source {\n",
       "    kaskada {\n",
       "    }\n",
       "  }\n",
       "}\n",
       "request_details {\n",
       "  request_id: \"943c87a1d0f144fc902450263987cd95\"\n",
       "}\n",
       "</pre></div></div></div>"
      ],
      "text/plain": [
       "table {\n",
       "  table_id: \"f3128da7-bdff-4b65-a712-f385227ab596\"\n",
       "  table_name: \"Purchase\"\n",
       "  time_column_name: \"event_at\"\n",
       "  entity_key_column_name: \"entity_id\"\n",
       "  grouping_id: \"User\"\n",
       "  create_time {\n",
       "    seconds: 1678335333\n",
       "    nanos: 684299000\n",
       "  }\n",
       "  update_time {\n",
       "    seconds: 1678335333\n",
       "    nanos: 684299000\n",
       "  }\n",
       "  table_source {\n",
       "    kaskada {\n",
       "    }\n",
       "  }\n",
       "}\n",
       "request_details {\n",
       "  request_id: \"943c87a1d0f144fc902450263987cd95\"\n",
       "}"
      ]
     },
     "execution_count": 7,
     "metadata": {},
     "output_type": "execute_result"
    }
   ],
   "source": [
    "ktable.create_table(\n",
    "  table_name = \"Purchase\",\n",
    "  entity_key_column_name = \"entity_id\",\n",
    "  time_column_name = \"event_at\",\n",
    "  grouping_id = \"User\",\n",
    ")"
   ]
  },
  {
   "cell_type": "code",
   "execution_count": 8,
   "metadata": {
    "tags": []
   },
   "outputs": [
    {
     "data": {
      "text/html": [
       "<div><div class=\"kda_tab\"><button class=\"kda_tablinks kda_active\" onclick=\"openTab(event, 'details')\">Details</button><button class=\"kda_tablinks\" onclick=\"openTab(event, 'raw')\">Raw</button></div><div class=\"details kda_tabcontent\" style=\"display:block;\"><div class=\"kda_scroll_container\"><table class=\"kda_table\"><tr><td><b>data_token_id</b></td><td><pre>e2de6943-2fc4-4340-b020-d522c647357e</pre></td></tr><tr><td><b>request_details</b></td><td><table class=\"kda_table\"><tr><td><b>request_id</b></td><td><pre>41314fede359743668fcbd53697ff989</pre></td></tr></table></td></tr></table></div></div><div class=\"raw kda_tabcontent\" style=\"display:none;\"><div class=\"kda_scroll_container\"><pre>data_token_id: \"e2de6943-2fc4-4340-b020-d522c647357e\"\n",
       "request_details {\n",
       "  request_id: \"41314fede359743668fcbd53697ff989\"\n",
       "}\n",
       "</pre></div></div></div>"
      ],
      "text/plain": [
       "data_token_id: \"e2de6943-2fc4-4340-b020-d522c647357e\"\n",
       "request_details {\n",
       "  request_id: \"41314fede359743668fcbd53697ff989\"\n",
       "}"
      ]
     },
     "execution_count": 8,
     "metadata": {},
     "output_type": "execute_result"
    }
   ],
   "source": [
    "# Load the data into the Purchase table\n",
    "ktable.load(table_name=\"GamePlay\", file=\"game_play.csv\")"
   ]
  },
  {
   "cell_type": "code",
   "execution_count": 9,
   "metadata": {
    "tags": []
   },
   "outputs": [
    {
     "data": {
      "text/html": [
       "<div><div class=\"kda_tab\"><button class=\"kda_tablinks kda_active\" onclick=\"openTab(event, 'details')\">Details</button><button class=\"kda_tablinks\" onclick=\"openTab(event, 'raw')\">Raw</button></div><div class=\"details kda_tabcontent\" style=\"display:block;\"><div class=\"kda_scroll_container\"><table class=\"kda_table\"><tr><td><b>data_token_id</b></td><td><pre>5a6c2fe2-9623-4875-b056-93e38448e8c4</pre></td></tr><tr><td><b>request_details</b></td><td><table class=\"kda_table\"><tr><td><b>request_id</b></td><td><pre>3a8a5b18f5957999daf10a3a4729adb0</pre></td></tr></table></td></tr></table></div></div><div class=\"raw kda_tabcontent\" style=\"display:none;\"><div class=\"kda_scroll_container\"><pre>data_token_id: \"5a6c2fe2-9623-4875-b056-93e38448e8c4\"\n",
       "request_details {\n",
       "  request_id: \"3a8a5b18f5957999daf10a3a4729adb0\"\n",
       "}\n",
       "</pre></div></div></div>"
      ],
      "text/plain": [
       "data_token_id: \"5a6c2fe2-9623-4875-b056-93e38448e8c4\"\n",
       "request_details {\n",
       "  request_id: \"3a8a5b18f5957999daf10a3a4729adb0\"\n",
       "}"
      ]
     },
     "execution_count": 9,
     "metadata": {},
     "output_type": "execute_result"
    }
   ],
   "source": [
    "# Load the data into the Purchase table\n",
    "ktable.load(table_name=\"Purchase\", file=\"purchase.csv\")"
   ]
  },
  {
   "cell_type": "markdown",
   "metadata": {
    "id": "RWYEgGG_LeMo"
   },
   "source": [
    "### Working With Your Kaskada Environment\n"
   ]
  },
  {
   "cell_type": "code",
   "execution_count": 10,
   "metadata": {
    "id": "0RFXmM5wLrxJ",
    "tags": []
   },
   "outputs": [
    {
     "data": {
      "text/html": [
       "<div><div class=\"kda_tab\"><button class=\"kda_tablinks kda_active\" onclick=\"openTab(event, 'details')\">Details</button><button class=\"kda_tablinks\" onclick=\"openTab(event, 'schema')\">Schema</button><button class=\"kda_tablinks\" onclick=\"openTab(event, 'raw')\">Raw</button></div><div class=\"details kda_tabcontent\" style=\"display:block;\"><div class=\"kda_scroll_container\"><table class=\"kda_table\"><tr><td><b>table</b></td><td><table class=\"kda_table\"><tr><td><b>table_name</b></td><td><pre>GamePlay</pre></td></tr><tr><td><b>entity_key_column_name</b></td><td><pre>entity_id</pre></td></tr><tr><td><b>time_column_name</b></td><td><pre>event_at</pre></td></tr><tr><td><b>grouping_id</b></td><td><pre>User</pre></td></tr><tr><td><b>version</b></td><td><pre>1</pre></td></tr><tr><td><b>schema</b></td><td><pre>(see Schema tab)</pre></td></tr><tr><td><b>create_time</b></td><td><pre>2023-03-08T20:15:33.674202</pre></td></tr><tr><td><b>update_time</b></td><td><pre>2023-03-08T20:15:33.698909</pre></td></tr></table></td></tr><tr><td><b>request_details</b></td><td><table class=\"kda_table\"><tr><td><b>request_id</b></td><td><pre>807d2ff41824b64840e12f0475dda9ff</pre></td></tr></table></td></tr></table></div></div><div class=\"schema kda_tabcontent\" style=\"display:none;\"><div class=\"kda_scroll_container\"><html><head></head><body><div><style scoped=\"\">\n",
       "    .dataframe tbody tr th:only-of-type {\n",
       "        vertical-align: middle;\n",
       "    }\n",
       "\n",
       "    .dataframe tbody tr th {\n",
       "        vertical-align: top;\n",
       "    }\n",
       "\n",
       "    .dataframe thead th {\n",
       "        text-align: right;\n",
       "    }\n",
       "</style><table border=\"1\" class=\"dataframe\"><thead><tr style=\"text-align: right;\"><th></th><th>column_name</th><th>column_type</th></tr></thead><tbody><tr><th>0</th><td>event_at</td><td>string</td></tr><tr><th>1</th><td>entity_id</td><td>string</td></tr><tr><th>2</th><td>duration</td><td>i64</td></tr><tr><th>3</th><td>won</td><td>bool</td></tr></tbody></table></div></body></html></div></div><div class=\"raw kda_tabcontent\" style=\"display:none;\"><div class=\"kda_scroll_container\"><pre>table {\n",
       "  table_id: \"0ba9080f-0253-418c-ab30-a6d04dc0ce68\"\n",
       "  table_name: \"GamePlay\"\n",
       "  time_column_name: \"event_at\"\n",
       "  entity_key_column_name: \"entity_id\"\n",
       "  grouping_id: \"User\"\n",
       "  create_time {\n",
       "    seconds: 1678335333\n",
       "    nanos: 674202000\n",
       "  }\n",
       "  update_time {\n",
       "    seconds: 1678335333\n",
       "    nanos: 698909000\n",
       "  }\n",
       "  version: 1\n",
       "  schema {\n",
       "    fields {\n",
       "      name: \"event_at\"\n",
       "      data_type {\n",
       "        primitive: PRIMITIVE_TYPE_STRING\n",
       "      }\n",
       "    }\n",
       "    fields {\n",
       "      name: \"entity_id\"\n",
       "      data_type {\n",
       "        primitive: PRIMITIVE_TYPE_STRING\n",
       "      }\n",
       "    }\n",
       "    fields {\n",
       "      name: \"duration\"\n",
       "      data_type {\n",
       "        primitive: PRIMITIVE_TYPE_I64\n",
       "      }\n",
       "    }\n",
       "    fields {\n",
       "      name: \"won\"\n",
       "      data_type {\n",
       "        primitive: PRIMITIVE_TYPE_BOOL\n",
       "      }\n",
       "    }\n",
       "  }\n",
       "  table_source {\n",
       "    kaskada {\n",
       "    }\n",
       "  }\n",
       "}\n",
       "request_details {\n",
       "  request_id: \"807d2ff41824b64840e12f0475dda9ff\"\n",
       "}\n",
       "</pre></div></div></div>"
      ],
      "text/plain": [
       "table {\n",
       "  table_id: \"0ba9080f-0253-418c-ab30-a6d04dc0ce68\"\n",
       "  table_name: \"GamePlay\"\n",
       "  time_column_name: \"event_at\"\n",
       "  entity_key_column_name: \"entity_id\"\n",
       "  grouping_id: \"User\"\n",
       "  create_time {\n",
       "    seconds: 1678335333\n",
       "    nanos: 674202000\n",
       "  }\n",
       "  update_time {\n",
       "    seconds: 1678335333\n",
       "    nanos: 698909000\n",
       "  }\n",
       "  version: 1\n",
       "  schema {\n",
       "    fields {\n",
       "      name: \"event_at\"\n",
       "      data_type {\n",
       "        primitive: PRIMITIVE_TYPE_STRING\n",
       "      }\n",
       "    }\n",
       "    fields {\n",
       "      name: \"entity_id\"\n",
       "      data_type {\n",
       "        primitive: PRIMITIVE_TYPE_STRING\n",
       "      }\n",
       "    }\n",
       "    fields {\n",
       "      name: \"duration\"\n",
       "      data_type {\n",
       "        primitive: PRIMITIVE_TYPE_I64\n",
       "      }\n",
       "    }\n",
       "    fields {\n",
       "      name: \"won\"\n",
       "      data_type {\n",
       "        primitive: PRIMITIVE_TYPE_BOOL\n",
       "      }\n",
       "    }\n",
       "  }\n",
       "  table_source {\n",
       "    kaskada {\n",
       "    }\n",
       "  }\n",
       "}\n",
       "request_details {\n",
       "  request_id: \"807d2ff41824b64840e12f0475dda9ff\"\n",
       "}"
      ]
     },
     "execution_count": 10,
     "metadata": {},
     "output_type": "execute_result"
    }
   ],
   "source": [
    "# Get the table after loading data\n",
    "ktable.get_table(\"GamePlay\")"
   ]
  },
  {
   "cell_type": "code",
   "execution_count": 12,
   "metadata": {
    "id": "jmZq7hCLBwzs",
    "tags": []
   },
   "outputs": [
    {
     "data": {
      "text/html": [
       "<div><div class=\"kda_tab\"><button class=\"kda_tablinks kda_active\" onclick=\"openTab(event, 'dataframe')\">Dataframe</button><button class=\"kda_tablinks\" onclick=\"openTab(event, 'details')\">Details</button><button class=\"kda_tablinks\" onclick=\"openTab(event, 'schema')\">Schema</button><button class=\"kda_tablinks\" onclick=\"openTab(event, 'raw')\">Raw</button></div><div class=\"dataframe kda_tabcontent\" style=\"display:block;\"><div class=\"kda_scroll_container\"><html><head></head><body><div><style scoped=\"\">\n",
       "    .dataframe tbody tr th:only-of-type {\n",
       "        vertical-align: middle;\n",
       "    }\n",
       "\n",
       "    .dataframe tbody tr th {\n",
       "        vertical-align: top;\n",
       "    }\n",
       "\n",
       "    .dataframe thead th {\n",
       "        text-align: right;\n",
       "    }\n",
       "</style><table border=\"1\" class=\"dataframe\"><thead><tr style=\"text-align: right;\"><th></th><th>_time</th><th>_subsort</th><th>_key_hash</th><th>_key</th><th>event_at</th><th>entity_id</th><th>duration</th><th>won</th></tr></thead><tbody><tr><th>0</th><td>2022-01-01 02:30:00</td><td>12714731162780208561</td><td>5902814233694669492</td><td>Alice</td><td>2022-01-01 02:30:00+00:00</td><td>Alice</td><td>10</td><td>True</td></tr><tr><th>1</th><td>2022-01-01 02:35:00</td><td>12714731162780208562</td><td>17054345325612802246</td><td>Bob</td><td>2022-01-01 02:35:00+00:00</td><td>Bob</td><td>3</td><td>False</td></tr><tr><th>2</th><td>2022-01-01 03:46:00</td><td>12714731162780208563</td><td>17054345325612802246</td><td>Bob</td><td>2022-01-01 03:46:00+00:00</td><td>Bob</td><td>8</td><td>False</td></tr><tr><th>3</th><td>2022-01-01 03:58:00</td><td>12714731162780208564</td><td>17054345325612802246</td><td>Bob</td><td>2022-01-01 03:58:00+00:00</td><td>Bob</td><td>23</td><td>True</td></tr><tr><th>4</th><td>2022-01-01 04:25:00</td><td>12714731162780208565</td><td>17054345325612802246</td><td>Bob</td><td>2022-01-01 04:25:00+00:00</td><td>Bob</td><td>8</td><td>True</td></tr><tr><th>5</th><td>2022-01-01 05:05:00</td><td>12714731162780208566</td><td>5902814233694669492</td><td>Alice</td><td>2022-01-01 05:05:00+00:00</td><td>Alice</td><td>53</td><td>True</td></tr><tr><th>6</th><td>2022-01-01 05:36:00</td><td>12714731162780208567</td><td>5902814233694669492</td><td>Alice</td><td>2022-01-01 05:36:00+00:00</td><td>Alice</td><td>2</td><td>False</td></tr><tr><th>7</th><td>2022-01-01 07:22:00</td><td>12714731162780208568</td><td>17054345325612802246</td><td>Bob</td><td>2022-01-01 07:22:00+00:00</td><td>Bob</td><td>7</td><td>False</td></tr><tr><th>8</th><td>2022-01-01 08:35:00</td><td>12714731162780208569</td><td>5902814233694669492</td><td>Alice</td><td>2022-01-01 08:35:00+00:00</td><td>Alice</td><td>5</td><td>False</td></tr><tr><th>9</th><td>2022-01-01 10:01:00</td><td>12714731162780208570</td><td>5902814233694669492</td><td>Alice</td><td>2022-01-01 10:01:00+00:00</td><td>Alice</td><td>43</td><td>True</td></tr></tbody></table><p>10 rows × 8 columns</p></div></body></html></div></div><div class=\"details kda_tabcontent\" style=\"display:none;\"><div class=\"kda_scroll_container\"><table class=\"kda_table\"><tr><td><b>state</b></td><td>SUCCESS</td></tr><tr><td><b>query_id</b></td><td>bf5215d1-1dee-471d-9cc2-fe54afb24728</td></tr><tr><td><b>metrics</b></td><td><table class=\"kda_table\"><tr><td><b>time_preparing</b></td><td>0.003s</td></tr><tr><td><b>time_computing</b></td><td>0.007s</td></tr><tr><td><b>output_files</b></td><td>1</td></tr></table></td></tr><tr><td><b>analysis</b></td><td><table class=\"kda_table\"><tr><td><b>can_execute</b></td><td><pre>True</pre></td></tr></table></td></tr><tr><td><b>schema</b></td><td><pre>(see Schema tab)</pre></td></tr><tr><td><b>request_details</b></td><td><table class=\"kda_table\"><tr><td><b>request_id</b></td><td><pre>5e7b0430b4c4205f3f1b864bf89b8423</pre></td></tr></table></td></tr><tr><td><b>expression</b></td><td><pre># Query the table to see that data has been loaded\n",
       "GamePlay</pre></td></tr></table></div></div><div class=\"schema kda_tabcontent\" style=\"display:none;\"><div class=\"kda_scroll_container\"><html><head></head><body><div><style scoped=\"\">\n",
       "    .dataframe tbody tr th:only-of-type {\n",
       "        vertical-align: middle;\n",
       "    }\n",
       "\n",
       "    .dataframe tbody tr th {\n",
       "        vertical-align: top;\n",
       "    }\n",
       "\n",
       "    .dataframe thead th {\n",
       "        text-align: right;\n",
       "    }\n",
       "</style><table border=\"1\" class=\"dataframe\"><thead><tr style=\"text-align: right;\"><th></th><th>column_name</th><th>column_type</th></tr></thead><tbody><tr><th>0</th><td>event_at</td><td>string</td></tr><tr><th>1</th><td>entity_id</td><td>string</td></tr><tr><th>2</th><td>duration</td><td>i64</td></tr><tr><th>3</th><td>won</td><td>bool</td></tr></tbody></table></div></body></html></div></div><div class=\"raw kda_tabcontent\" style=\"display:none;\"><div class=\"kda_scroll_container\"><pre>{'dataframe': 'RangeIndex: 10 entries, 0 to 9'\n",
       "              'Columns: 8 entries, _time to won'\n",
       "              'dtypes: bool(1), datetime64[ns](1), int64(1), object(3), '\n",
       "              'uint64(2)'\n",
       "              'memory usage: 698.0+ bytes',\n",
       " 'expression': '# Query the table to see that data has been loadedGamePlay',\n",
       " 'query_response': state: STATE_SUCCESS\n",
       "config {\n",
       "  data_token_id: \"5a6c2fe2-9623-4875-b056-93e38448e8c4\"\n",
       "}\n",
       "analysis {\n",
       "  can_execute: true\n",
       "  schema {\n",
       "    fields {\n",
       "      name: \"event_at\"\n",
       "      data_type {\n",
       "        primitive: PRIMITIVE_TYPE_STRING\n",
       "      }\n",
       "    }\n",
       "    fields {\n",
       "      name: \"entity_id\"\n",
       "      data_type {\n",
       "        primitive: PRIMITIVE_TYPE_STRING\n",
       "      }\n",
       "    }\n",
       "    fields {\n",
       "      name: \"duration\"\n",
       "      data_type {\n",
       "        primitive: PRIMITIVE_TYPE_I64\n",
       "      }\n",
       "    }\n",
       "    fields {\n",
       "      name: \"won\"\n",
       "      data_type {\n",
       "        primitive: PRIMITIVE_TYPE_BOOL\n",
       "      }\n",
       "    }\n",
       "  }\n",
       "}\n",
       "fenl_diagnostics {\n",
       "}\n",
       "metrics {\n",
       "  time_preparing {\n",
       "    nanos: 3901792\n",
       "  }\n",
       "  time_computing {\n",
       "    nanos: 7103625\n",
       "  }\n",
       "  output_files: 1\n",
       "  total_input_rows: 10\n",
       "  processed_input_rows: 10\n",
       "  produced_output_rows: 10\n",
       "}\n",
       "request_details {\n",
       "  request_id: \"5e7b0430b4c4205f3f1b864bf89b8423\"\n",
       "}\n",
       "query_id: \"bf5215d1-1dee-471d-9cc2-fe54afb24728\"\n",
       "output_to {\n",
       "  object_store {\n",
       "    file_type: FILE_TYPE_PARQUET\n",
       "    output_prefix_uri: \"file:///Users/jordan.frazier/Documents/Datastax/kaskada/clients/python/data/results/5f007425-3597-4617-bb44-e9bc190dfdaa/wDCS3-8c0XhXmvooRMUDs2ZQrpaDxZynzvUCAg\"\n",
       "    output_paths {\n",
       "      paths: \"/Users/jordan.frazier/Documents/Datastax/kaskada/clients/python/data/results/5f007425-3597-4617-bb44-e9bc190dfdaa/wDCS3-8c0XhXmvooRMUDs2ZQrpaDxZynzvUCAg/35e90d6f-9067-422b-8fbe-886d47907576.parquet\"\n",
       "    }\n",
       "  }\n",
       "}\n",
       "}</pre></div></div></div>"
      ],
      "text/plain": [
       "<fenlmagic.QueryResult at 0x11c86ddf0>"
      ]
     },
     "execution_count": 12,
     "metadata": {},
     "output_type": "execute_result"
    }
   ],
   "source": [
    "%%fenl --var query_result\n",
    "# Query the table to see that data has been loaded\n",
    "GamePlay"
   ]
  },
  {
   "cell_type": "markdown",
   "metadata": {
    "id": "QUGIakbJS4iS",
    "tags": []
   },
   "source": [
    "## Step 1: Define features\n",
    "\n",
    "We want to predict if a user will pay for an upgrade - step one is to compute features from events. As a first simple feature, we describe the amount of time a user as spent losing at the game - users who lose a lot are probably more likely to pay for upgrades.\n"
   ]
  },
  {
   "cell_type": "code",
   "execution_count": 13,
   "metadata": {
    "id": "oaOWmXPlB1jZ",
    "tags": []
   },
   "outputs": [
    {
     "data": {
      "text/html": [
       "<div><div class=\"kda_tab\"><button class=\"kda_tablinks kda_active\" onclick=\"openTab(event, 'dataframe')\">Dataframe</button><button class=\"kda_tablinks\" onclick=\"openTab(event, 'details')\">Details</button><button class=\"kda_tablinks\" onclick=\"openTab(event, 'schema')\">Schema</button><button class=\"kda_tablinks\" onclick=\"openTab(event, 'raw')\">Raw</button></div><div class=\"dataframe kda_tabcontent\" style=\"display:block;\"><div class=\"kda_scroll_container\"><html><head></head><body><div><style scoped=\"\">\n",
       "    .dataframe tbody tr th:only-of-type {\n",
       "        vertical-align: middle;\n",
       "    }\n",
       "\n",
       "    .dataframe tbody tr th {\n",
       "        vertical-align: top;\n",
       "    }\n",
       "\n",
       "    .dataframe thead th {\n",
       "        text-align: right;\n",
       "    }\n",
       "</style><table border=\"1\" class=\"dataframe\"><thead><tr style=\"text-align: right;\"><th></th><th>_time</th><th>_subsort</th><th>_key_hash</th><th>_key</th><th>loss_duration</th></tr></thead><tbody><tr><th>0</th><td>2022-01-01 02:35:00</td><td>12714731162780208562</td><td>17054345325612802246</td><td>Bob</td><td>3</td></tr><tr><th>1</th><td>2022-01-01 03:46:00</td><td>12714731162780208563</td><td>17054345325612802246</td><td>Bob</td><td>11</td></tr><tr><th>2</th><td>2022-01-01 05:36:00</td><td>12714731162780208567</td><td>5902814233694669492</td><td>Alice</td><td>2</td></tr><tr><th>3</th><td>2022-01-01 07:22:00</td><td>12714731162780208568</td><td>17054345325612802246</td><td>Bob</td><td>18</td></tr><tr><th>4</th><td>2022-01-01 08:35:00</td><td>12714731162780208569</td><td>5902814233694669492</td><td>Alice</td><td>7</td></tr></tbody></table><p>5 rows × 5 columns</p></div></body></html></div></div><div class=\"details kda_tabcontent\" style=\"display:none;\"><div class=\"kda_scroll_container\"><table class=\"kda_table\"><tr><td><b>state</b></td><td>SUCCESS</td></tr><tr><td><b>query_id</b></td><td>f29fc9f6-f4b5-4d4d-bda7-bd1fd75285a8</td></tr><tr><td><b>metrics</b></td><td><table class=\"kda_table\"><tr><td><b>time_preparing</b></td><td>0.002s</td></tr><tr><td><b>time_computing</b></td><td>0.005s</td></tr><tr><td><b>output_files</b></td><td>1</td></tr></table></td></tr><tr><td><b>analysis</b></td><td><table class=\"kda_table\"><tr><td><b>can_execute</b></td><td><pre>True</pre></td></tr></table></td></tr><tr><td><b>schema</b></td><td><pre>(see Schema tab)</pre></td></tr><tr><td><b>request_details</b></td><td><table class=\"kda_table\"><tr><td><b>request_id</b></td><td><pre>f130785b976c734f24132f62b5bfd013</pre></td></tr></table></td></tr><tr><td><b>expression</b></td><td><pre>let GameDefeat = GamePlay | when(not(GamePlay.won))\n",
       "\n",
       "let features = {\n",
       "    loss_duration: sum(GameDefeat.duration) }\n",
       "\n",
       "in features</pre></td></tr></table></div></div><div class=\"schema kda_tabcontent\" style=\"display:none;\"><div class=\"kda_scroll_container\"><html><head></head><body><div><style scoped=\"\">\n",
       "    .dataframe tbody tr th:only-of-type {\n",
       "        vertical-align: middle;\n",
       "    }\n",
       "\n",
       "    .dataframe tbody tr th {\n",
       "        vertical-align: top;\n",
       "    }\n",
       "\n",
       "    .dataframe thead th {\n",
       "        text-align: right;\n",
       "    }\n",
       "</style><table border=\"1\" class=\"dataframe\"><thead><tr style=\"text-align: right;\"><th></th><th>column_name</th><th>column_type</th></tr></thead><tbody><tr><th>0</th><td>loss_duration</td><td>i64</td></tr></tbody></table></div></body></html></div></div><div class=\"raw kda_tabcontent\" style=\"display:none;\"><div class=\"kda_scroll_container\"><pre>{'dataframe': 'RangeIndex: 5 entries, 0 to 4'\n",
       "              'Columns: 5 entries, _time to loss_duration'\n",
       "              'dtypes: datetime64[ns](1), int64(1), object(1), uint64(2)'\n",
       "              'memory usage: 328.0+ bytes',\n",
       " 'expression': 'let GameDefeat = GamePlay | when(not(GamePlay.won))'\n",
       "               ''\n",
       "               'let features = {'\n",
       "               '    loss_duration: sum(GameDefeat.duration) }'\n",
       "               ''\n",
       "               'in features',\n",
       " 'query_response': state: STATE_SUCCESS\n",
       "config {\n",
       "  data_token_id: \"5a6c2fe2-9623-4875-b056-93e38448e8c4\"\n",
       "}\n",
       "analysis {\n",
       "  can_execute: true\n",
       "  schema {\n",
       "    fields {\n",
       "      name: \"loss_duration\"\n",
       "      data_type {\n",
       "        primitive: PRIMITIVE_TYPE_I64\n",
       "      }\n",
       "    }\n",
       "  }\n",
       "}\n",
       "fenl_diagnostics {\n",
       "}\n",
       "metrics {\n",
       "  time_preparing {\n",
       "    nanos: 2792084\n",
       "  }\n",
       "  time_computing {\n",
       "    nanos: 5117959\n",
       "  }\n",
       "  output_files: 1\n",
       "  total_input_rows: 10\n",
       "  processed_input_rows: 10\n",
       "  produced_output_rows: 5\n",
       "}\n",
       "request_details {\n",
       "  request_id: \"f130785b976c734f24132f62b5bfd013\"\n",
       "}\n",
       "query_id: \"f29fc9f6-f4b5-4d4d-bda7-bd1fd75285a8\"\n",
       "output_to {\n",
       "  object_store {\n",
       "    file_type: FILE_TYPE_PARQUET\n",
       "    output_prefix_uri: \"file:///Users/jordan.frazier/Documents/Datastax/kaskada/clients/python/data/results/5f007425-3597-4617-bb44-e9bc190dfdaa/2mHNJbP6GBDJ7OW_LC7VdF1Ek0UXaLfjUob7Cw\"\n",
       "    output_paths {\n",
       "      paths: \"/Users/jordan.frazier/Documents/Datastax/kaskada/clients/python/data/results/5f007425-3597-4617-bb44-e9bc190dfdaa/2mHNJbP6GBDJ7OW_LC7VdF1Ek0UXaLfjUob7Cw/4de8aa88-ad2a-4823-b2a7-82d1c1a3492b.parquet\"\n",
       "    }\n",
       "  }\n",
       "}\n",
       "}</pre></div></div></div>"
      ],
      "text/plain": [
       "<fenlmagic.QueryResult at 0x1041d29a0>"
      ]
     },
     "execution_count": 13,
     "metadata": {},
     "output_type": "execute_result"
    }
   ],
   "source": [
    "%%fenl\n",
    "\n",
    "let GameDefeat = GamePlay | when(not(GamePlay.won))\n",
    "\n",
    "let features = {\n",
    "    loss_duration: sum(GameDefeat.duration) }\n",
    "\n",
    "in features"
   ]
  },
  {
   "cell_type": "markdown",
   "metadata": {
    "tags": []
   },
   "source": [
    "Notice that the result is a timeline describing the step function of how this feature has changed over time. We can “observe” the value of this step function at any time, regardless of the times at which the original events occurred.\n",
    "\n",
    "Another thing to notice is that these results are automatically grouped by user. We didn’t have to explicitly group by user because tables in Kaskada specify an \"entity\" associated with each row."
   ]
  },
  {
   "cell_type": "markdown",
   "metadata": {
    "id": "8uny6WgAS4iT"
   },
   "source": [
    "### Step 2: Define prediction times\n",
    "\n",
    "The second step is to observe our feature at the times a prediction would have been made. Let’s assume that the game designers want to offer an upgrade any time a user loses the game twice in a row. We can construct a set of examples associated with this prediction time by observing our feature when the user loses twice in a row."
   ]
  },
  {
   "cell_type": "code",
   "execution_count": 14,
   "metadata": {
    "id": "E2L1snABS4iT",
    "tags": []
   },
   "outputs": [
    {
     "data": {
      "text/html": [
       "<div><div class=\"kda_tab\"><button class=\"kda_tablinks kda_active\" onclick=\"openTab(event, 'dataframe')\">Dataframe</button><button class=\"kda_tablinks\" onclick=\"openTab(event, 'details')\">Details</button><button class=\"kda_tablinks\" onclick=\"openTab(event, 'schema')\">Schema</button><button class=\"kda_tablinks\" onclick=\"openTab(event, 'raw')\">Raw</button></div><div class=\"dataframe kda_tabcontent\" style=\"display:block;\"><div class=\"kda_scroll_container\"><html><head></head><body><div><style scoped=\"\">\n",
       "    .dataframe tbody tr th:only-of-type {\n",
       "        vertical-align: middle;\n",
       "    }\n",
       "\n",
       "    .dataframe tbody tr th {\n",
       "        vertical-align: top;\n",
       "    }\n",
       "\n",
       "    .dataframe thead th {\n",
       "        text-align: right;\n",
       "    }\n",
       "</style><table border=\"1\" class=\"dataframe\"><thead><tr style=\"text-align: right;\"><th></th><th>_time</th><th>_subsort</th><th>_key_hash</th><th>_key</th><th>loss_duration</th></tr></thead><tbody><tr><th>0</th><td>2022-01-01 03:46:00</td><td>12714731162780208563</td><td>17054345325612802246</td><td>Bob</td><td>11</td></tr><tr><th>1</th><td>2022-01-01 08:35:00</td><td>12714731162780208569</td><td>5902814233694669492</td><td>Alice</td><td>7</td></tr></tbody></table><p>2 rows × 5 columns</p></div></body></html></div></div><div class=\"details kda_tabcontent\" style=\"display:none;\"><div class=\"kda_scroll_container\"><table class=\"kda_table\"><tr><td><b>state</b></td><td>SUCCESS</td></tr><tr><td><b>query_id</b></td><td>9c308f9d-bcf7-4ca1-a6df-17343cb769b6</td></tr><tr><td><b>metrics</b></td><td><table class=\"kda_table\"><tr><td><b>time_preparing</b></td><td>0.003s</td></tr><tr><td><b>time_computing</b></td><td>0.008s</td></tr><tr><td><b>output_files</b></td><td>1</td></tr></table></td></tr><tr><td><b>analysis</b></td><td><table class=\"kda_table\"><tr><td><b>can_execute</b></td><td><pre>True</pre></td></tr></table></td></tr><tr><td><b>schema</b></td><td><pre>(see Schema tab)</pre></td></tr><tr><td><b>request_details</b></td><td><table class=\"kda_table\"><tr><td><b>request_id</b></td><td><pre>5da760eeaa3f768cc78c2f1430126588</pre></td></tr></table></td></tr><tr><td><b>expression</b></td><td><pre>let GameDefeat = GamePlay | when(not(GamePlay.won))\n",
       "\n",
       "let features = {\n",
       "    loss_duration: sum(GameDefeat.duration) }\n",
       "\n",
       "let is_prediction_time = not(GamePlay.won) and count(GameDefeat, window=since(GamePlay.won)) == 2\n",
       "\n",
       "let example = features | when(is_prediction_time)\n",
       "    \n",
       "in example</pre></td></tr></table></div></div><div class=\"schema kda_tabcontent\" style=\"display:none;\"><div class=\"kda_scroll_container\"><html><head></head><body><div><style scoped=\"\">\n",
       "    .dataframe tbody tr th:only-of-type {\n",
       "        vertical-align: middle;\n",
       "    }\n",
       "\n",
       "    .dataframe tbody tr th {\n",
       "        vertical-align: top;\n",
       "    }\n",
       "\n",
       "    .dataframe thead th {\n",
       "        text-align: right;\n",
       "    }\n",
       "</style><table border=\"1\" class=\"dataframe\"><thead><tr style=\"text-align: right;\"><th></th><th>column_name</th><th>column_type</th></tr></thead><tbody><tr><th>0</th><td>loss_duration</td><td>i64</td></tr></tbody></table></div></body></html></div></div><div class=\"raw kda_tabcontent\" style=\"display:none;\"><div class=\"kda_scroll_container\"><pre>{'dataframe': 'RangeIndex: 2 entries, 0 to 1'\n",
       "              'Columns: 5 entries, _time to loss_duration'\n",
       "              'dtypes: datetime64[ns](1), int64(1), object(1), uint64(2)'\n",
       "              'memory usage: 208.0+ bytes',\n",
       " 'expression': 'let GameDefeat = GamePlay | when(not(GamePlay.won))'\n",
       "               ''\n",
       "               'let features = {'\n",
       "               '    loss_duration: sum(GameDefeat.duration) }'\n",
       "               ''\n",
       "               'let is_prediction_time = not(GamePlay.won) and '\n",
       "               'count(GameDefeat, window=since(GamePlay.won)) == 2'\n",
       "               ''\n",
       "               'let example = features | when(is_prediction_time)'\n",
       "               '    '\n",
       "               'in example',\n",
       " 'query_response': state: STATE_SUCCESS\n",
       "config {\n",
       "  data_token_id: \"5a6c2fe2-9623-4875-b056-93e38448e8c4\"\n",
       "}\n",
       "analysis {\n",
       "  can_execute: true\n",
       "  schema {\n",
       "    fields {\n",
       "      name: \"loss_duration\"\n",
       "      data_type {\n",
       "        primitive: PRIMITIVE_TYPE_I64\n",
       "      }\n",
       "    }\n",
       "  }\n",
       "}\n",
       "fenl_diagnostics {\n",
       "}\n",
       "metrics {\n",
       "  time_preparing {\n",
       "    nanos: 3482291\n",
       "  }\n",
       "  time_computing {\n",
       "    nanos: 8827583\n",
       "  }\n",
       "  output_files: 1\n",
       "  total_input_rows: 10\n",
       "  processed_input_rows: 10\n",
       "  produced_output_rows: 2\n",
       "}\n",
       "request_details {\n",
       "  request_id: \"5da760eeaa3f768cc78c2f1430126588\"\n",
       "}\n",
       "query_id: \"9c308f9d-bcf7-4ca1-a6df-17343cb769b6\"\n",
       "output_to {\n",
       "  object_store {\n",
       "    file_type: FILE_TYPE_PARQUET\n",
       "    output_prefix_uri: \"file:///Users/jordan.frazier/Documents/Datastax/kaskada/clients/python/data/results/5f007425-3597-4617-bb44-e9bc190dfdaa/VIqbOqx2dGicwZ38siP0JlWBeYzZ0URnwkfY7g\"\n",
       "    output_paths {\n",
       "      paths: \"/Users/jordan.frazier/Documents/Datastax/kaskada/clients/python/data/results/5f007425-3597-4617-bb44-e9bc190dfdaa/VIqbOqx2dGicwZ38siP0JlWBeYzZ0URnwkfY7g/5e96755e-82d7-4c0f-a17a-9ea6e3b860e9.parquet\"\n",
       "    }\n",
       "  }\n",
       "}\n",
       "}</pre></div></div></div>"
      ],
      "text/plain": [
       "<fenlmagic.QueryResult at 0x104178a30>"
      ]
     },
     "execution_count": 14,
     "metadata": {},
     "output_type": "execute_result"
    }
   ],
   "source": [
    "%%fenl\n",
    "\n",
    "let GameDefeat = GamePlay | when(not(GamePlay.won))\n",
    "\n",
    "let features = {\n",
    "    loss_duration: sum(GameDefeat.duration) }\n",
    "\n",
    "let is_prediction_time = not(GamePlay.won) and count(GameDefeat, window=since(GamePlay.won)) == 2\n",
    "\n",
    "let example = features | when(is_prediction_time)\n",
    "    \n",
    "in example"
   ]
  },
  {
   "cell_type": "markdown",
   "metadata": {},
   "source": [
    "This query gives us a set of examples, each containing input features computed at the specific times we would like to make a prediction."
   ]
  },
  {
   "cell_type": "markdown",
   "metadata": {
    "tags": []
   },
   "source": [
    "### Step 3: Shift examples\n",
    "\n",
    "The third step is to move each example to the time when the outcome we’re predicting can be observed. We want to give the user some time to see the upgrade offer, decide to accept it, and pay - let’s check to see if they accepted an hour after we make the offer."
   ]
  },
  {
   "cell_type": "code",
   "execution_count": 15,
   "metadata": {
    "tags": []
   },
   "outputs": [
    {
     "data": {
      "text/html": [
       "<div><div class=\"kda_tab\"><button class=\"kda_tablinks kda_active\" onclick=\"openTab(event, 'dataframe')\">Dataframe</button><button class=\"kda_tablinks\" onclick=\"openTab(event, 'details')\">Details</button><button class=\"kda_tablinks\" onclick=\"openTab(event, 'schema')\">Schema</button><button class=\"kda_tablinks\" onclick=\"openTab(event, 'raw')\">Raw</button></div><div class=\"dataframe kda_tabcontent\" style=\"display:block;\"><div class=\"kda_scroll_container\"><html><head></head><body><div><style scoped=\"\">\n",
       "    .dataframe tbody tr th:only-of-type {\n",
       "        vertical-align: middle;\n",
       "    }\n",
       "\n",
       "    .dataframe tbody tr th {\n",
       "        vertical-align: top;\n",
       "    }\n",
       "\n",
       "    .dataframe thead th {\n",
       "        text-align: right;\n",
       "    }\n",
       "</style><table border=\"1\" class=\"dataframe\"><thead><tr style=\"text-align: right;\"><th></th><th>_time</th><th>_subsort</th><th>_key_hash</th><th>_key</th><th>loss_duration</th></tr></thead><tbody><tr><th>0</th><td>2022-01-01 03:56:00</td><td>0</td><td>17054345325612802246</td><td>Bob</td><td>11</td></tr><tr><th>1</th><td>2022-01-01 08:45:00</td><td>0</td><td>5902814233694669492</td><td>Alice</td><td>7</td></tr></tbody></table><p>2 rows × 5 columns</p></div></body></html></div></div><div class=\"details kda_tabcontent\" style=\"display:none;\"><div class=\"kda_scroll_container\"><table class=\"kda_table\"><tr><td><b>state</b></td><td>SUCCESS</td></tr><tr><td><b>query_id</b></td><td>df41e8a2-61f7-4718-b63d-7c43910caf86</td></tr><tr><td><b>metrics</b></td><td><table class=\"kda_table\"><tr><td><b>time_preparing</b></td><td>0.003s</td></tr><tr><td><b>time_computing</b></td><td>0.006s</td></tr><tr><td><b>output_files</b></td><td>1</td></tr></table></td></tr><tr><td><b>analysis</b></td><td><table class=\"kda_table\"><tr><td><b>can_execute</b></td><td><pre>True</pre></td></tr></table></td></tr><tr><td><b>schema</b></td><td><pre>(see Schema tab)</pre></td></tr><tr><td><b>request_details</b></td><td><table class=\"kda_table\"><tr><td><b>request_id</b></td><td><pre>7520caf8189521ff84647142d7c8d2da</pre></td></tr></table></td></tr><tr><td><b>expression</b></td><td><pre>let GameDefeat = GamePlay | when(not(GamePlay.won))\n",
       "\n",
       "let features = {\n",
       "    loss_duration: sum(GameDefeat.duration) }\n",
       "\n",
       "let is_prediction_time = not(GamePlay.won) and (count(GameDefeat, window=since(GamePlay.won)) == 2)\n",
       "\n",
       "let example = features | when(is_prediction_time)| shift_by(seconds(60*10))\n",
       "\n",
       "in example</pre></td></tr></table></div></div><div class=\"schema kda_tabcontent\" style=\"display:none;\"><div class=\"kda_scroll_container\"><html><head></head><body><div><style scoped=\"\">\n",
       "    .dataframe tbody tr th:only-of-type {\n",
       "        vertical-align: middle;\n",
       "    }\n",
       "\n",
       "    .dataframe tbody tr th {\n",
       "        vertical-align: top;\n",
       "    }\n",
       "\n",
       "    .dataframe thead th {\n",
       "        text-align: right;\n",
       "    }\n",
       "</style><table border=\"1\" class=\"dataframe\"><thead><tr style=\"text-align: right;\"><th></th><th>column_name</th><th>column_type</th></tr></thead><tbody><tr><th>0</th><td>loss_duration</td><td>i64</td></tr></tbody></table></div></body></html></div></div><div class=\"raw kda_tabcontent\" style=\"display:none;\"><div class=\"kda_scroll_container\"><pre>{'dataframe': 'RangeIndex: 2 entries, 0 to 1'\n",
       "              'Columns: 5 entries, _time to loss_duration'\n",
       "              'dtypes: datetime64[ns](1), int64(1), object(1), uint64(2)'\n",
       "              'memory usage: 208.0+ bytes',\n",
       " 'expression': 'let GameDefeat = GamePlay | when(not(GamePlay.won))'\n",
       "               ''\n",
       "               'let features = {'\n",
       "               '    loss_duration: sum(GameDefeat.duration) }'\n",
       "               ''\n",
       "               'let is_prediction_time = not(GamePlay.won) and '\n",
       "               '(count(GameDefeat, window=since(GamePlay.won)) == 2)'\n",
       "               ''\n",
       "               'let example = features | when(is_prediction_time)| '\n",
       "               'shift_by(seconds(60*10))'\n",
       "               ''\n",
       "               'in example',\n",
       " 'query_response': state: STATE_SUCCESS\n",
       "config {\n",
       "  data_token_id: \"5a6c2fe2-9623-4875-b056-93e38448e8c4\"\n",
       "}\n",
       "analysis {\n",
       "  can_execute: true\n",
       "  schema {\n",
       "    fields {\n",
       "      name: \"loss_duration\"\n",
       "      data_type {\n",
       "        primitive: PRIMITIVE_TYPE_I64\n",
       "      }\n",
       "    }\n",
       "  }\n",
       "}\n",
       "fenl_diagnostics {\n",
       "}\n",
       "metrics {\n",
       "  time_preparing {\n",
       "    nanos: 3420916\n",
       "  }\n",
       "  time_computing {\n",
       "    nanos: 6030458\n",
       "  }\n",
       "  output_files: 1\n",
       "  total_input_rows: 10\n",
       "  processed_input_rows: 10\n",
       "  produced_output_rows: 2\n",
       "}\n",
       "request_details {\n",
       "  request_id: \"7520caf8189521ff84647142d7c8d2da\"\n",
       "}\n",
       "query_id: \"df41e8a2-61f7-4718-b63d-7c43910caf86\"\n",
       "output_to {\n",
       "  object_store {\n",
       "    file_type: FILE_TYPE_PARQUET\n",
       "    output_prefix_uri: \"file:///Users/jordan.frazier/Documents/Datastax/kaskada/clients/python/data/results/5f007425-3597-4617-bb44-e9bc190dfdaa/JC0Kin6OF9a4DnIJB1EERMX4M8ToBsm7OJA-Hw\"\n",
       "    output_paths {\n",
       "      paths: \"/Users/jordan.frazier/Documents/Datastax/kaskada/clients/python/data/results/5f007425-3597-4617-bb44-e9bc190dfdaa/JC0Kin6OF9a4DnIJB1EERMX4M8ToBsm7OJA-Hw/1035a4ed-39dc-46ed-9b32-dbb390f75268.parquet\"\n",
       "    }\n",
       "  }\n",
       "}\n",
       "}</pre></div></div></div>"
      ],
      "text/plain": [
       "<fenlmagic.QueryResult at 0x104171a60>"
      ]
     },
     "execution_count": 15,
     "metadata": {},
     "output_type": "execute_result"
    }
   ],
   "source": [
    "%%fenl\n",
    "\n",
    "let GameDefeat = GamePlay | when(not(GamePlay.won))\n",
    "\n",
    "let features = {\n",
    "    loss_duration: sum(GameDefeat.duration) }\n",
    "\n",
    "let is_prediction_time = not(GamePlay.won) and (count(GameDefeat, window=since(GamePlay.won)) == 2)\n",
    "\n",
    "let example = features | when(is_prediction_time)| shift_by(seconds(60*10))\n",
    "\n",
    "in example"
   ]
  },
  {
   "cell_type": "markdown",
   "metadata": {},
   "source": [
    "Our training examples have now moved to the point in time when the label we want to predict can be observed. Notice that the values in the time column are an hour later than the previous step."
   ]
  },
  {
   "cell_type": "markdown",
   "metadata": {
    "tags": []
   },
   "source": [
    "### Step 4: Label examples\n",
    "\n",
    "The final step is to see if a purchase happened after the prediction was made. This will be our target value and we’ll add it to the records that currently contain our feature."
   ]
  },
  {
   "cell_type": "code",
   "execution_count": 16,
   "metadata": {
    "tags": []
   },
   "outputs": [
    {
     "data": {
      "text/html": [
       "<div><div class=\"kda_tab\"><button class=\"kda_tablinks kda_active\" onclick=\"openTab(event, 'dataframe')\">Dataframe</button><button class=\"kda_tablinks\" onclick=\"openTab(event, 'details')\">Details</button><button class=\"kda_tablinks\" onclick=\"openTab(event, 'schema')\">Schema</button><button class=\"kda_tablinks\" onclick=\"openTab(event, 'raw')\">Raw</button></div><div class=\"dataframe kda_tabcontent\" style=\"display:block;\"><div class=\"kda_scroll_container\"><html><head></head><body><div><style scoped=\"\">\n",
       "    .dataframe tbody tr th:only-of-type {\n",
       "        vertical-align: middle;\n",
       "    }\n",
       "\n",
       "    .dataframe tbody tr th {\n",
       "        vertical-align: top;\n",
       "    }\n",
       "\n",
       "    .dataframe thead th {\n",
       "        text-align: right;\n",
       "    }\n",
       "</style><table border=\"1\" class=\"dataframe\"><thead><tr style=\"text-align: right;\"><th></th><th>_time</th><th>_subsort</th><th>_key_hash</th><th>_key</th><th>loss_duration</th><th>purchase_count</th><th>target</th></tr></thead><tbody><tr><th>0</th><td>2022-01-01 04:01:00</td><td>1</td><td>17054345325612802246</td><td>Bob</td><td>11</td><td>1</td><td>False</td></tr><tr><th>1</th><td>2022-01-01 04:08:00</td><td>2</td><td>17054345325612802246</td><td>Bob</td><td>11</td><td>1</td><td>False</td></tr><tr><th>2</th><td>2022-01-01 08:45:00</td><td>0</td><td>5902814233694669492</td><td>Alice</td><td>7</td><td>2</td><td>False</td></tr><tr><th>3</th><td>2022-01-01 10:11:00</td><td>0</td><td>5902814233694669492</td><td>Alice</td><td>7</td><td>2</td><td>False</td></tr></tbody></table><p>4 rows × 7 columns</p></div></body></html></div></div><div class=\"details kda_tabcontent\" style=\"display:none;\"><div class=\"kda_scroll_container\"><table class=\"kda_table\"><tr><td><b>state</b></td><td>SUCCESS</td></tr><tr><td><b>query_id</b></td><td>2db18508-f581-4849-bb1e-ce9acc8b118c</td></tr><tr><td><b>metrics</b></td><td><table class=\"kda_table\"><tr><td><b>time_preparing</b></td><td>0.016s</td></tr><tr><td><b>time_computing</b></td><td>0.014s</td></tr><tr><td><b>output_files</b></td><td>1</td></tr></table></td></tr><tr><td><b>analysis</b></td><td><table class=\"kda_table\"><tr><td><b>can_execute</b></td><td><pre>True</pre></td></tr></table></td></tr><tr><td><b>schema</b></td><td><pre>(see Schema tab)</pre></td></tr><tr><td><b>request_details</b></td><td><table class=\"kda_table\"><tr><td><b>request_id</b></td><td><pre>f425bb1ce800bf5877f0fbdb0b3088f2</pre></td></tr></table></td></tr><tr><td><b>expression</b></td><td><pre>let GameDefeat = GamePlay | when(not(GamePlay.won))\n",
       "\n",
       "let features = {\n",
       "    loss_duration: sum(GameDefeat.duration),\n",
       "    purchase_count: count(Purchase) }\n",
       "\n",
       "let is_prediction_time = count(GameDefeat, window=since(GamePlay.won)) == 2\n",
       "\n",
       "let example = features | when(is_prediction_time)\n",
       "    | shift_to(time_of($input) | add_time(seconds(60*10)))\n",
       "\n",
       "let target = count(Purchase) > example.purchase_count\n",
       "    \n",
       "in extend(example, {target}) | when(is_valid(example.purchase_count))</pre></td></tr></table></div></div><div class=\"schema kda_tabcontent\" style=\"display:none;\"><div class=\"kda_scroll_container\"><html><head></head><body><div><style scoped=\"\">\n",
       "    .dataframe tbody tr th:only-of-type {\n",
       "        vertical-align: middle;\n",
       "    }\n",
       "\n",
       "    .dataframe tbody tr th {\n",
       "        vertical-align: top;\n",
       "    }\n",
       "\n",
       "    .dataframe thead th {\n",
       "        text-align: right;\n",
       "    }\n",
       "</style><table border=\"1\" class=\"dataframe\"><thead><tr style=\"text-align: right;\"><th></th><th>column_name</th><th>column_type</th></tr></thead><tbody><tr><th>0</th><td>loss_duration</td><td>i64</td></tr><tr><th>1</th><td>purchase_count</td><td>u32</td></tr><tr><th>2</th><td>target</td><td>bool</td></tr></tbody></table></div></body></html></div></div><div class=\"raw kda_tabcontent\" style=\"display:none;\"><div class=\"kda_scroll_container\"><pre>{'dataframe': 'RangeIndex: 4 entries, 0 to 3'\n",
       "              'Columns: 7 entries, _time to target'\n",
       "              'dtypes: bool(1), datetime64[ns](1), int64(1), object(1), '\n",
       "              'uint32(1), uint64(2)'\n",
       "              'memory usage: 308.0+ bytes',\n",
       " 'expression': 'let GameDefeat = GamePlay | when(not(GamePlay.won))'\n",
       "               ''\n",
       "               'let features = {'\n",
       "               '    loss_duration: sum(GameDefeat.duration),'\n",
       "               '    purchase_count: count(Purchase) }'\n",
       "               ''\n",
       "               'let is_prediction_time = count(GameDefeat, '\n",
       "               'window=since(GamePlay.won)) == 2'\n",
       "               ''\n",
       "               'let example = features | when(is_prediction_time)'\n",
       "               '    | shift_to(time_of($input) | add_time(seconds(60*10)))'\n",
       "               ''\n",
       "               'let target = count(Purchase) > example.purchase_count'\n",
       "               '    '\n",
       "               'in extend(example, {target}) | '\n",
       "               'when(is_valid(example.purchase_count))',\n",
       " 'query_response': state: STATE_SUCCESS\n",
       "config {\n",
       "  data_token_id: \"5a6c2fe2-9623-4875-b056-93e38448e8c4\"\n",
       "}\n",
       "analysis {\n",
       "  can_execute: true\n",
       "  schema {\n",
       "    fields {\n",
       "      name: \"loss_duration\"\n",
       "      data_type {\n",
       "        primitive: PRIMITIVE_TYPE_I64\n",
       "      }\n",
       "    }\n",
       "    fields {\n",
       "      name: \"purchase_count\"\n",
       "      data_type {\n",
       "        primitive: PRIMITIVE_TYPE_U32\n",
       "      }\n",
       "    }\n",
       "    fields {\n",
       "      name: \"target\"\n",
       "      data_type {\n",
       "        primitive: PRIMITIVE_TYPE_BOOL\n",
       "      }\n",
       "    }\n",
       "  }\n",
       "}\n",
       "fenl_diagnostics {\n",
       "}\n",
       "metrics {\n",
       "  time_preparing {\n",
       "    nanos: 16518417\n",
       "  }\n",
       "  time_computing {\n",
       "    nanos: 14785208\n",
       "  }\n",
       "  output_files: 1\n",
       "  total_input_rows: 13\n",
       "  processed_input_rows: 13\n",
       "  produced_output_rows: 4\n",
       "}\n",
       "request_details {\n",
       "  request_id: \"f425bb1ce800bf5877f0fbdb0b3088f2\"\n",
       "}\n",
       "query_id: \"2db18508-f581-4849-bb1e-ce9acc8b118c\"\n",
       "output_to {\n",
       "  object_store {\n",
       "    file_type: FILE_TYPE_PARQUET\n",
       "    output_prefix_uri: \"file:///Users/jordan.frazier/Documents/Datastax/kaskada/clients/python/data/results/5f007425-3597-4617-bb44-e9bc190dfdaa/0g5XCOQXIvSMxWVY59wf58hj037oG-hg4gouJg\"\n",
       "    output_paths {\n",
       "      paths: \"/Users/jordan.frazier/Documents/Datastax/kaskada/clients/python/data/results/5f007425-3597-4617-bb44-e9bc190dfdaa/0g5XCOQXIvSMxWVY59wf58hj037oG-hg4gouJg/1153cd02-1fd0-4355-8f25-29268791659f.parquet\"\n",
       "    }\n",
       "  }\n",
       "}\n",
       "}</pre></div></div></div>"
      ],
      "text/plain": [
       "<fenlmagic.QueryResult at 0x11c8dd220>"
      ]
     },
     "execution_count": 16,
     "metadata": {},
     "output_type": "execute_result"
    }
   ],
   "source": [
    "%%fenl --var training\n",
    "\n",
    "let GameDefeat = GamePlay | when(not(GamePlay.won))\n",
    "\n",
    "let features = {\n",
    "    loss_duration: sum(GameDefeat.duration),\n",
    "    purchase_count: count(Purchase) }\n",
    "\n",
    "let is_prediction_time = count(GameDefeat, window=since(GamePlay.won)) == 2\n",
    "\n",
    "let example = features | when(is_prediction_time)\n",
    "    | shift_to(time_of($input) | add_time(seconds(60*10)))\n",
    "\n",
    "let target = count(Purchase) > example.purchase_count\n",
    "    \n",
    "in extend(example, {target}) | when(is_valid(example.purchase_count))"
   ]
  },
  {
   "cell_type": "markdown",
   "metadata": {},
   "source": [
    "## Train a model!\n",
    "\n",
    "Now that we've observed features and labels at the correct points in time, we can train a model from our examples. This toy dataset won't produce a very good model, of course."
   ]
  },
  {
   "cell_type": "code",
   "execution_count": 17,
   "metadata": {
    "tags": []
   },
   "outputs": [
    {
     "name": "stderr",
     "output_type": "stream",
     "text": [
      "ModuleNotFoundError: No module named 'sklearn'\n"
     ]
    }
   ],
   "source": [
    "from sklearn.linear_model import LogisticRegression\n",
    "from sklearn import preprocessing\n",
    "\n",
    "X = training.dataframe[['loss_duration']]\n",
    "y = training.dataframe['target']\n",
    "\n",
    "scaler = preprocessing.StandardScaler().fit(X)\n",
    "X_scaled = scaler.transform(X)\n",
    "\n",
    "model = LogisticRegression(max_iter=1000)\n",
    "model.fit(X_scaled, y)"
   ]
  },
  {
   "cell_type": "code",
   "execution_count": null,
   "metadata": {},
   "outputs": [],
   "source": []
  }
 ],
 "metadata": {
  "colab": {
   "private_outputs": true,
   "provenance": []
  },
  "gpuClass": "standard",
  "kernelspec": {
   "display_name": "Python 3 (ipykernel)",
   "language": "python",
   "name": "python3"
  },
  "language_info": {
   "codemirror_mode": {
    "name": "ipython",
    "version": 3
   },
   "file_extension": ".py",
   "mimetype": "text/x-python",
   "name": "python",
   "nbconvert_exporter": "python",
   "pygments_lexer": "ipython3",
   "version": "3.8.16"
  },
  "vscode": {
   "interpreter": {
    "hash": "31f2aee4e71d21fbe5cf8b01ff0e069b9275f58929596ceb00d14d90e3e16cd6"
   }
  }
 },
 "nbformat": 4,
 "nbformat_minor": 4
}
