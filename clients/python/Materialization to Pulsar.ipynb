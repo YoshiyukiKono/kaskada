{
 "cells": [
  {
   "cell_type": "markdown",
   "id": "409888ce",
   "metadata": {},
   "source": [
    "## Materializing Results to a Pulsar Topic\n",
    "Kaskada allows you to create a materialization, a resource similar to a query, that automatically runs when new data is loaded into any table the materialization references. Materializations can be used to populate feature vectors in a variety of feature stores to be used in production for low-latency inference. In this example, we'll showcase results being incrementally materialized to a Pulsar topic. \n",
    "\n",
    "For more information, see https://kaskada-ai.github.io/docs-site/kaskada/main/reference/working-with-materializations.html. "
   ]
  },
  {
   "cell_type": "code",
   "execution_count": 1,
   "id": "041a63b0",
   "metadata": {},
   "outputs": [],
   "source": [
    "import kaskada.api.release as release\n",
    "import os\n",
    "from getpass import getpass\n",
    "\n",
    "os.environ[release.ReleaseClient.GITHUB_ACCESS_TOKEN_ENV] = getpass(prompt='Github Access Token:')"
   ]
  },
  {
   "cell_type": "code",
   "execution_count": 2,
   "id": "c2877b75",
   "metadata": {},
   "outputs": [
    {
     "name": "stderr",
     "output_type": "stream",
     "text": [
      "DEBUG:github.Requester:GET https://api.github.com/repos/kaskada-ai/kaskada {'Authorization': 'token (oauth token removed)', 'User-Agent': 'PyGithub/Python'} None ==> 200 {'server': 'GitHub.com', 'date': 'Mon, 06 Mar 2023 19:21:37 GMT', 'content-type': 'application/json; charset=utf-8', 'transfer-encoding': 'chunked', 'cache-control': 'private, max-age=60, s-maxage=60', 'vary': 'Accept, Authorization, Cookie, X-GitHub-OTP, Accept-Encoding, Accept, X-Requested-With', 'etag': 'W/\"84e8307898ed07eea963afd8ed971b4f651e2f14118bc25ac75569752062a6e3\"', 'last-modified': 'Fri, 24 Feb 2023 00:44:30 GMT', 'x-oauth-scopes': 'repo', 'x-accepted-oauth-scopes': 'repo', 'github-authentication-token-expiration': '2023-06-01 23:31:05 UTC', 'x-github-media-type': 'github.v3; format=json', 'x-github-api-version-selected': '2022-11-28', 'x-ratelimit-limit': '5000', 'x-ratelimit-remaining': '4996', 'x-ratelimit-reset': '1678133988', 'x-ratelimit-used': '4', 'x-ratelimit-resource': 'core', 'access-control-expose-headers': 'ETag, Link, Location, Retry-After, X-GitHub-OTP, X-RateLimit-Limit, X-RateLimit-Remaining, X-RateLimit-Used, X-RateLimit-Resource, X-RateLimit-Reset, X-OAuth-Scopes, X-Accepted-OAuth-Scopes, X-Poll-Interval, X-GitHub-Media-Type, X-GitHub-SSO, X-GitHub-Request-Id, Deprecation, Sunset', 'access-control-allow-origin': '*', 'strict-transport-security': 'max-age=31536000; includeSubdomains; preload', 'x-frame-options': 'deny', 'x-content-type-options': 'nosniff', 'x-xss-protection': '0', 'referrer-policy': 'origin-when-cross-origin, strict-origin-when-cross-origin', 'content-security-policy': \"default-src 'none'\", 'content-encoding': 'gzip', 'x-github-request-id': 'FBA7:6EE2:2DC7A0:2F1697:64063D41'} {\"id\":602424088,\"node_id\":\"R_kgDOI-hDGA\",\"name\":\"kaskada\",\"full_name\":\"kaskada-ai/kaskada\",\"private\":true,\"owner\":{\"login\":\"kaskada-ai\",\"id\":123984087,\"node_id\":\"O_kgDOB2PY1w\",\"avatar_url\":\"https://avatars.githubusercontent.com/u/123984087?v=4\",\"gravatar_id\":\"\",\"url\":\"https://api.github.com/users/kaskada-ai\",\"html_url\":\"https://github.com/kaskada-ai\",\"followers_url\":\"https://api.github.com/users/kaskada-ai/followers\",\"following_url\":\"https://api.github.com/users/kaskada-ai/following{/other_user}\",\"gists_url\":\"https://api.github.com/users/kaskada-ai/gists{/gist_id}\",\"starred_url\":\"https://api.github.com/users/kaskada-ai/starred{/owner}{/repo}\",\"subscriptions_url\":\"https://api.github.com/users/kaskada-ai/subscriptions\",\"organizations_url\":\"https://api.github.com/users/kaskada-ai/orgs\",\"repos_url\":\"https://api.github.com/users/kaskada-ai/repos\",\"events_url\":\"https://api.github.com/users/kaskada-ai/events{/privacy}\",\"received_events_url\":\"https://api.github.com/users/kaskada-ai/received_events\",\"type\":\"Organization\",\"site_admin\":false},\"html_url\":\"https://github.com/kaskada-ai/kaskada\",\"description\":\"The kaskada engine\",\"fork\":false,\"url\":\"https://api.github.com/repos/kaskada-ai/kaskada\",\"forks_url\":\"https://api.github.com/repos/kaskada-ai/kaskada/forks\",\"keys_url\":\"https://api.github.com/repos/kaskada-ai/kaskada/keys{/key_id}\",\"collaborators_url\":\"https://api.github.com/repos/kaskada-ai/kaskada/collaborators{/collaborator}\",\"teams_url\":\"https://api.github.com/repos/kaskada-ai/kaskada/teams\",\"hooks_url\":\"https://api.github.com/repos/kaskada-ai/kaskada/hooks\",\"issue_events_url\":\"https://api.github.com/repos/kaskada-ai/kaskada/issues/events{/number}\",\"events_url\":\"https://api.github.com/repos/kaskada-ai/kaskada/events\",\"assignees_url\":\"https://api.github.com/repos/kaskada-ai/kaskada/assignees{/user}\",\"branches_url\":\"https://api.github.com/repos/kaskada-ai/kaskada/branches{/branch}\",\"tags_url\":\"https://api.github.com/repos/kaskada-ai/kaskada/tags\",\"blobs_url\":\"https://api.github.com/repos/kaskada-ai/kaskada/git/blobs{/sha}\",\"git_tags_url\":\"https://api.github.com/repos/kaskada-ai/kaskada/git/tags{/sha}\",\"git_refs_url\":\"https://api.github.com/repos/kaskada-ai/kaskada/git/refs{/sha}\",\"trees_url\":\"https://api.github.com/repos/kaskada-ai/kaskada/git/trees{/sha}\",\"statuses_url\":\"https://api.github.com/repos/kaskada-ai/kaskada/statuses/{sha}\",\"languages_url\":\"https://api.github.com/repos/kaskada-ai/kaskada/languages\",\"stargazers_url\":\"https://api.github.com/repos/kaskada-ai/kaskada/stargazers\",\"contributors_url\":\"https://api.github.com/repos/kaskada-ai/kaskada/contributors\",\"subscribers_url\":\"https://api.github.com/repos/kaskada-ai/kaskada/subscribers\",\"subscription_url\":\"https://api.github.com/repos/kaskada-ai/kaskada/subscription\",\"commits_url\":\"https://api.github.com/repos/kaskada-ai/kaskada/commits{/sha}\",\"git_commits_url\":\"https://api.github.com/repos/kaskada-ai/kaskada/git/commits{/sha}\",\"comments_url\":\"https://api.github.com/repos/kaskada-ai/kaskada/comments{/number}\",\"issue_comment_url\":\"https://api.github.com/repos/kaskada-ai/kaskada/issues/comments{/number}\",\"contents_url\":\"https://api.github.com/repos/kaskada-ai/kaskada/contents/{+path}\",\"compare_url\":\"https://api.github.com/repos/kaskada-ai/kaskada/compare/{base}...{head}\",\"merges_url\":\"https://api.github.com/repos/kaskada-ai/kaskada/merges\",\"archive_url\":\"https://api.github.com/repos/kaskada-ai/kaskada/{archive_format}{/ref}\",\"downloads_url\":\"https://api.github.com/repos/kaskada-ai/kaskada/downloads\",\"issues_url\":\"https://api.github.com/repos/kaskada-ai/kaskada/issues{/number}\",\"pulls_url\":\"https://api.github.com/repos/kaskada-ai/kaskada/pulls{/number}\",\"milestones_url\":\"https://api.github.com/repos/kaskada-ai/kaskada/milestones{/number}\",\"notifications_url\":\"https://api.github.com/repos/kaskada-ai/kaskada/notifications{?since,all,participating}\",\"labels_url\":\"https://api.github.com/repos/kaskada-ai/kaskada/labels{/name}\",\"releases_url\":\"https://api.github.com/repos/kaskada-ai/kaskada/releases{/id}\",\"deployments_url\":\"https://api.github.com/repos/kaskada-ai/kaskada/deployments\",\"created_at\":\"2023-02-16T07:13:43Z\",\"updated_at\":\"2023-02-24T00:44:30Z\",\"pushed_at\":\"2023-03-06T19:00:22Z\",\"git_url\":\"git://github.com/kaskada-ai/kaskada.git\",\"ssh_url\":\"git@github.com:kaskada-ai/kaskada.git\",\"clone_url\":\"https://github.com/kaskada-ai/kaskada.git\",\"svn_url\":\"https://github.com/kaskada-ai/kaskada\",\"homepage\":\"\",\"size\":7358,\"stargazers_count\":2,\"watchers_count\":2,\"language\":\"Rust\",\"has_issues\":true,\"has_projects\":true,\"has_downloads\":true,\"has_wiki\":true,\"has_pages\":false,\"has_discussions\":true,\"forks_count\":0,\"mirror_url\":null,\"archived\":false,\"disabled\":false,\"open_issues_count\":12,\"license\":{\"key\":\"apache-2.0\",\"name\":\"Apache License 2.0\",\"spdx_id\":\"Apache-2.0\",\"url\":\"https://api.github.com/licenses/apache-2.0\",\"node_id\":\"MDc6TGljZW5zZTI=\"},\"allow_forking\":false,\"is_template\":false,\"web_commit_signoff_required\":false,\"topics\":[],\"visibility\":\"internal\",\"forks\":0,\"open_issues\":12,\"watchers\":2,\"default_branch\":\"main\",\"permissions\":{\"admin\":true,\"maintain\":true,\"push\":true,\"triage\":true,\"pull\":true},\"temp_clone_token\":\"A5GR2ITIJ7CUBDCEQPKU6NLEAY7G2\",\"allow_squash_merge\":true,\"allow_merge_commit\":true,\"allow_rebase_merge\":true,\"allow_auto_merge\":false,\"delete_branch_on_merge\":true,\"allow_update_branch\":false,\"use_squash_pr_title_as_default\":false,\"squash_merge_commit_message\":\"COMMIT_MESSAGES\",\"squash_merge_commit_title\":\"COMMIT_OR_PR_TITLE\",\"merge_commit_message\":\"PR_TITLE\",\"merge_commit_title\":\"MERGE_MESSAGE\",\"organization\":{\"login\":\"kaskada-ai\",\"id\":123984087,\"node_id\":\"O_kgDOB2PY1w\",\"avatar_url\":\"https://avatars.githubusercontent.com/u/123984087?v=4\",\"gravatar_id\":\"\",\"url\":\"https://api.github.com/users/kaskada-ai\",\"html_url\":\"https://github.com/kaskada-ai\",\"followers_url\":\"https://api.github.com/users/kaskada-ai/followers\",\"following_url\":\"https://api.github.com/users/kaskada-ai/following{/other_user}\",\"gists_url\":\"https://api.github.com/users/kaskada-ai/gists{/gist_id}\",\"starred_url\":\"https://api.github.com/users/kaskada-ai/starred{/owner}{/repo}\",\"subscriptions_url\":\"https://api.github.com/users/kaskada-ai/subscriptions\",\"organizations_url\":\"https://api.github.com/users/kaskada-ai/orgs\",\"repos_url\":\"https://api.github.com/users/kaskada-ai/repos\",\"events_url\":\"https://api.github.com/users/kaskada-ai/events{/privacy}\",\"received_events_url\":\"https://api.github.com/users/kaskada-ai/received_events\",\"type\":\"Organization\",\"site_admin\":false},\"network_count\":0,\"subscribers_count\":3}\n"
     ]
    },
    {
     "name": "stderr",
     "output_type": "stream",
     "text": [
      "DEBUG:github.Requester:GET https://api.github.com/repos/kaskada-ai/kaskada/releases/latest {'Authorization': 'token (oauth token removed)', 'User-Agent': 'PyGithub/Python'} None ==> 200 {'server': 'GitHub.com', 'date': 'Mon, 06 Mar 2023 19:21:37 GMT', 'content-type': 'application/json; charset=utf-8', 'transfer-encoding': 'chunked', 'cache-control': 'private, max-age=60, s-maxage=60', 'vary': 'Accept, Authorization, Cookie, X-GitHub-OTP, Accept-Encoding, Accept, X-Requested-With', 'etag': 'W/\"831c534581517eeca704c41165e606e87217dba8192b13fc43645286f36b9ab7\"', 'last-modified': 'Thu, 02 Mar 2023 01:23:29 GMT', 'x-oauth-scopes': 'repo', 'x-accepted-oauth-scopes': 'repo', 'github-authentication-token-expiration': '2023-06-01 23:31:05 UTC', 'x-github-media-type': 'github.v3; format=json', 'x-github-api-version-selected': '2022-11-28', 'x-ratelimit-limit': '5000', 'x-ratelimit-remaining': '4995', 'x-ratelimit-reset': '1678133988', 'x-ratelimit-used': '5', 'x-ratelimit-resource': 'core', 'access-control-expose-headers': 'ETag, Link, Location, Retry-After, X-GitHub-OTP, X-RateLimit-Limit, X-RateLimit-Remaining, X-RateLimit-Used, X-RateLimit-Resource, X-RateLimit-Reset, X-OAuth-Scopes, X-Accepted-OAuth-Scopes, X-Poll-Interval, X-GitHub-Media-Type, X-GitHub-SSO, X-GitHub-Request-Id, Deprecation, Sunset', 'access-control-allow-origin': '*', 'strict-transport-security': 'max-age=31536000; includeSubdomains; preload', 'x-frame-options': 'deny', 'x-content-type-options': 'nosniff', 'x-xss-protection': '0', 'referrer-policy': 'origin-when-cross-origin, strict-origin-when-cross-origin', 'content-security-policy': \"default-src 'none'\", 'content-encoding': 'gzip', 'x-github-request-id': 'FBA7:6EE2:2DC7F6:2F16EF:64063D41'} {\"url\":\"https://api.github.com/repos/kaskada-ai/kaskada/releases/94157733\",\"assets_url\":\"https://api.github.com/repos/kaskada-ai/kaskada/releases/94157733/assets\",\"upload_url\":\"https://uploads.github.com/repos/kaskada-ai/kaskada/releases/94157733/assets{?name,label}\",\"html_url\":\"https://github.com/kaskada-ai/kaskada/releases/tag/engine%40v0.2.0\",\"id\":94157733,\"author\":{\"login\":\"github-actions[bot]\",\"id\":41898282,\"node_id\":\"MDM6Qm90NDE4OTgyODI=\",\"avatar_url\":\"https://avatars.githubusercontent.com/in/15368?v=4\",\"gravatar_id\":\"\",\"url\":\"https://api.github.com/users/github-actions%5Bbot%5D\",\"html_url\":\"https://github.com/apps/github-actions\",\"followers_url\":\"https://api.github.com/users/github-actions%5Bbot%5D/followers\",\"following_url\":\"https://api.github.com/users/github-actions%5Bbot%5D/following{/other_user}\",\"gists_url\":\"https://api.github.com/users/github-actions%5Bbot%5D/gists{/gist_id}\",\"starred_url\":\"https://api.github.com/users/github-actions%5Bbot%5D/starred{/owner}{/repo}\",\"subscriptions_url\":\"https://api.github.com/users/github-actions%5Bbot%5D/subscriptions\",\"organizations_url\":\"https://api.github.com/users/github-actions%5Bbot%5D/orgs\",\"repos_url\":\"https://api.github.com/users/github-actions%5Bbot%5D/repos\",\"events_url\":\"https://api.github.com/users/github-actions%5Bbot%5D/events{/privacy}\",\"received_events_url\":\"https://api.github.com/users/github-actions%5Bbot%5D/received_events\",\"type\":\"Bot\",\"site_admin\":false},\"node_id\":\"RE_kwDOI-hDGM4FnLul\",\"tag_name\":\"engine@v0.2.0\",\"target_commitish\":\"refs/heads/main\",\"name\":\"Engine 0.2.0\",\"draft\":false,\"prerelease\":false,\"created_at\":\"2023-03-02T00:33:06Z\",\"published_at\":\"2023-03-02T00:44:04Z\",\"assets\":[{\"url\":\"https://api.github.com/repos/kaskada-ai/kaskada/releases/assets/97690987\",\"id\":97690987,\"node_id\":\"RA_kwDOI-hDGM4F0qVr\",\"name\":\"kaskada-engine-darwin-amd64\",\"label\":\"\",\"uploader\":{\"login\":\"github-actions[bot]\",\"id\":41898282,\"node_id\":\"MDM6Qm90NDE4OTgyODI=\",\"avatar_url\":\"https://avatars.githubusercontent.com/in/15368?v=4\",\"gravatar_id\":\"\",\"url\":\"https://api.github.com/users/github-actions%5Bbot%5D\",\"html_url\":\"https://github.com/apps/github-actions\",\"followers_url\":\"https://api.github.com/users/github-actions%5Bbot%5D/followers\",\"following_url\":\"https://api.github.com/users/github-actions%5Bbot%5D/following{/other_user}\",\"gists_url\":\"https://api.github.com/users/github-actions%5Bbot%5D/gists{/gist_id}\",\"starred_url\":\"https://api.github.com/users/github-actions%5Bbot%5D/starred{/owner}{/repo}\",\"subscriptions_url\":\"https://api.github.com/users/github-actions%5Bbot%5D/subscriptions\",\"organizations_url\":\"https://api.github.com/users/github-actions%5Bbot%5D/orgs\",\"repos_url\":\"https://api.github.com/users/github-actions%5Bbot%5D/repos\",\"events_url\":\"https://api.github.com/users/github-actions%5Bbot%5D/events{/privacy}\",\"received_events_url\":\"https://api.github.com/users/github-actions%5Bbot%5D/received_events\",\"type\":\"Bot\",\"site_admin\":false},\"content_type\":\"application/octet-stream\",\"state\":\"uploaded\",\"size\":59710376,\"download_count\":0,\"created_at\":\"2023-03-02T01:22:02Z\",\"updated_at\":\"2023-03-02T01:22:06Z\",\"browser_download_url\":\"https://github.com/kaskada-ai/kaskada/releases/download/engine%40v0.2.0/kaskada-engine-darwin-amd64\"},{\"url\":\"https://api.github.com/repos/kaskada-ai/kaskada/releases/assets/97691087\",\"id\":97691087,\"node_id\":\"RA_kwDOI-hDGM4F0qXP\",\"name\":\"kaskada-engine-darwin-arm64\",\"label\":\"\",\"uploader\":{\"login\":\"github-actions[bot]\",\"id\":41898282,\"node_id\":\"MDM6Qm90NDE4OTgyODI=\",\"avatar_url\":\"https://avatars.githubusercontent.com/in/15368?v=4\",\"gravatar_id\":\"\",\"url\":\"https://api.github.com/users/github-actions%5Bbot%5D\",\"html_url\":\"https://github.com/apps/github-actions\",\"followers_url\":\"https://api.github.com/users/github-actions%5Bbot%5D/followers\",\"following_url\":\"https://api.github.com/users/github-actions%5Bbot%5D/following{/other_user}\",\"gists_url\":\"https://api.github.com/users/github-actions%5Bbot%5D/gists{/gist_id}\",\"starred_url\":\"https://api.github.com/users/github-actions%5Bbot%5D/starred{/owner}{/repo}\",\"subscriptions_url\":\"https://api.github.com/users/github-actions%5Bbot%5D/subscriptions\",\"organizations_url\":\"https://api.github.com/users/github-actions%5Bbot%5D/orgs\",\"repos_url\":\"https://api.github.com/users/github-actions%5Bbot%5D/repos\",\"events_url\":\"https://api.github.com/users/github-actions%5Bbot%5D/events{/privacy}\",\"received_events_url\":\"https://api.github.com/users/github-actions%5Bbot%5D/received_events\",\"type\":\"Bot\",\"site_admin\":false},\"content_type\":\"application/octet-stream\",\"state\":\"uploaded\",\"size\":56498954,\"download_count\":2,\"created_at\":\"2023-03-02T01:23:22Z\",\"updated_at\":\"2023-03-02T01:23:25Z\",\"browser_download_url\":\"https://github.com/kaskada-ai/kaskada/releases/download/engine%40v0.2.0/kaskada-engine-darwin-arm64\"},{\"url\":\"https://api.github.com/repos/kaskada-ai/kaskada/releases/assets/97689460\",\"id\":97689460,\"node_id\":\"RA_kwDOI-hDGM4F0p90\",\"name\":\"kaskada-engine-linux-amd64\",\"label\":\"\",\"uploader\":{\"login\":\"github-actions[bot]\",\"id\":41898282,\"node_id\":\"MDM6Qm90NDE4OTgyODI=\",\"avatar_url\":\"https://avatars.githubusercontent.com/in/15368?v=4\",\"gravatar_id\":\"\",\"url\":\"https://api.github.com/users/github-actions%5Bbot%5D\",\"html_url\":\"https://github.com/apps/github-actions\",\"followers_url\":\"https://api.github.com/users/github-actions%5Bbot%5D/followers\",\"following_url\":\"https://api.github.com/users/github-actions%5Bbot%5D/following{/other_user}\",\"gists_url\":\"https://api.github.com/users/github-actions%5Bbot%5D/gists{/gist_id}\",\"starred_url\":\"https://api.github.com/users/github-actions%5Bbot%5D/starred{/owner}{/repo}\",\"subscriptions_url\":\"https://api.github.com/users/github-actions%5Bbot%5D/subscriptions\",\"organizations_url\":\"https://api.github.com/users/github-actions%5Bbot%5D/orgs\",\"repos_url\":\"https://api.github.com/users/github-actions%5Bbot%5D/repos\",\"events_url\":\"https://api.github.com/users/github-actions%5Bbot%5D/events{/privacy}\",\"received_events_url\":\"https://api.github.com/users/github-actions%5Bbot%5D/received_events\",\"type\":\"Bot\",\"site_admin\":false},\"content_type\":\"application/octet-stream\",\"state\":\"uploaded\",\"size\":74361168,\"download_count\":1,\"created_at\":\"2023-03-02T01:08:04Z\",\"updated_at\":\"2023-03-02T01:08:08Z\",\"browser_download_url\":\"https://github.com/kaskada-ai/kaskada/releases/download/engine%40v0.2.0/kaskada-engine-linux-amd64\"},{\"url\":\"https://api.github.com/repos/kaskada-ai/kaskada/releases/assets/97691059\",\"id\":97691059,\"node_id\":\"RA_kwDOI-hDGM4F0qWz\",\"name\":\"kaskada-engine-windows-amd64.exe\",\"label\":\"\",\"uploader\":{\"login\":\"github-actions[bot]\",\"id\":41898282,\"node_id\":\"MDM6Qm90NDE4OTgyODI=\",\"avatar_url\":\"https://avatars.githubusercontent.com/in/15368?v=4\",\"gravatar_id\":\"\",\"url\":\"https://api.github.com/users/github-actions%5Bbot%5D\",\"html_url\":\"https://github.com/apps/github-actions\",\"followers_url\":\"https://api.github.com/users/github-actions%5Bbot%5D/followers\",\"following_url\":\"https://api.github.com/users/github-actions%5Bbot%5D/following{/other_user}\",\"gists_url\":\"https://api.github.com/users/github-actions%5Bbot%5D/gists{/gist_id}\",\"starred_url\":\"https://api.github.com/users/github-actions%5Bbot%5D/starred{/owner}{/repo}\",\"subscriptions_url\":\"https://api.github.com/users/github-actions%5Bbot%5D/subscriptions\",\"organizations_url\":\"https://api.github.com/users/github-actions%5Bbot%5D/orgs\",\"repos_url\":\"https://api.github.com/users/github-actions%5Bbot%5D/repos\",\"events_url\":\"https://api.github.com/users/github-actions%5Bbot%5D/events{/privacy}\",\"received_events_url\":\"https://api.github.com/users/github-actions%5Bbot%5D/received_events\",\"type\":\"Bot\",\"site_admin\":false},\"content_type\":\"application/x-msdownload\",\"state\":\"uploaded\",\"size\":54270464,\"download_count\":0,\"created_at\":\"2023-03-02T01:22:53Z\",\"updated_at\":\"2023-03-02T01:22:55Z\",\"browser_download_url\":\"https://github.com/kaskada-ai/kaskada/releases/download/engine%40v0.2.0/kaskada-engine-windows-amd64.exe\"},{\"url\":\"https://api.github.com/repos/kaskada-ai/kaskada/releases/assets/97690991\",\"id\":97690991,\"node_id\":\"RA_kwDOI-hDGM4F0qVv\",\"name\":\"kaskada-manager-darwin-amd64\",\"label\":\"\",\"uploader\":{\"login\":\"github-actions[bot]\",\"id\":41898282,\"node_id\":\"MDM6Qm90NDE4OTgyODI=\",\"avatar_url\":\"https://avatars.githubusercontent.com/in/15368?v=4\",\"gravatar_id\":\"\",\"url\":\"https://api.github.com/users/github-actions%5Bbot%5D\",\"html_url\":\"https://github.com/apps/github-actions\",\"followers_url\":\"https://api.github.com/users/github-actions%5Bbot%5D/followers\",\"following_url\":\"https://api.github.com/users/github-actions%5Bbot%5D/following{/other_user}\",\"gists_url\":\"https://api.github.com/users/github-actions%5Bbot%5D/gists{/gist_id}\",\"starred_url\":\"https://api.github.com/users/github-actions%5Bbot%5D/starred{/owner}{/repo}\",\"subscriptions_url\":\"https://api.github.com/users/github-actions%5Bbot%5D/subscriptions\",\"organizations_url\":\"https://api.github.com/users/github-actions%5Bbot%5D/orgs\",\"repos_url\":\"https://api.github.com/users/github-actions%5Bbot%5D/repos\",\"events_url\":\"https://api.github.com/users/github-actions%5Bbot%5D/events{/privacy}\",\"received_events_url\":\"https://api.github.com/users/github-actions%5Bbot%5D/received_events\",\"type\":\"Bot\",\"site_admin\":false},\"content_type\":\"application/octet-stream\",\"state\":\"uploaded\",\"size\":42120360,\"download_count\":0,\"created_at\":\"2023-03-02T01:22:07Z\",\"updated_at\":\"2023-03-02T01:22:09Z\",\"browser_download_url\":\"https://github.com/kaskada-ai/kaskada/releases/download/engine%40v0.2.0/kaskada-manager-darwin-amd64\"},{\"url\":\"https://api.github.com/repos/kaskada-ai/kaskada/releases/assets/97691095\",\"id\":97691095,\"node_id\":\"RA_kwDOI-hDGM4F0qXX\",\"name\":\"kaskada-manager-darwin-arm64\",\"label\":\"\",\"uploader\":{\"login\":\"github-actions[bot]\",\"id\":41898282,\"node_id\":\"MDM6Qm90NDE4OTgyODI=\",\"avatar_url\":\"https://avatars.githubusercontent.com/in/15368?v=4\",\"gravatar_id\":\"\",\"url\":\"https://api.github.com/users/github-actions%5Bbot%5D\",\"html_url\":\"https://github.com/apps/github-actions\",\"followers_url\":\"https://api.github.com/users/github-actions%5Bbot%5D/followers\",\"following_url\":\"https://api.github.com/users/github-actions%5Bbot%5D/following{/other_user}\",\"gists_url\":\"https://api.github.com/users/github-actions%5Bbot%5D/gists{/gist_id}\",\"starred_url\":\"https://api.github.com/users/github-actions%5Bbot%5D/starred{/owner}{/repo}\",\"subscriptions_url\":\"https://api.github.com/users/github-actions%5Bbot%5D/subscriptions\",\"organizations_url\":\"https://api.github.com/users/github-actions%5Bbot%5D/orgs\",\"repos_url\":\"https://api.github.com/users/github-actions%5Bbot%5D/repos\",\"events_url\":\"https://api.github.com/users/github-actions%5Bbot%5D/events{/privacy}\",\"received_events_url\":\"https://api.github.com/users/github-actions%5Bbot%5D/received_events\",\"type\":\"Bot\",\"site_admin\":false},\"content_type\":\"application/octet-stream\",\"state\":\"uploaded\",\"size\":40878002,\"download_count\":3,\"created_at\":\"2023-03-02T01:23:27Z\",\"updated_at\":\"2023-03-02T01:23:29Z\",\"browser_download_url\":\"https://github.com/kaskada-ai/kaskada/releases/download/engine%40v0.2.0/kaskada-manager-darwin-arm64\"},{\"url\":\"https://api.github.com/repos/kaskada-ai/kaskada/releases/assets/97689475\",\"id\":97689475,\"node_id\":\"RA_kwDOI-hDGM4F0p-D\",\"name\":\"kaskada-manager-linux-amd64\",\"label\":\"\",\"uploader\":{\"login\":\"github-actions[bot]\",\"id\":41898282,\"node_id\":\"MDM6Qm90NDE4OTgyODI=\",\"avatar_url\":\"https://avatars.githubusercontent.com/in/15368?v=4\",\"gravatar_id\":\"\",\"url\":\"https://api.github.com/users/github-actions%5Bbot%5D\",\"html_url\":\"https://github.com/apps/github-actions\",\"followers_url\":\"https://api.github.com/users/github-actions%5Bbot%5D/followers\",\"following_url\":\"https://api.github.com/users/github-actions%5Bbot%5D/following{/other_user}\",\"gists_url\":\"https://api.github.com/users/github-actions%5Bbot%5D/gists{/gist_id}\",\"starred_url\":\"https://api.github.com/users/github-actions%5Bbot%5D/starred{/owner}{/repo}\",\"subscriptions_url\":\"https://api.github.com/users/github-actions%5Bbot%5D/subscriptions\",\"organizations_url\":\"https://api.github.com/users/github-actions%5Bbot%5D/orgs\",\"repos_url\":\"https://api.github.com/users/github-actions%5Bbot%5D/repos\",\"events_url\":\"https://api.github.com/users/github-actions%5Bbot%5D/events{/privacy}\",\"received_events_url\":\"https://api.github.com/users/github-actions%5Bbot%5D/received_events\",\"type\":\"Bot\",\"site_admin\":false},\"content_type\":\"application/octet-stream\",\"state\":\"uploaded\",\"size\":37372072,\"download_count\":1,\"created_at\":\"2023-03-02T01:08:09Z\",\"updated_at\":\"2023-03-02T01:08:11Z\",\"browser_download_url\":\"https://github.com/kaskada-ai/kaskada/releases/download/engine%40v0.2.0/kaskada-manager-linux-amd64\"},{\"url\":\"https://api.github.com/repos/kaskada-ai/kaskada/releases/assets/97691062\",\"id\":97691062,\"node_id\":\"RA_kwDOI-hDGM4F0qW2\",\"name\":\"kaskada-manager-windows-amd64.exe\",\"label\":\"\",\"uploader\":{\"login\":\"github-actions[bot]\",\"id\":41898282,\"node_id\":\"MDM6Qm90NDE4OTgyODI=\",\"avatar_url\":\"https://avatars.githubusercontent.com/in/15368?v=4\",\"gravatar_id\":\"\",\"url\":\"https://api.github.com/users/github-actions%5Bbot%5D\",\"html_url\":\"https://github.com/apps/github-actions\",\"followers_url\":\"https://api.github.com/users/github-actions%5Bbot%5D/followers\",\"following_url\":\"https://api.github.com/users/github-actions%5Bbot%5D/following{/other_user}\",\"gists_url\":\"https://api.github.com/users/github-actions%5Bbot%5D/gists{/gist_id}\",\"starred_url\":\"https://api.github.com/users/github-actions%5Bbot%5D/starred{/owner}{/repo}\",\"subscriptions_url\":\"https://api.github.com/users/github-actions%5Bbot%5D/subscriptions\",\"organizations_url\":\"https://api.github.com/users/github-actions%5Bbot%5D/orgs\",\"repos_url\":\"https://api.github.com/users/github-actions%5Bbot%5D/repos\",\"events_url\":\"https://api.github.com/users/github-actions%5Bbot%5D/events{/privacy}\",\"received_events_url\":\"https://api.github.com/users/github-actions%5Bbot%5D/received_events\",\"type\":\"Bot\",\"site_admin\":false},\"content_type\":\"application/x-msdownload\",\"state\":\"uploaded\",\"size\":37905920,\"download_count\":0,\"created_at\":\"2023-03-02T01:22:56Z\",\"updated_at\":\"2023-03-02T01:22:57Z\",\"browser_download_url\":\"https://github.com/kaskada-ai/kaskada/releases/download/engine%40v0.2.0/kaskada-manager-windows-amd64.exe\"}],\"tarball_url\":\"https://api.github.com/repos/kaskada-ai/kaskada/tarball/engine@v0.2.0\",\"zipball_url\":\"https://api.github.com/repos/kaskada-ai/kaskada/zipball/engine@v0.2.0\",\"body\":\"## ✨ Features & Enhancements\\r\\n\\r\\n- add shift by function (#59)\\r\\n- Re-introduce generalized Flight Recorder (#48)\\r\\n- Add basic pulsar materialization framework  (#10)\\r\\n\\r\\n## 🛠️ Other improvements\\r\\n\\r\\n- Move static info to flight record header (#58)\\r\\n- Prepare Metadata Flush Per Batch (#29)\\r\\n- added the CLI client from the old repo (#40)\\r\\n\\r\\nThank you to all our contributors for making this release possible!\\r\\n@bjchambers, @jbellis, @jordanrfrazier, @kerinin, @kevinjnguyen and @rltvty\\r\\n\",\"discussion_url\":\"https://github.com/kaskada-ai/kaskada/discussions/70\",\"mentions_count\":6}\n"
     ]
    },
    {
     "name": "stdout",
     "output_type": "stream",
     "text": [
      "INFO:kaskada.api.release:Using latest release version: engine@v0.2.0\n"
     ]
    },
    {
     "name": "stderr",
     "output_type": "stream",
     "text": [
      "DEBUG:github.Requester:GET https://api.github.com/repos/kaskada-ai/kaskada/releases/94157733/assets {'Authorization': 'token (oauth token removed)', 'User-Agent': 'PyGithub/Python'} None ==> 200 {'server': 'GitHub.com', 'date': 'Mon, 06 Mar 2023 19:21:38 GMT', 'content-type': 'application/json; charset=utf-8', 'transfer-encoding': 'chunked', 'cache-control': 'private, max-age=60, s-maxage=60', 'vary': 'Accept, Authorization, Cookie, X-GitHub-OTP, Accept-Encoding, Accept, X-Requested-With', 'etag': 'W/\"2b9547e780e300e38f65d76c16890b41af091ab798a87535442be6efb45c3ac0\"', 'x-oauth-scopes': 'repo', 'x-accepted-oauth-scopes': 'repo', 'github-authentication-token-expiration': '2023-06-01 23:31:05 UTC', 'x-github-media-type': 'github.v3; format=json', 'x-github-api-version-selected': '2022-11-28', 'x-ratelimit-limit': '5000', 'x-ratelimit-remaining': '4994', 'x-ratelimit-reset': '1678133988', 'x-ratelimit-used': '6', 'x-ratelimit-resource': 'core', 'access-control-expose-headers': 'ETag, Link, Location, Retry-After, X-GitHub-OTP, X-RateLimit-Limit, X-RateLimit-Remaining, X-RateLimit-Used, X-RateLimit-Resource, X-RateLimit-Reset, X-OAuth-Scopes, X-Accepted-OAuth-Scopes, X-Poll-Interval, X-GitHub-Media-Type, X-GitHub-SSO, X-GitHub-Request-Id, Deprecation, Sunset', 'access-control-allow-origin': '*', 'strict-transport-security': 'max-age=31536000; includeSubdomains; preload', 'x-frame-options': 'deny', 'x-content-type-options': 'nosniff', 'x-xss-protection': '0', 'referrer-policy': 'origin-when-cross-origin, strict-origin-when-cross-origin', 'content-security-policy': \"default-src 'none'\", 'content-encoding': 'gzip', 'x-github-request-id': 'FBA7:6EE2:2DC849:2F173D:64063D41'} [{\"url\":\"https://api.github.com/repos/kaskada-ai/kaskada/releases/assets/97690987\",\"id\":97690987,\"node_id\":\"RA_kwDOI-hDGM4F0qVr\",\"name\":\"kaskada-engine-darwin-amd64\",\"label\":\"\",\"uploader\":{\"login\":\"github-actions[bot]\",\"id\":41898282,\"node_id\":\"MDM6Qm90NDE4OTgyODI=\",\"avatar_url\":\"https://avatars.githubusercontent.com/in/15368?v=4\",\"gravatar_id\":\"\",\"url\":\"https://api.github.com/users/github-actions%5Bbot%5D\",\"html_url\":\"https://github.com/apps/github-actions\",\"followers_url\":\"https://api.github.com/users/github-actions%5Bbot%5D/followers\",\"following_url\":\"https://api.github.com/users/github-actions%5Bbot%5D/following{/other_user}\",\"gists_url\":\"https://api.github.com/users/github-actions%5Bbot%5D/gists{/gist_id}\",\"starred_url\":\"https://api.github.com/users/github-actions%5Bbot%5D/starred{/owner}{/repo}\",\"subscriptions_url\":\"https://api.github.com/users/github-actions%5Bbot%5D/subscriptions\",\"organizations_url\":\"https://api.github.com/users/github-actions%5Bbot%5D/orgs\",\"repos_url\":\"https://api.github.com/users/github-actions%5Bbot%5D/repos\",\"events_url\":\"https://api.github.com/users/github-actions%5Bbot%5D/events{/privacy}\",\"received_events_url\":\"https://api.github.com/users/github-actions%5Bbot%5D/received_events\",\"type\":\"Bot\",\"site_admin\":false},\"content_type\":\"application/octet-stream\",\"state\":\"uploaded\",\"size\":59710376,\"download_count\":0,\"created_at\":\"2023-03-02T01:22:02Z\",\"updated_at\":\"2023-03-02T01:22:06Z\",\"browser_download_url\":\"https://github.com/kaskada-ai/kaskada/releases/download/engine%40v0.2.0/kaskada-engine-darwin-amd64\"},{\"url\":\"https://api.github.com/repos/kaskada-ai/kaskada/releases/assets/97691087\",\"id\":97691087,\"node_id\":\"RA_kwDOI-hDGM4F0qXP\",\"name\":\"kaskada-engine-darwin-arm64\",\"label\":\"\",\"uploader\":{\"login\":\"github-actions[bot]\",\"id\":41898282,\"node_id\":\"MDM6Qm90NDE4OTgyODI=\",\"avatar_url\":\"https://avatars.githubusercontent.com/in/15368?v=4\",\"gravatar_id\":\"\",\"url\":\"https://api.github.com/users/github-actions%5Bbot%5D\",\"html_url\":\"https://github.com/apps/github-actions\",\"followers_url\":\"https://api.github.com/users/github-actions%5Bbot%5D/followers\",\"following_url\":\"https://api.github.com/users/github-actions%5Bbot%5D/following{/other_user}\",\"gists_url\":\"https://api.github.com/users/github-actions%5Bbot%5D/gists{/gist_id}\",\"starred_url\":\"https://api.github.com/users/github-actions%5Bbot%5D/starred{/owner}{/repo}\",\"subscriptions_url\":\"https://api.github.com/users/github-actions%5Bbot%5D/subscriptions\",\"organizations_url\":\"https://api.github.com/users/github-actions%5Bbot%5D/orgs\",\"repos_url\":\"https://api.github.com/users/github-actions%5Bbot%5D/repos\",\"events_url\":\"https://api.github.com/users/github-actions%5Bbot%5D/events{/privacy}\",\"received_events_url\":\"https://api.github.com/users/github-actions%5Bbot%5D/received_events\",\"type\":\"Bot\",\"site_admin\":false},\"content_type\":\"application/octet-stream\",\"state\":\"uploaded\",\"size\":56498954,\"download_count\":2,\"created_at\":\"2023-03-02T01:23:22Z\",\"updated_at\":\"2023-03-02T01:23:25Z\",\"browser_download_url\":\"https://github.com/kaskada-ai/kaskada/releases/download/engine%40v0.2.0/kaskada-engine-darwin-arm64\"},{\"url\":\"https://api.github.com/repos/kaskada-ai/kaskada/releases/assets/97689460\",\"id\":97689460,\"node_id\":\"RA_kwDOI-hDGM4F0p90\",\"name\":\"kaskada-engine-linux-amd64\",\"label\":\"\",\"uploader\":{\"login\":\"github-actions[bot]\",\"id\":41898282,\"node_id\":\"MDM6Qm90NDE4OTgyODI=\",\"avatar_url\":\"https://avatars.githubusercontent.com/in/15368?v=4\",\"gravatar_id\":\"\",\"url\":\"https://api.github.com/users/github-actions%5Bbot%5D\",\"html_url\":\"https://github.com/apps/github-actions\",\"followers_url\":\"https://api.github.com/users/github-actions%5Bbot%5D/followers\",\"following_url\":\"https://api.github.com/users/github-actions%5Bbot%5D/following{/other_user}\",\"gists_url\":\"https://api.github.com/users/github-actions%5Bbot%5D/gists{/gist_id}\",\"starred_url\":\"https://api.github.com/users/github-actions%5Bbot%5D/starred{/owner}{/repo}\",\"subscriptions_url\":\"https://api.github.com/users/github-actions%5Bbot%5D/subscriptions\",\"organizations_url\":\"https://api.github.com/users/github-actions%5Bbot%5D/orgs\",\"repos_url\":\"https://api.github.com/users/github-actions%5Bbot%5D/repos\",\"events_url\":\"https://api.github.com/users/github-actions%5Bbot%5D/events{/privacy}\",\"received_events_url\":\"https://api.github.com/users/github-actions%5Bbot%5D/received_events\",\"type\":\"Bot\",\"site_admin\":false},\"content_type\":\"application/octet-stream\",\"state\":\"uploaded\",\"size\":74361168,\"download_count\":1,\"created_at\":\"2023-03-02T01:08:04Z\",\"updated_at\":\"2023-03-02T01:08:08Z\",\"browser_download_url\":\"https://github.com/kaskada-ai/kaskada/releases/download/engine%40v0.2.0/kaskada-engine-linux-amd64\"},{\"url\":\"https://api.github.com/repos/kaskada-ai/kaskada/releases/assets/97691059\",\"id\":97691059,\"node_id\":\"RA_kwDOI-hDGM4F0qWz\",\"name\":\"kaskada-engine-windows-amd64.exe\",\"label\":\"\",\"uploader\":{\"login\":\"github-actions[bot]\",\"id\":41898282,\"node_id\":\"MDM6Qm90NDE4OTgyODI=\",\"avatar_url\":\"https://avatars.githubusercontent.com/in/15368?v=4\",\"gravatar_id\":\"\",\"url\":\"https://api.github.com/users/github-actions%5Bbot%5D\",\"html_url\":\"https://github.com/apps/github-actions\",\"followers_url\":\"https://api.github.com/users/github-actions%5Bbot%5D/followers\",\"following_url\":\"https://api.github.com/users/github-actions%5Bbot%5D/following{/other_user}\",\"gists_url\":\"https://api.github.com/users/github-actions%5Bbot%5D/gists{/gist_id}\",\"starred_url\":\"https://api.github.com/users/github-actions%5Bbot%5D/starred{/owner}{/repo}\",\"subscriptions_url\":\"https://api.github.com/users/github-actions%5Bbot%5D/subscriptions\",\"organizations_url\":\"https://api.github.com/users/github-actions%5Bbot%5D/orgs\",\"repos_url\":\"https://api.github.com/users/github-actions%5Bbot%5D/repos\",\"events_url\":\"https://api.github.com/users/github-actions%5Bbot%5D/events{/privacy}\",\"received_events_url\":\"https://api.github.com/users/github-actions%5Bbot%5D/received_events\",\"type\":\"Bot\",\"site_admin\":false},\"content_type\":\"application/x-msdownload\",\"state\":\"uploaded\",\"size\":54270464,\"download_count\":0,\"created_at\":\"2023-03-02T01:22:53Z\",\"updated_at\":\"2023-03-02T01:22:55Z\",\"browser_download_url\":\"https://github.com/kaskada-ai/kaskada/releases/download/engine%40v0.2.0/kaskada-engine-windows-amd64.exe\"},{\"url\":\"https://api.github.com/repos/kaskada-ai/kaskada/releases/assets/97690991\",\"id\":97690991,\"node_id\":\"RA_kwDOI-hDGM4F0qVv\",\"name\":\"kaskada-manager-darwin-amd64\",\"label\":\"\",\"uploader\":{\"login\":\"github-actions[bot]\",\"id\":41898282,\"node_id\":\"MDM6Qm90NDE4OTgyODI=\",\"avatar_url\":\"https://avatars.githubusercontent.com/in/15368?v=4\",\"gravatar_id\":\"\",\"url\":\"https://api.github.com/users/github-actions%5Bbot%5D\",\"html_url\":\"https://github.com/apps/github-actions\",\"followers_url\":\"https://api.github.com/users/github-actions%5Bbot%5D/followers\",\"following_url\":\"https://api.github.com/users/github-actions%5Bbot%5D/following{/other_user}\",\"gists_url\":\"https://api.github.com/users/github-actions%5Bbot%5D/gists{/gist_id}\",\"starred_url\":\"https://api.github.com/users/github-actions%5Bbot%5D/starred{/owner}{/repo}\",\"subscriptions_url\":\"https://api.github.com/users/github-actions%5Bbot%5D/subscriptions\",\"organizations_url\":\"https://api.github.com/users/github-actions%5Bbot%5D/orgs\",\"repos_url\":\"https://api.github.com/users/github-actions%5Bbot%5D/repos\",\"events_url\":\"https://api.github.com/users/github-actions%5Bbot%5D/events{/privacy}\",\"received_events_url\":\"https://api.github.com/users/github-actions%5Bbot%5D/received_events\",\"type\":\"Bot\",\"site_admin\":false},\"content_type\":\"application/octet-stream\",\"state\":\"uploaded\",\"size\":42120360,\"download_count\":0,\"created_at\":\"2023-03-02T01:22:07Z\",\"updated_at\":\"2023-03-02T01:22:09Z\",\"browser_download_url\":\"https://github.com/kaskada-ai/kaskada/releases/download/engine%40v0.2.0/kaskada-manager-darwin-amd64\"},{\"url\":\"https://api.github.com/repos/kaskada-ai/kaskada/releases/assets/97691095\",\"id\":97691095,\"node_id\":\"RA_kwDOI-hDGM4F0qXX\",\"name\":\"kaskada-manager-darwin-arm64\",\"label\":\"\",\"uploader\":{\"login\":\"github-actions[bot]\",\"id\":41898282,\"node_id\":\"MDM6Qm90NDE4OTgyODI=\",\"avatar_url\":\"https://avatars.githubusercontent.com/in/15368?v=4\",\"gravatar_id\":\"\",\"url\":\"https://api.github.com/users/github-actions%5Bbot%5D\",\"html_url\":\"https://github.com/apps/github-actions\",\"followers_url\":\"https://api.github.com/users/github-actions%5Bbot%5D/followers\",\"following_url\":\"https://api.github.com/users/github-actions%5Bbot%5D/following{/other_user}\",\"gists_url\":\"https://api.github.com/users/github-actions%5Bbot%5D/gists{/gist_id}\",\"starred_url\":\"https://api.github.com/users/github-actions%5Bbot%5D/starred{/owner}{/repo}\",\"subscriptions_url\":\"https://api.github.com/users/github-actions%5Bbot%5D/subscriptions\",\"organizations_url\":\"https://api.github.com/users/github-actions%5Bbot%5D/orgs\",\"repos_url\":\"https://api.github.com/users/github-actions%5Bbot%5D/repos\",\"events_url\":\"https://api.github.com/users/github-actions%5Bbot%5D/events{/privacy}\",\"received_events_url\":\"https://api.github.com/users/github-actions%5Bbot%5D/received_events\",\"type\":\"Bot\",\"site_admin\":false},\"content_type\":\"application/octet-stream\",\"state\":\"uploaded\",\"size\":40878002,\"download_count\":3,\"created_at\":\"2023-03-02T01:23:27Z\",\"updated_at\":\"2023-03-02T01:23:29Z\",\"browser_download_url\":\"https://github.com/kaskada-ai/kaskada/releases/download/engine%40v0.2.0/kaskada-manager-darwin-arm64\"},{\"url\":\"https://api.github.com/repos/kaskada-ai/kaskada/releases/assets/97689475\",\"id\":97689475,\"node_id\":\"RA_kwDOI-hDGM4F0p-D\",\"name\":\"kaskada-manager-linux-amd64\",\"label\":\"\",\"uploader\":{\"login\":\"github-actions[bot]\",\"id\":41898282,\"node_id\":\"MDM6Qm90NDE4OTgyODI=\",\"avatar_url\":\"https://avatars.githubusercontent.com/in/15368?v=4\",\"gravatar_id\":\"\",\"url\":\"https://api.github.com/users/github-actions%5Bbot%5D\",\"html_url\":\"https://github.com/apps/github-actions\",\"followers_url\":\"https://api.github.com/users/github-actions%5Bbot%5D/followers\",\"following_url\":\"https://api.github.com/users/github-actions%5Bbot%5D/following{/other_user}\",\"gists_url\":\"https://api.github.com/users/github-actions%5Bbot%5D/gists{/gist_id}\",\"starred_url\":\"https://api.github.com/users/github-actions%5Bbot%5D/starred{/owner}{/repo}\",\"subscriptions_url\":\"https://api.github.com/users/github-actions%5Bbot%5D/subscriptions\",\"organizations_url\":\"https://api.github.com/users/github-actions%5Bbot%5D/orgs\",\"repos_url\":\"https://api.github.com/users/github-actions%5Bbot%5D/repos\",\"events_url\":\"https://api.github.com/users/github-actions%5Bbot%5D/events{/privacy}\",\"received_events_url\":\"https://api.github.com/users/github-actions%5Bbot%5D/received_events\",\"type\":\"Bot\",\"site_admin\":false},\"content_type\":\"application/octet-stream\",\"state\":\"uploaded\",\"size\":37372072,\"download_count\":1,\"created_at\":\"2023-03-02T01:08:09Z\",\"updated_at\":\"2023-03-02T01:08:11Z\",\"browser_download_url\":\"https://github.com/kaskada-ai/kaskada/releases/download/engine%40v0.2.0/kaskada-manager-linux-amd64\"},{\"url\":\"https://api.github.com/repos/kaskada-ai/kaskada/releases/assets/97691062\",\"id\":97691062,\"node_id\":\"RA_kwDOI-hDGM4F0qW2\",\"name\":\"kaskada-manager-windows-amd64.exe\",\"label\":\"\",\"uploader\":{\"login\":\"github-actions[bot]\",\"id\":41898282,\"node_id\":\"MDM6Qm90NDE4OTgyODI=\",\"avatar_url\":\"https://avatars.githubusercontent.com/in/15368?v=4\",\"gravatar_id\":\"\",\"url\":\"https://api.github.com/users/github-actions%5Bbot%5D\",\"html_url\":\"https://github.com/apps/github-actions\",\"followers_url\":\"https://api.github.com/users/github-actions%5Bbot%5D/followers\",\"following_url\":\"https://api.github.com/users/github-actions%5Bbot%5D/following{/other_user}\",\"gists_url\":\"https://api.github.com/users/github-actions%5Bbot%5D/gists{/gist_id}\",\"starred_url\":\"https://api.github.com/users/github-actions%5Bbot%5D/starred{/owner}{/repo}\",\"subscriptions_url\":\"https://api.github.com/users/github-actions%5Bbot%5D/subscriptions\",\"organizations_url\":\"https://api.github.com/users/github-actions%5Bbot%5D/orgs\",\"repos_url\":\"https://api.github.com/users/github-actions%5Bbot%5D/repos\",\"events_url\":\"https://api.github.com/users/github-actions%5Bbot%5D/events{/privacy}\",\"received_events_url\":\"https://api.github.com/users/github-actions%5Bbot%5D/received_events\",\"type\":\"Bot\",\"site_admin\":false},\"content_type\":\"application/x-msdownload\",\"state\":\"uploaded\",\"size\":37905920,\"download_count\":0,\"created_at\":\"2023-03-02T01:22:56Z\",\"updated_at\":\"2023-03-02T01:22:57Z\",\"browser_download_url\":\"https://github.com/kaskada-ai/kaskada/releases/download/engine%40v0.2.0/kaskada-manager-windows-amd64.exe\"}]\n"
     ]
    },
    {
     "name": "stdout",
     "output_type": "stream",
     "text": [
      "INFO:kaskada.api.release:Skipping download. Using binary: /Users/jordan.frazier/.cache/kaskada/bin/engine@v0.2.0/kaskada-engine\n",
      "INFO:kaskada.api.release:Skipping download. Using binary: /Users/jordan.frazier/.cache/kaskada/bin/engine@v0.2.0/kaskada-manager\n",
      "INFO:kaskada.api.session:Initializing manager process\n",
      "INFO:kaskada.api.session:Initializing engine process\n",
      "INFO:kaskada.api.session:Successfully connected to session.\n"
     ]
    },
    {
     "data": {
      "text/html": [
       "<style>table.kda_table {\n",
       "    border: 1px solid grey !important;\n",
       "    border-collapse: collapse !important;\n",
       "    border-spacing: 0 !important;\n",
       "    font-size: 14px !important;\n",
       "    margin-bottom: 6px !important;\n",
       "}\n",
       "\n",
       "table.kda_table table {\n",
       "    margin-bottom: 0 !important;\n",
       "}\n",
       "\n",
       ".kda_table td, .kda_table th {\n",
       "    border: 1px solid grey !important;\n",
       "    border-collapse: collapse !important;\n",
       "    padding: 6px !important;\n",
       "    text-align: left !important;\n",
       "    vertical-align: top !important;\n",
       "}\n",
       "\n",
       ".kda_table tr {\n",
       "    background-color: inherit !important;\n",
       "}\n",
       "\n",
       "/* Style the tab */\n",
       ".kda_tab {\n",
       "    overflow: hidden;\n",
       "    border-bottom: 1px solid grey;\n",
       "    background-color: inherit;\n",
       "}\n",
       "\n",
       "/* Style the buttons that are used to open the tab content */\n",
       ".kda_tab button {\n",
       "    background-color: inherit;\n",
       "    border-top: 1px solid grey;\n",
       "    border-right: 1px solid grey;\n",
       "    border-left: 1px solid grey;\n",
       "    border-bottom: none;\n",
       "    border-radius: 5px 5px 0px 0px;\n",
       "    color: inherit;\n",
       "    cursor: pointer;\n",
       "    float: left;\n",
       "    margin: 2px 8px 0px 2px;\n",
       "    outline: none;\n",
       "    padding: 5px 16px;\n",
       "    transition: 0.3s;\n",
       "}\n",
       "\n",
       "/* Change background color of buttons on hover */\n",
       ".kda_tab button:hover {\n",
       "    background-color: grey;\n",
       "}\n",
       "\n",
       "/* Create an active/current tablink class */\n",
       ".kda_tab button.kda_active {\n",
       "    outline: 2px solid grey;\n",
       "}\n",
       "\n",
       "/* Style the tab content */\n",
       ".kda_tabcontent {\n",
       "    display: none;\n",
       "    padding: 6px;\n",
       "    border: 1px solid grey;\n",
       "    border-top: none;\n",
       "}\n",
       "\n",
       ".kda_scroll_container {\n",
       "    max-height: 400px;\n",
       "    overflow: auto;\n",
       "}\n",
       "</style>"
      ],
      "text/plain": [
       "<IPython.core.display.HTML object>"
      ]
     },
     "metadata": {},
     "output_type": "display_data"
    },
    {
     "data": {
      "text/html": [
       "<script type=\"text/javascript\">function openTab(evt, tabName) {\n",
       "    // Declare all variables\n",
       "    var i, rootElement, tabcontent, tablinks, tabshow;\n",
       "\n",
       "    // Get all elements with class=\"tabcontent\" and hide them\n",
       "    rootElement = evt.currentTarget.parentElement.parentElement;\n",
       "    tabcontent = rootElement.getElementsByClassName(\"kda_tabcontent\");\n",
       "    for (i = 0; i < tabcontent.length; i++) {\n",
       "        tabcontent[i].style.display = \"none\";\n",
       "    }\n",
       "\n",
       "    // Get all elements with class=\"tablinks\" and remove the class \"active\"\n",
       "    tablinks = rootElement.getElementsByClassName(\"kda_tablinks\");\n",
       "    for (i = 0; i < tablinks.length; i++) {\n",
       "        tablinks[i].className = tablinks[i].className.replace(\" kda_active\", \"\");\n",
       "    }\n",
       "\n",
       "    // Show the current tab, and add an \"active\" class to the button that opened the tab\n",
       "    tabshow = rootElement.getElementsByClassName(tabName);\n",
       "    for (i = 0; i < tabshow.length; i++) {\n",
       "        tabshow[i].style.display = \"block\";\n",
       "    }\n",
       "    evt.currentTarget.className += \" kda_active\";\n",
       "}\n",
       "</script>"
      ],
      "text/plain": [
       "<IPython.core.display.HTML object>"
      ]
     },
     "metadata": {},
     "output_type": "display_data"
    },
    {
     "name": "stdout",
     "output_type": "stream",
     "text": [
      "INFO:kaskada.api.session:Stopping Kaskada Manager service\n",
      "INFO:kaskada.api.session:Stopping Kaskada Engine service\n"
     ]
    },
    {
     "name": "stderr",
     "output_type": "stream",
     "text": [
      "AttributeError: 'Session' object has no attribute 'download'\n"
     ]
    }
   ],
   "source": [
    "from kaskada.api.session import LocalBuilder\n",
    "\n",
    "\n",
    "\n",
    "# Set the logging level to debug\n",
    "import logging\n",
    "import importlib\n",
    "importlib.reload(logging) # This needs to happen since Jupyter sets the logging level already.\n",
    "logging.basicConfig(level=logging.DEBUG)\n",
    "session = LocalBuilder().build().download(False).build()\n"
   ]
  },
  {
   "cell_type": "markdown",
   "id": "6e4e2447",
   "metadata": {},
   "source": [
    "#### Create the table and load data\n"
   ]
  },
  {
   "cell_type": "code",
   "execution_count": 3,
   "id": "8f6b6947",
   "metadata": {},
   "outputs": [
    {
     "name": "stderr",
     "output_type": "stream",
     "text": [
      "DEBUG:kaskada.table:Create Tables Request: table {\n",
      "  table_name: \"transactions\"\n",
      "  time_column_name: \"transaction_time\"\n",
      "  entity_key_column_name: \"id\"\n",
      "}\n",
      "\n"
     ]
    },
    {
     "data": {
      "text/html": [
       "<div><div class=\"kda_tab\"><button class=\"kda_tablinks kda_active\" onclick=\"openTab(event, 'details')\">Details</button><button class=\"kda_tablinks\" onclick=\"openTab(event, 'raw')\">Raw</button></div><div class=\"details kda_tabcontent\" style=\"display:block;\"><div class=\"kda_scroll_container\"><table class=\"kda_table\"><tr><td><b>table</b></td><td><table class=\"kda_table\"><tr><td><b>table_name</b></td><td><pre>transactions</pre></td></tr><tr><td><b>entity_key_column_name</b></td><td><pre>id</pre></td></tr><tr><td><b>time_column_name</b></td><td><pre>transaction_time</pre></td></tr><tr><td><b>version</b></td><td><pre>0</pre></td></tr><tr><td><b>create_time</b></td><td><pre>2023-03-06T11:21:42.698005</pre></td></tr><tr><td><b>update_time</b></td><td><pre>2023-03-06T11:21:42.698005</pre></td></tr></table></td></tr><tr><td><b>request_details</b></td><td><table class=\"kda_table\"><tr><td><b>request_id</b></td><td><pre>ea2fc1c3cbdf9f48890c34c2961752f2</pre></td></tr></table></td></tr></table></div></div><div class=\"raw kda_tabcontent\" style=\"display:none;\"><div class=\"kda_scroll_container\"><pre>table {\n",
       "  table_id: \"a8506563-3322-47b0-9415-e00743fd48e2\"\n",
       "  table_name: \"transactions\"\n",
       "  time_column_name: \"transaction_time\"\n",
       "  entity_key_column_name: \"id\"\n",
       "  create_time {\n",
       "    seconds: 1678130502\n",
       "    nanos: 698005000\n",
       "  }\n",
       "  update_time {\n",
       "    seconds: 1678130502\n",
       "    nanos: 698005000\n",
       "  }\n",
       "  table_source {\n",
       "    kaskada {\n",
       "    }\n",
       "  }\n",
       "}\n",
       "request_details {\n",
       "  request_id: \"ea2fc1c3cbdf9f48890c34c2961752f2\"\n",
       "}\n",
       "</pre></div></div></div>"
      ],
      "text/plain": [
       "table {\n",
       "  table_id: \"a8506563-3322-47b0-9415-e00743fd48e2\"\n",
       "  table_name: \"transactions\"\n",
       "  time_column_name: \"transaction_time\"\n",
       "  entity_key_column_name: \"id\"\n",
       "  create_time {\n",
       "    seconds: 1678130502\n",
       "    nanos: 698005000\n",
       "  }\n",
       "  update_time {\n",
       "    seconds: 1678130502\n",
       "    nanos: 698005000\n",
       "  }\n",
       "  table_source {\n",
       "    kaskada {\n",
       "    }\n",
       "  }\n",
       "}\n",
       "request_details {\n",
       "  request_id: \"ea2fc1c3cbdf9f48890c34c2961752f2\"\n",
       "}"
      ]
     },
     "execution_count": 3,
     "metadata": {},
     "output_type": "execute_result"
    }
   ],
   "source": [
    "import kaskada.table\n",
    "\n",
    "\n",
    "kaskada.table.create_table('transactions', 'transaction_time', 'id')"
   ]
  },
  {
   "cell_type": "code",
   "execution_count": 5,
   "id": "973476ad",
   "metadata": {},
   "outputs": [
    {
     "name": "stderr",
     "output_type": "stream",
     "text": [
      "DEBUG:kaskada.table:Load Tables Request: table_name: \"transactions\"\n",
      "file_input {\n",
      "  file_type: FILE_TYPE_PARQUET\n",
      "  uri: \"file:///Users/jordan.frazier/Documents/Datastax/kaskada/clients/python/../../testdata/transactions/transactions_part1.parquet\"\n",
      "}\n",
      "\n"
     ]
    },
    {
     "data": {
      "text/html": [
       "<div><div class=\"kda_tab\"><button class=\"kda_tablinks kda_active\" onclick=\"openTab(event, 'details')\">Details</button><button class=\"kda_tablinks\" onclick=\"openTab(event, 'raw')\">Raw</button></div><div class=\"details kda_tabcontent\" style=\"display:block;\"><div class=\"kda_scroll_container\"><table class=\"kda_table\"><tr><td><b>data_token_id</b></td><td><pre>6226173f-89b0-4039-a7d5-76a3960cf84e</pre></td></tr><tr><td><b>request_details</b></td><td><table class=\"kda_table\"><tr><td><b>request_id</b></td><td><pre>6a08f1b5560684a6dad8b0b3bc9b94a7</pre></td></tr></table></td></tr></table></div></div><div class=\"raw kda_tabcontent\" style=\"display:none;\"><div class=\"kda_scroll_container\"><pre>data_token_id: \"6226173f-89b0-4039-a7d5-76a3960cf84e\"\n",
       "request_details {\n",
       "  request_id: \"6a08f1b5560684a6dad8b0b3bc9b94a7\"\n",
       "}\n",
       "</pre></div></div></div>"
      ],
      "text/plain": [
       "data_token_id: \"6226173f-89b0-4039-a7d5-76a3960cf84e\"\n",
       "request_details {\n",
       "  request_id: \"6a08f1b5560684a6dad8b0b3bc9b94a7\"\n",
       "}"
      ]
     },
     "execution_count": 5,
     "metadata": {},
     "output_type": "execute_result"
    }
   ],
   "source": [
    "kaskada.table.load('transactions', '../../testdata/transactions/transactions_part1.parquet')"
   ]
  },
  {
   "cell_type": "markdown",
   "id": "2ce43541",
   "metadata": {},
   "source": [
    "#### Create a referenceable query"
   ]
  },
  {
   "cell_type": "code",
   "execution_count": 6,
   "id": "35649c18",
   "metadata": {},
   "outputs": [],
   "source": [
    "%load_ext fenlmagic"
   ]
  },
  {
   "cell_type": "code",
   "execution_count": 9,
   "id": "cd42a0d2",
   "metadata": {},
   "outputs": [
    {
     "name": "stderr",
     "output_type": "stream",
     "text": [
      "AttributeError: 'QueryResult' object has no attribute 'query'\n"
     ]
    },
    {
     "data": {
      "text/plain": [
       "<fenlmagic.QueryResult at 0x13aec35b0>"
      ]
     },
     "execution_count": 9,
     "metadata": {},
     "output_type": "execute_result"
    }
   ],
   "source": [
    "%%fenl --result-behavior final-results --var my_query\n",
    "\n",
    "transactions "
   ]
  },
  {
   "cell_type": "markdown",
   "id": "ec1742a4",
   "metadata": {},
   "source": [
    "#### Create a materialization"
   ]
  },
  {
   "cell_type": "code",
   "execution_count": null,
   "id": "017eb64e",
   "metadata": {},
   "outputs": [],
   "source": [
    "from kaskada import materialization as materialize\n",
    "from kaskada.materialization import ObjectStoreDestination\n",
    "from kaskada.materialization import FileType\n",
    "\n",
    "# A Pulsar topic is composed of a \"tenant\", \"namespace\", and \"name\". Together, they comprise the `topic_url` in the format: `persistent://<tenant>/<namespace>/<name>`. Defaults are supplied if not specified.\n",
    "destination=ObjectStoreDestination(FileType.FILE_TYPE_CSV, \"file:///Users/jordan.frazier/Materialized_Results/prefix-object-store\")\n",
    "# TODo: test with trailing /\n",
    "\n",
    "# Creating a materialization runs the query and materializes results to your Pulsar topic. \n",
    "materialize.create_materialization(\n",
    "    name = \"my_materialization\",\n",
    "    query = my_query.query,\n",
    "    destination = destination,\n",
    "    views = [] \n",
    ")"
   ]
  },
  {
   "cell_type": "markdown",
   "id": "b2627d23",
   "metadata": {},
   "source": [
    "#### Consume events from your Pulsar topic \n",
    "# 1. Find your topic ID. make "
   ]
  },
  {
   "cell_type": "markdown",
   "id": "d5529502",
   "metadata": {},
   "source": [
    "#### Load new data "
   ]
  },
  {
   "cell_type": "code",
   "execution_count": null,
   "id": "f6ac2eea",
   "metadata": {},
   "outputs": [],
   "source": [
    "# Loading data into a table referenced by an existing materialization will cause the query \n",
    "# to materialize incremental results to your destination. \n",
    "#\n",
    "# In this example, we expect all events in `transaction_part2.parquet` to be materialized \n",
    "# to our topic.\n",
    "kaskada.table.load('transactions', '../testdata/transactions/transactions_part2.parquet')"
   ]
  },
  {
   "cell_type": "code",
   "execution_count": null,
   "id": "d6aefd74",
   "metadata": {},
   "outputs": [],
   "source": [
    "# `transactions_part3.parquet` contains late data, meaning events from this file occurred \n",
    "# sometime prior to the latest event in a previous input file. Kaskada will re-run the query\n",
    "# from a point in time at which the late data is processed in order relative to existing\n",
    "# input data. Therefore, we expect to see results materialized to your topic starting from\n",
    "# the earliest event time in `transactions_part3.parquet`.\n",
    "kaskada.table.load('transactions', '../testdata/transactions/transactions_part3.parquet')"
   ]
  },
  {
   "cell_type": "code",
   "execution_count": null,
   "id": "3ce5c64a",
   "metadata": {},
   "outputs": [],
   "source": []
  }
 ],
 "metadata": {
  "kernelspec": {
   "display_name": "Python 3 (ipykernel)",
   "language": "python",
   "name": "python3"
  },
  "language_info": {
   "codemirror_mode": {
    "name": "ipython",
    "version": 3
   },
   "file_extension": ".py",
   "mimetype": "text/x-python",
   "name": "python",
   "nbconvert_exporter": "python",
   "pygments_lexer": "ipython3",
   "version": "3.8.16"
  },
  "vscode": {
   "interpreter": {
    "hash": "bb639d6cc33030a5c542ecee9d922bcc5eba957f5c81d76c4f9da6c108e7b0d1"
   }
  }
 },
 "nbformat": 4,
 "nbformat_minor": 5
}
